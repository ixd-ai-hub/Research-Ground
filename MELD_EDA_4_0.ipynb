{
  "cells": [
    {
      "cell_type": "markdown",
      "metadata": {
        "id": "view-in-github",
        "colab_type": "text"
      },
      "source": [
        "<a href=\"https://colab.research.google.com/github/ixd-ai-hub/Research-Ground/blob/project%2FCU-865d7na0b-chat-emotion-analyzer/MELD_EDA_4_0.ipynb\" target=\"_parent\"><img src=\"https://colab.research.google.com/assets/colab-badge.svg\" alt=\"Open In Colab\"/></a>"
      ]
    },
    {
      "cell_type": "markdown",
      "metadata": {
        "id": "jrJ4MnbkiqRv"
      },
      "source": [
        "Changes done:\n",
        "\n",
        "\n",
        "* Deleted image.png\n",
        "* Deleted party test dialogue\n",
        "* Most common dialgue in each emotion\n",
        "* Max span for each emotion\n",
        "* Delete additional data columns- test\n",
        "* Deleted my code for continuous emotion span\n",
        "\n"
      ]
    },
    {
      "cell_type": "markdown",
      "metadata": {
        "id": "hWCKasp0bhMm"
      },
      "source": [
        "### Utils"
      ]
    },
    {
      "cell_type": "markdown",
      "metadata": {
        "id": "-gefn0-Tbs-W"
      },
      "source": [
        "#### Libraries"
      ]
    },
    {
      "cell_type": "code",
      "execution_count": null,
      "metadata": {
        "id": "sEuRnGBrbf7p"
      },
      "outputs": [],
      "source": [
        "from IPython.core.interactiveshell import InteractiveShell\n",
        "InteractiveShell.ast_node_interactivity = 'all'"
      ]
    },
    {
      "cell_type": "code",
      "execution_count": null,
      "metadata": {
        "colab": {
          "base_uri": "https://localhost:8080/"
        },
        "id": "TVZhomxIbmhP",
        "outputId": "9c753af4-95c2-4a8f-debb-3bf181f058e6"
      },
      "outputs": [
        {
          "output_type": "stream",
          "name": "stdout",
          "text": [
            "Drive already mounted at /content/drive; to attempt to forcibly remount, call drive.mount(\"/content/drive\", force_remount=True).\n"
          ]
        }
      ],
      "source": [
        "from google.colab import drive\n",
        "drive.mount('/content/drive')"
      ]
    },
    {
      "cell_type": "code",
      "execution_count": null,
      "metadata": {
        "id": "efwNl1c5bmfY"
      },
      "outputs": [],
      "source": [
        "import functools\n",
        "from collections import Counter, defaultdict\n",
        "from datetime import time, timedelta\n",
        "from typing import List, Dict, Any\n",
        "\n",
        "import pandas as pd\n",
        "import numpy as np\n",
        "from statistics import mode\n",
        "from wordcloud import WordCloud\n",
        "\n",
        "import seaborn as sns\n",
        "import matplotlib.pyplot as plt"
      ]
    },
    {
      "cell_type": "markdown",
      "metadata": {
        "id": "4rs624gybvQa"
      },
      "source": [
        "#### Functions"
      ]
    },
    {
      "cell_type": "code",
      "execution_count": null,
      "metadata": {
        "id": "N3IyvGF6bmdH"
      },
      "outputs": [],
      "source": [
        "# Decorator function\n",
        "def add_labels_and_title(title, x_label, y_label):\n",
        "    def decorator(func):\n",
        "        @functools.wraps(func)\n",
        "        def wrapper(*args, **kwargs):\n",
        "            # Call the original function to create the plot\n",
        "            plot = func(*args, **kwargs)\n",
        "\n",
        "            # Add labels and title\n",
        "            plt.xlabel(x_label)\n",
        "            plt.ylabel(y_label)\n",
        "            plt.title(title)\n",
        "\n",
        "            return plot  # Return the plot with labels and title\n",
        "\n",
        "        return wrapper\n",
        "    return decorator"
      ]
    },
    {
      "cell_type": "code",
      "execution_count": null,
      "metadata": {
        "id": "0KKFIGLwbz1y"
      },
      "outputs": [],
      "source": [
        "def plot_hist(df: pd.DataFrame, column: str, x_label: str=\"\", y_label: str=\"\", title: str=\"\") -> None:\n",
        "    plt.figure(figsize=(10, 6))\n",
        "    sns.histplot(data=df, x=column, bins=50)\n",
        "    plt.title(title)\n",
        "    plt.xlabel(x_label)\n",
        "    plt.ylabel(y_label)\n",
        "    plt.show()\n"
      ]
    },
    {
      "cell_type": "code",
      "execution_count": null,
      "metadata": {
        "id": "H3RSwg4QbzzO"
      },
      "outputs": [],
      "source": []
    },
    {
      "cell_type": "markdown",
      "metadata": {
        "id": "ZpPHfDBaOkDX"
      },
      "source": [
        "# General Data Statistics"
      ]
    },
    {
      "cell_type": "markdown",
      "metadata": {
        "id": "L7y7Ls958xNN"
      },
      "source": [
        "## Initialization"
      ]
    },
    {
      "cell_type": "code",
      "execution_count": null,
      "metadata": {
        "id": "eUXhrfwVcGlP"
      },
      "outputs": [],
      "source": [
        "# File path\n",
        "file_path =\"/content/drive/MyDrive/MELD_folder/MELD_test_sent_emo.csv\""
      ]
    },
    {
      "cell_type": "code",
      "execution_count": null,
      "metadata": {
        "colab": {
          "base_uri": "https://localhost:8080/",
          "height": 452
        },
        "id": "utKdpIp7GDvs",
        "outputId": "95277e16-6690-4692-bbdb-27e714f08419"
      },
      "outputs": [
        {
          "output_type": "execute_result",
          "data": {
            "text/plain": [
              "   Sr No.                                          Utterance Speaker  \\\n",
              "0       1  Why do all you’re coffee mugs have numbers on ...    Mark   \n",
              "1       2  Oh. That’s so Monica can keep track. That way ...  Rachel   \n",
              "2       3                                       Y'know what?  Rachel   \n",
              "3      19                     Come on, Lydia, you can do it.    Joey   \n",
              "4      20                                              Push!    Joey   \n",
              "\n",
              "    Emotion Sentiment  Dialogue_ID  Utterance_ID  Season  Episode  \\\n",
              "0  surprise  positive            0             0       3       19   \n",
              "1     anger  negative            0             1       3       19   \n",
              "2   neutral   neutral            0             2       3       19   \n",
              "3   neutral   neutral            1             0       1       23   \n",
              "4       joy  positive            1             1       1       23   \n",
              "\n",
              "      StartTime       EndTime  \n",
              "0  00:14:38,127  00:14:40,378  \n",
              "1  00:14:40,629  00:14:47,385  \n",
              "2  00:14:56,353  00:14:57,520  \n",
              "3   0:10:44,769   0:10:46,146  \n",
              "4   0:10:46,146   0:10:46,833  "
            ],
            "text/html": [
              "\n",
              "  <div id=\"df-f1d6ed60-e0de-45a4-a590-66f3e910bb5f\" class=\"colab-df-container\">\n",
              "    <div>\n",
              "<style scoped>\n",
              "    .dataframe tbody tr th:only-of-type {\n",
              "        vertical-align: middle;\n",
              "    }\n",
              "\n",
              "    .dataframe tbody tr th {\n",
              "        vertical-align: top;\n",
              "    }\n",
              "\n",
              "    .dataframe thead th {\n",
              "        text-align: right;\n",
              "    }\n",
              "</style>\n",
              "<table border=\"1\" class=\"dataframe\">\n",
              "  <thead>\n",
              "    <tr style=\"text-align: right;\">\n",
              "      <th></th>\n",
              "      <th>Sr No.</th>\n",
              "      <th>Utterance</th>\n",
              "      <th>Speaker</th>\n",
              "      <th>Emotion</th>\n",
              "      <th>Sentiment</th>\n",
              "      <th>Dialogue_ID</th>\n",
              "      <th>Utterance_ID</th>\n",
              "      <th>Season</th>\n",
              "      <th>Episode</th>\n",
              "      <th>StartTime</th>\n",
              "      <th>EndTime</th>\n",
              "    </tr>\n",
              "  </thead>\n",
              "  <tbody>\n",
              "    <tr>\n",
              "      <th>0</th>\n",
              "      <td>1</td>\n",
              "      <td>Why do all you’re coffee mugs have numbers on ...</td>\n",
              "      <td>Mark</td>\n",
              "      <td>surprise</td>\n",
              "      <td>positive</td>\n",
              "      <td>0</td>\n",
              "      <td>0</td>\n",
              "      <td>3</td>\n",
              "      <td>19</td>\n",
              "      <td>00:14:38,127</td>\n",
              "      <td>00:14:40,378</td>\n",
              "    </tr>\n",
              "    <tr>\n",
              "      <th>1</th>\n",
              "      <td>2</td>\n",
              "      <td>Oh. That’s so Monica can keep track. That way ...</td>\n",
              "      <td>Rachel</td>\n",
              "      <td>anger</td>\n",
              "      <td>negative</td>\n",
              "      <td>0</td>\n",
              "      <td>1</td>\n",
              "      <td>3</td>\n",
              "      <td>19</td>\n",
              "      <td>00:14:40,629</td>\n",
              "      <td>00:14:47,385</td>\n",
              "    </tr>\n",
              "    <tr>\n",
              "      <th>2</th>\n",
              "      <td>3</td>\n",
              "      <td>Y'know what?</td>\n",
              "      <td>Rachel</td>\n",
              "      <td>neutral</td>\n",
              "      <td>neutral</td>\n",
              "      <td>0</td>\n",
              "      <td>2</td>\n",
              "      <td>3</td>\n",
              "      <td>19</td>\n",
              "      <td>00:14:56,353</td>\n",
              "      <td>00:14:57,520</td>\n",
              "    </tr>\n",
              "    <tr>\n",
              "      <th>3</th>\n",
              "      <td>19</td>\n",
              "      <td>Come on, Lydia, you can do it.</td>\n",
              "      <td>Joey</td>\n",
              "      <td>neutral</td>\n",
              "      <td>neutral</td>\n",
              "      <td>1</td>\n",
              "      <td>0</td>\n",
              "      <td>1</td>\n",
              "      <td>23</td>\n",
              "      <td>0:10:44,769</td>\n",
              "      <td>0:10:46,146</td>\n",
              "    </tr>\n",
              "    <tr>\n",
              "      <th>4</th>\n",
              "      <td>20</td>\n",
              "      <td>Push!</td>\n",
              "      <td>Joey</td>\n",
              "      <td>joy</td>\n",
              "      <td>positive</td>\n",
              "      <td>1</td>\n",
              "      <td>1</td>\n",
              "      <td>1</td>\n",
              "      <td>23</td>\n",
              "      <td>0:10:46,146</td>\n",
              "      <td>0:10:46,833</td>\n",
              "    </tr>\n",
              "  </tbody>\n",
              "</table>\n",
              "</div>\n",
              "    <div class=\"colab-df-buttons\">\n",
              "\n",
              "  <div class=\"colab-df-container\">\n",
              "    <button class=\"colab-df-convert\" onclick=\"convertToInteractive('df-f1d6ed60-e0de-45a4-a590-66f3e910bb5f')\"\n",
              "            title=\"Convert this dataframe to an interactive table.\"\n",
              "            style=\"display:none;\">\n",
              "\n",
              "  <svg xmlns=\"http://www.w3.org/2000/svg\" height=\"24px\" viewBox=\"0 -960 960 960\">\n",
              "    <path d=\"M120-120v-720h720v720H120Zm60-500h600v-160H180v160Zm220 220h160v-160H400v160Zm0 220h160v-160H400v160ZM180-400h160v-160H180v160Zm440 0h160v-160H620v160ZM180-180h160v-160H180v160Zm440 0h160v-160H620v160Z\"/>\n",
              "  </svg>\n",
              "    </button>\n",
              "\n",
              "  <style>\n",
              "    .colab-df-container {\n",
              "      display:flex;\n",
              "      gap: 12px;\n",
              "    }\n",
              "\n",
              "    .colab-df-convert {\n",
              "      background-color: #E8F0FE;\n",
              "      border: none;\n",
              "      border-radius: 50%;\n",
              "      cursor: pointer;\n",
              "      display: none;\n",
              "      fill: #1967D2;\n",
              "      height: 32px;\n",
              "      padding: 0 0 0 0;\n",
              "      width: 32px;\n",
              "    }\n",
              "\n",
              "    .colab-df-convert:hover {\n",
              "      background-color: #E2EBFA;\n",
              "      box-shadow: 0px 1px 2px rgba(60, 64, 67, 0.3), 0px 1px 3px 1px rgba(60, 64, 67, 0.15);\n",
              "      fill: #174EA6;\n",
              "    }\n",
              "\n",
              "    .colab-df-buttons div {\n",
              "      margin-bottom: 4px;\n",
              "    }\n",
              "\n",
              "    [theme=dark] .colab-df-convert {\n",
              "      background-color: #3B4455;\n",
              "      fill: #D2E3FC;\n",
              "    }\n",
              "\n",
              "    [theme=dark] .colab-df-convert:hover {\n",
              "      background-color: #434B5C;\n",
              "      box-shadow: 0px 1px 3px 1px rgba(0, 0, 0, 0.15);\n",
              "      filter: drop-shadow(0px 1px 2px rgba(0, 0, 0, 0.3));\n",
              "      fill: #FFFFFF;\n",
              "    }\n",
              "  </style>\n",
              "\n",
              "    <script>\n",
              "      const buttonEl =\n",
              "        document.querySelector('#df-f1d6ed60-e0de-45a4-a590-66f3e910bb5f button.colab-df-convert');\n",
              "      buttonEl.style.display =\n",
              "        google.colab.kernel.accessAllowed ? 'block' : 'none';\n",
              "\n",
              "      async function convertToInteractive(key) {\n",
              "        const element = document.querySelector('#df-f1d6ed60-e0de-45a4-a590-66f3e910bb5f');\n",
              "        const dataTable =\n",
              "          await google.colab.kernel.invokeFunction('convertToInteractive',\n",
              "                                                    [key], {});\n",
              "        if (!dataTable) return;\n",
              "\n",
              "        const docLinkHtml = 'Like what you see? Visit the ' +\n",
              "          '<a target=\"_blank\" href=https://colab.research.google.com/notebooks/data_table.ipynb>data table notebook</a>'\n",
              "          + ' to learn more about interactive tables.';\n",
              "        element.innerHTML = '';\n",
              "        dataTable['output_type'] = 'display_data';\n",
              "        await google.colab.output.renderOutput(dataTable, element);\n",
              "        const docLink = document.createElement('div');\n",
              "        docLink.innerHTML = docLinkHtml;\n",
              "        element.appendChild(docLink);\n",
              "      }\n",
              "    </script>\n",
              "  </div>\n",
              "\n",
              "\n",
              "<div id=\"df-831681f1-6219-4121-8181-9dc29061ba24\">\n",
              "  <button class=\"colab-df-quickchart\" onclick=\"quickchart('df-831681f1-6219-4121-8181-9dc29061ba24')\"\n",
              "            title=\"Suggest charts.\"\n",
              "            style=\"display:none;\">\n",
              "\n",
              "<svg xmlns=\"http://www.w3.org/2000/svg\" height=\"24px\"viewBox=\"0 0 24 24\"\n",
              "     width=\"24px\">\n",
              "    <g>\n",
              "        <path d=\"M19 3H5c-1.1 0-2 .9-2 2v14c0 1.1.9 2 2 2h14c1.1 0 2-.9 2-2V5c0-1.1-.9-2-2-2zM9 17H7v-7h2v7zm4 0h-2V7h2v10zm4 0h-2v-4h2v4z\"/>\n",
              "    </g>\n",
              "</svg>\n",
              "  </button>\n",
              "\n",
              "<style>\n",
              "  .colab-df-quickchart {\n",
              "      --bg-color: #E8F0FE;\n",
              "      --fill-color: #1967D2;\n",
              "      --hover-bg-color: #E2EBFA;\n",
              "      --hover-fill-color: #174EA6;\n",
              "      --disabled-fill-color: #AAA;\n",
              "      --disabled-bg-color: #DDD;\n",
              "  }\n",
              "\n",
              "  [theme=dark] .colab-df-quickchart {\n",
              "      --bg-color: #3B4455;\n",
              "      --fill-color: #D2E3FC;\n",
              "      --hover-bg-color: #434B5C;\n",
              "      --hover-fill-color: #FFFFFF;\n",
              "      --disabled-bg-color: #3B4455;\n",
              "      --disabled-fill-color: #666;\n",
              "  }\n",
              "\n",
              "  .colab-df-quickchart {\n",
              "    background-color: var(--bg-color);\n",
              "    border: none;\n",
              "    border-radius: 50%;\n",
              "    cursor: pointer;\n",
              "    display: none;\n",
              "    fill: var(--fill-color);\n",
              "    height: 32px;\n",
              "    padding: 0;\n",
              "    width: 32px;\n",
              "  }\n",
              "\n",
              "  .colab-df-quickchart:hover {\n",
              "    background-color: var(--hover-bg-color);\n",
              "    box-shadow: 0 1px 2px rgba(60, 64, 67, 0.3), 0 1px 3px 1px rgba(60, 64, 67, 0.15);\n",
              "    fill: var(--button-hover-fill-color);\n",
              "  }\n",
              "\n",
              "  .colab-df-quickchart-complete:disabled,\n",
              "  .colab-df-quickchart-complete:disabled:hover {\n",
              "    background-color: var(--disabled-bg-color);\n",
              "    fill: var(--disabled-fill-color);\n",
              "    box-shadow: none;\n",
              "  }\n",
              "\n",
              "  .colab-df-spinner {\n",
              "    border: 2px solid var(--fill-color);\n",
              "    border-color: transparent;\n",
              "    border-bottom-color: var(--fill-color);\n",
              "    animation:\n",
              "      spin 1s steps(1) infinite;\n",
              "  }\n",
              "\n",
              "  @keyframes spin {\n",
              "    0% {\n",
              "      border-color: transparent;\n",
              "      border-bottom-color: var(--fill-color);\n",
              "      border-left-color: var(--fill-color);\n",
              "    }\n",
              "    20% {\n",
              "      border-color: transparent;\n",
              "      border-left-color: var(--fill-color);\n",
              "      border-top-color: var(--fill-color);\n",
              "    }\n",
              "    30% {\n",
              "      border-color: transparent;\n",
              "      border-left-color: var(--fill-color);\n",
              "      border-top-color: var(--fill-color);\n",
              "      border-right-color: var(--fill-color);\n",
              "    }\n",
              "    40% {\n",
              "      border-color: transparent;\n",
              "      border-right-color: var(--fill-color);\n",
              "      border-top-color: var(--fill-color);\n",
              "    }\n",
              "    60% {\n",
              "      border-color: transparent;\n",
              "      border-right-color: var(--fill-color);\n",
              "    }\n",
              "    80% {\n",
              "      border-color: transparent;\n",
              "      border-right-color: var(--fill-color);\n",
              "      border-bottom-color: var(--fill-color);\n",
              "    }\n",
              "    90% {\n",
              "      border-color: transparent;\n",
              "      border-bottom-color: var(--fill-color);\n",
              "    }\n",
              "  }\n",
              "</style>\n",
              "\n",
              "  <script>\n",
              "    async function quickchart(key) {\n",
              "      const quickchartButtonEl =\n",
              "        document.querySelector('#' + key + ' button');\n",
              "      quickchartButtonEl.disabled = true;  // To prevent multiple clicks.\n",
              "      quickchartButtonEl.classList.add('colab-df-spinner');\n",
              "      try {\n",
              "        const charts = await google.colab.kernel.invokeFunction(\n",
              "            'suggestCharts', [key], {});\n",
              "      } catch (error) {\n",
              "        console.error('Error during call to suggestCharts:', error);\n",
              "      }\n",
              "      quickchartButtonEl.classList.remove('colab-df-spinner');\n",
              "      quickchartButtonEl.classList.add('colab-df-quickchart-complete');\n",
              "    }\n",
              "    (() => {\n",
              "      let quickchartButtonEl =\n",
              "        document.querySelector('#df-831681f1-6219-4121-8181-9dc29061ba24 button');\n",
              "      quickchartButtonEl.style.display =\n",
              "        google.colab.kernel.accessAllowed ? 'block' : 'none';\n",
              "    })();\n",
              "  </script>\n",
              "</div>\n",
              "    </div>\n",
              "  </div>\n"
            ]
          },
          "metadata": {},
          "execution_count": 17
        }
      ],
      "source": [
        "# reading csv file\n",
        "df = pd.read_csv(file_path)\n",
        "df.head()"
      ]
    },
    {
      "cell_type": "markdown",
      "metadata": {
        "id": "iqjdIwAC8_sc"
      },
      "source": [
        "## Info about the dataframe"
      ]
    },
    {
      "cell_type": "code",
      "execution_count": null,
      "metadata": {
        "colab": {
          "base_uri": "https://localhost:8080/"
        },
        "id": "4mxYNXkGGDvv",
        "outputId": "9309534f-de11-479f-e3f4-0bdee5aebd2f"
      },
      "outputs": [
        {
          "output_type": "stream",
          "name": "stdout",
          "text": [
            "There are 2610 rows and 11 columns\n"
          ]
        }
      ],
      "source": [
        "nRow, nCol = df.shape\n",
        "print(f'There are {nRow} rows and {nCol} columns')"
      ]
    },
    {
      "cell_type": "code",
      "execution_count": null,
      "metadata": {
        "colab": {
          "base_uri": "https://localhost:8080/"
        },
        "id": "QjltmD-UGDvz",
        "outputId": "10105287-74f3-4633-826d-01a02522e10e"
      },
      "outputs": [
        {
          "output_type": "stream",
          "name": "stdout",
          "text": [
            "data table columns : Index(['Sr No.', 'Utterance', 'Speaker', 'Emotion', 'Sentiment', 'Dialogue_ID',\n",
            "       'Utterance_ID', 'Season', 'Episode', 'StartTime', 'EndTime'],\n",
            "      dtype='object')\n"
          ]
        }
      ],
      "source": [
        "print(f\"data table columns : {df.columns}\")"
      ]
    },
    {
      "cell_type": "markdown",
      "metadata": {
        "id": "-JpgthMqX0iZ"
      },
      "source": [
        "Column Specification\n",
        "\n",
        "| Column Name  | Description                                                                                                                                                                                                                                                                                                                                                                                                                                                                                                                                            |\n",
        "|--------------|--------------------------------------------------------------------------------------------------------------------------------------------------------------------------------------------------------------------------------------------------------------------------------------------------------------------------------------------------------------------------------------------------------------------------------------------------------------------------------------------------------------------------------------------------------|\n",
        "| Sr No.       | Serial numbers of the utterances mainly for referencing the utterances in case of different versions or multiple copies with different subsets |\n",
        "| Utterance    | Individual utterances from EmotionLines as a string.                                                                                                                                                                                                                                                                                                                                                                                                                                                                                                   |\n",
        "| Speaker      | Name of the speaker associated with the utterance.                                                                                                                                                                                                                                                                                                                                                                                                                                                                                                     |\n",
        "| Emotion      | The emotion (neutral, joy, sadness, anger, surprise, fear, disgust) expressed by the speaker in the utterance.                                                                                                                                                                                                                                                                                                                                                                                                                                         |\n",
        "| Sentiment    | The sentiment (positive, neutral, negative) expressed by the speaker in the utterance.                                                                                                                                                                                                                                                                                                                                                                                                                                                                 |\n",
        "| Dialogue_ID  | The index of the dialogue starting from 0.                                                                                                                                                                                                                                                                                                                                                                                                                                                                                                             |\n",
        "| Utterance_ID | The index of the particular utterance in the dialogue starting from 0.                                                                                                                                                                                                                                                                                                                                                                                                                                                                                 |\n",
        "| Season       | The season no. of Friends TV Show to which a particular utterance belongs.                                                                                                                                                                                                                                                                                                                                                                                                                                                                             |\n",
        "| Episode      | The episode no. of Friends TV Show in a particular season to which the utterance belongs.                                                                                                                                                                                                                                                                                                                                                                                                                                                              |\n",
        "| StartTime    | The starting time of the utterance in the given episode in the format 'hh:mm:ss,ms'.                                                                                                                                                                                                                                                                                                                                                                                                                                                                   |\n",
        "| EndTime      | The ending time of the utterance in the given episode in the format 'hh:mm:ss,ms'.                                                                                                                                                                                                                                                                                                                                                                                                                                                                     |\n"
      ]
    },
    {
      "cell_type": "code",
      "execution_count": null,
      "metadata": {
        "colab": {
          "base_uri": "https://localhost:8080/"
        },
        "id": "2CJ941IPhdzt",
        "outputId": "d741f5e0-f5ac-4ecd-9dad-c02d6fcc79ac"
      },
      "outputs": [
        {
          "output_type": "stream",
          "name": "stdout",
          "text": [
            "<class 'pandas.core.frame.DataFrame'>\n",
            "RangeIndex: 2610 entries, 0 to 2609\n",
            "Data columns (total 11 columns):\n",
            " #   Column        Non-Null Count  Dtype \n",
            "---  ------        --------------  ----- \n",
            " 0   Sr No.        2610 non-null   int64 \n",
            " 1   Utterance     2610 non-null   object\n",
            " 2   Speaker       2610 non-null   object\n",
            " 3   Emotion       2610 non-null   object\n",
            " 4   Sentiment     2610 non-null   object\n",
            " 5   Dialogue_ID   2610 non-null   int64 \n",
            " 6   Utterance_ID  2610 non-null   int64 \n",
            " 7   Season        2610 non-null   int64 \n",
            " 8   Episode       2610 non-null   int64 \n",
            " 9   StartTime     2610 non-null   object\n",
            " 10  EndTime       2610 non-null   object\n",
            "dtypes: int64(5), object(6)\n",
            "memory usage: 224.4+ KB\n"
          ]
        }
      ],
      "source": [
        "df.info()"
      ]
    },
    {
      "cell_type": "code",
      "execution_count": null,
      "metadata": {
        "colab": {
          "base_uri": "https://localhost:8080/",
          "height": 300
        },
        "id": "jkMQ25wlGDvw",
        "outputId": "6d39ec38-e70d-4b39-c991-dda9a3ec6f2f"
      },
      "outputs": [
        {
          "output_type": "execute_result",
          "data": {
            "text/plain": [
              "            Sr No.  Dialogue_ID  Utterance_ID       Season      Episode\n",
              "count  2610.000000  2610.000000   2610.000000  2610.000000  2610.000000\n",
              "mean   1382.552107   140.368582      5.918774     4.804981    12.497318\n",
              "std     793.009903    79.549222      4.991015     2.247074     7.224232\n",
              "min       1.000000     0.000000      0.000000     1.000000     1.000000\n",
              "25%     700.250000    72.000000      2.000000     3.000000     6.000000\n",
              "50%    1371.500000   139.000000      5.000000     5.000000    12.000000\n",
              "75%    2068.500000   206.750000      9.000000     6.000000    20.000000\n",
              "max    2764.000000   279.000000     32.000000     9.000000    25.000000"
            ],
            "text/html": [
              "\n",
              "  <div id=\"df-60a029c0-251a-4504-b90b-40fb40afccc3\" class=\"colab-df-container\">\n",
              "    <div>\n",
              "<style scoped>\n",
              "    .dataframe tbody tr th:only-of-type {\n",
              "        vertical-align: middle;\n",
              "    }\n",
              "\n",
              "    .dataframe tbody tr th {\n",
              "        vertical-align: top;\n",
              "    }\n",
              "\n",
              "    .dataframe thead th {\n",
              "        text-align: right;\n",
              "    }\n",
              "</style>\n",
              "<table border=\"1\" class=\"dataframe\">\n",
              "  <thead>\n",
              "    <tr style=\"text-align: right;\">\n",
              "      <th></th>\n",
              "      <th>Sr No.</th>\n",
              "      <th>Dialogue_ID</th>\n",
              "      <th>Utterance_ID</th>\n",
              "      <th>Season</th>\n",
              "      <th>Episode</th>\n",
              "    </tr>\n",
              "  </thead>\n",
              "  <tbody>\n",
              "    <tr>\n",
              "      <th>count</th>\n",
              "      <td>2610.000000</td>\n",
              "      <td>2610.000000</td>\n",
              "      <td>2610.000000</td>\n",
              "      <td>2610.000000</td>\n",
              "      <td>2610.000000</td>\n",
              "    </tr>\n",
              "    <tr>\n",
              "      <th>mean</th>\n",
              "      <td>1382.552107</td>\n",
              "      <td>140.368582</td>\n",
              "      <td>5.918774</td>\n",
              "      <td>4.804981</td>\n",
              "      <td>12.497318</td>\n",
              "    </tr>\n",
              "    <tr>\n",
              "      <th>std</th>\n",
              "      <td>793.009903</td>\n",
              "      <td>79.549222</td>\n",
              "      <td>4.991015</td>\n",
              "      <td>2.247074</td>\n",
              "      <td>7.224232</td>\n",
              "    </tr>\n",
              "    <tr>\n",
              "      <th>min</th>\n",
              "      <td>1.000000</td>\n",
              "      <td>0.000000</td>\n",
              "      <td>0.000000</td>\n",
              "      <td>1.000000</td>\n",
              "      <td>1.000000</td>\n",
              "    </tr>\n",
              "    <tr>\n",
              "      <th>25%</th>\n",
              "      <td>700.250000</td>\n",
              "      <td>72.000000</td>\n",
              "      <td>2.000000</td>\n",
              "      <td>3.000000</td>\n",
              "      <td>6.000000</td>\n",
              "    </tr>\n",
              "    <tr>\n",
              "      <th>50%</th>\n",
              "      <td>1371.500000</td>\n",
              "      <td>139.000000</td>\n",
              "      <td>5.000000</td>\n",
              "      <td>5.000000</td>\n",
              "      <td>12.000000</td>\n",
              "    </tr>\n",
              "    <tr>\n",
              "      <th>75%</th>\n",
              "      <td>2068.500000</td>\n",
              "      <td>206.750000</td>\n",
              "      <td>9.000000</td>\n",
              "      <td>6.000000</td>\n",
              "      <td>20.000000</td>\n",
              "    </tr>\n",
              "    <tr>\n",
              "      <th>max</th>\n",
              "      <td>2764.000000</td>\n",
              "      <td>279.000000</td>\n",
              "      <td>32.000000</td>\n",
              "      <td>9.000000</td>\n",
              "      <td>25.000000</td>\n",
              "    </tr>\n",
              "  </tbody>\n",
              "</table>\n",
              "</div>\n",
              "    <div class=\"colab-df-buttons\">\n",
              "\n",
              "  <div class=\"colab-df-container\">\n",
              "    <button class=\"colab-df-convert\" onclick=\"convertToInteractive('df-60a029c0-251a-4504-b90b-40fb40afccc3')\"\n",
              "            title=\"Convert this dataframe to an interactive table.\"\n",
              "            style=\"display:none;\">\n",
              "\n",
              "  <svg xmlns=\"http://www.w3.org/2000/svg\" height=\"24px\" viewBox=\"0 -960 960 960\">\n",
              "    <path d=\"M120-120v-720h720v720H120Zm60-500h600v-160H180v160Zm220 220h160v-160H400v160Zm0 220h160v-160H400v160ZM180-400h160v-160H180v160Zm440 0h160v-160H620v160ZM180-180h160v-160H180v160Zm440 0h160v-160H620v160Z\"/>\n",
              "  </svg>\n",
              "    </button>\n",
              "\n",
              "  <style>\n",
              "    .colab-df-container {\n",
              "      display:flex;\n",
              "      gap: 12px;\n",
              "    }\n",
              "\n",
              "    .colab-df-convert {\n",
              "      background-color: #E8F0FE;\n",
              "      border: none;\n",
              "      border-radius: 50%;\n",
              "      cursor: pointer;\n",
              "      display: none;\n",
              "      fill: #1967D2;\n",
              "      height: 32px;\n",
              "      padding: 0 0 0 0;\n",
              "      width: 32px;\n",
              "    }\n",
              "\n",
              "    .colab-df-convert:hover {\n",
              "      background-color: #E2EBFA;\n",
              "      box-shadow: 0px 1px 2px rgba(60, 64, 67, 0.3), 0px 1px 3px 1px rgba(60, 64, 67, 0.15);\n",
              "      fill: #174EA6;\n",
              "    }\n",
              "\n",
              "    .colab-df-buttons div {\n",
              "      margin-bottom: 4px;\n",
              "    }\n",
              "\n",
              "    [theme=dark] .colab-df-convert {\n",
              "      background-color: #3B4455;\n",
              "      fill: #D2E3FC;\n",
              "    }\n",
              "\n",
              "    [theme=dark] .colab-df-convert:hover {\n",
              "      background-color: #434B5C;\n",
              "      box-shadow: 0px 1px 3px 1px rgba(0, 0, 0, 0.15);\n",
              "      filter: drop-shadow(0px 1px 2px rgba(0, 0, 0, 0.3));\n",
              "      fill: #FFFFFF;\n",
              "    }\n",
              "  </style>\n",
              "\n",
              "    <script>\n",
              "      const buttonEl =\n",
              "        document.querySelector('#df-60a029c0-251a-4504-b90b-40fb40afccc3 button.colab-df-convert');\n",
              "      buttonEl.style.display =\n",
              "        google.colab.kernel.accessAllowed ? 'block' : 'none';\n",
              "\n",
              "      async function convertToInteractive(key) {\n",
              "        const element = document.querySelector('#df-60a029c0-251a-4504-b90b-40fb40afccc3');\n",
              "        const dataTable =\n",
              "          await google.colab.kernel.invokeFunction('convertToInteractive',\n",
              "                                                    [key], {});\n",
              "        if (!dataTable) return;\n",
              "\n",
              "        const docLinkHtml = 'Like what you see? Visit the ' +\n",
              "          '<a target=\"_blank\" href=https://colab.research.google.com/notebooks/data_table.ipynb>data table notebook</a>'\n",
              "          + ' to learn more about interactive tables.';\n",
              "        element.innerHTML = '';\n",
              "        dataTable['output_type'] = 'display_data';\n",
              "        await google.colab.output.renderOutput(dataTable, element);\n",
              "        const docLink = document.createElement('div');\n",
              "        docLink.innerHTML = docLinkHtml;\n",
              "        element.appendChild(docLink);\n",
              "      }\n",
              "    </script>\n",
              "  </div>\n",
              "\n",
              "\n",
              "<div id=\"df-06d47b6f-dcdf-4d46-b0be-24cc38e2c7fa\">\n",
              "  <button class=\"colab-df-quickchart\" onclick=\"quickchart('df-06d47b6f-dcdf-4d46-b0be-24cc38e2c7fa')\"\n",
              "            title=\"Suggest charts.\"\n",
              "            style=\"display:none;\">\n",
              "\n",
              "<svg xmlns=\"http://www.w3.org/2000/svg\" height=\"24px\"viewBox=\"0 0 24 24\"\n",
              "     width=\"24px\">\n",
              "    <g>\n",
              "        <path d=\"M19 3H5c-1.1 0-2 .9-2 2v14c0 1.1.9 2 2 2h14c1.1 0 2-.9 2-2V5c0-1.1-.9-2-2-2zM9 17H7v-7h2v7zm4 0h-2V7h2v10zm4 0h-2v-4h2v4z\"/>\n",
              "    </g>\n",
              "</svg>\n",
              "  </button>\n",
              "\n",
              "<style>\n",
              "  .colab-df-quickchart {\n",
              "      --bg-color: #E8F0FE;\n",
              "      --fill-color: #1967D2;\n",
              "      --hover-bg-color: #E2EBFA;\n",
              "      --hover-fill-color: #174EA6;\n",
              "      --disabled-fill-color: #AAA;\n",
              "      --disabled-bg-color: #DDD;\n",
              "  }\n",
              "\n",
              "  [theme=dark] .colab-df-quickchart {\n",
              "      --bg-color: #3B4455;\n",
              "      --fill-color: #D2E3FC;\n",
              "      --hover-bg-color: #434B5C;\n",
              "      --hover-fill-color: #FFFFFF;\n",
              "      --disabled-bg-color: #3B4455;\n",
              "      --disabled-fill-color: #666;\n",
              "  }\n",
              "\n",
              "  .colab-df-quickchart {\n",
              "    background-color: var(--bg-color);\n",
              "    border: none;\n",
              "    border-radius: 50%;\n",
              "    cursor: pointer;\n",
              "    display: none;\n",
              "    fill: var(--fill-color);\n",
              "    height: 32px;\n",
              "    padding: 0;\n",
              "    width: 32px;\n",
              "  }\n",
              "\n",
              "  .colab-df-quickchart:hover {\n",
              "    background-color: var(--hover-bg-color);\n",
              "    box-shadow: 0 1px 2px rgba(60, 64, 67, 0.3), 0 1px 3px 1px rgba(60, 64, 67, 0.15);\n",
              "    fill: var(--button-hover-fill-color);\n",
              "  }\n",
              "\n",
              "  .colab-df-quickchart-complete:disabled,\n",
              "  .colab-df-quickchart-complete:disabled:hover {\n",
              "    background-color: var(--disabled-bg-color);\n",
              "    fill: var(--disabled-fill-color);\n",
              "    box-shadow: none;\n",
              "  }\n",
              "\n",
              "  .colab-df-spinner {\n",
              "    border: 2px solid var(--fill-color);\n",
              "    border-color: transparent;\n",
              "    border-bottom-color: var(--fill-color);\n",
              "    animation:\n",
              "      spin 1s steps(1) infinite;\n",
              "  }\n",
              "\n",
              "  @keyframes spin {\n",
              "    0% {\n",
              "      border-color: transparent;\n",
              "      border-bottom-color: var(--fill-color);\n",
              "      border-left-color: var(--fill-color);\n",
              "    }\n",
              "    20% {\n",
              "      border-color: transparent;\n",
              "      border-left-color: var(--fill-color);\n",
              "      border-top-color: var(--fill-color);\n",
              "    }\n",
              "    30% {\n",
              "      border-color: transparent;\n",
              "      border-left-color: var(--fill-color);\n",
              "      border-top-color: var(--fill-color);\n",
              "      border-right-color: var(--fill-color);\n",
              "    }\n",
              "    40% {\n",
              "      border-color: transparent;\n",
              "      border-right-color: var(--fill-color);\n",
              "      border-top-color: var(--fill-color);\n",
              "    }\n",
              "    60% {\n",
              "      border-color: transparent;\n",
              "      border-right-color: var(--fill-color);\n",
              "    }\n",
              "    80% {\n",
              "      border-color: transparent;\n",
              "      border-right-color: var(--fill-color);\n",
              "      border-bottom-color: var(--fill-color);\n",
              "    }\n",
              "    90% {\n",
              "      border-color: transparent;\n",
              "      border-bottom-color: var(--fill-color);\n",
              "    }\n",
              "  }\n",
              "</style>\n",
              "\n",
              "  <script>\n",
              "    async function quickchart(key) {\n",
              "      const quickchartButtonEl =\n",
              "        document.querySelector('#' + key + ' button');\n",
              "      quickchartButtonEl.disabled = true;  // To prevent multiple clicks.\n",
              "      quickchartButtonEl.classList.add('colab-df-spinner');\n",
              "      try {\n",
              "        const charts = await google.colab.kernel.invokeFunction(\n",
              "            'suggestCharts', [key], {});\n",
              "      } catch (error) {\n",
              "        console.error('Error during call to suggestCharts:', error);\n",
              "      }\n",
              "      quickchartButtonEl.classList.remove('colab-df-spinner');\n",
              "      quickchartButtonEl.classList.add('colab-df-quickchart-complete');\n",
              "    }\n",
              "    (() => {\n",
              "      let quickchartButtonEl =\n",
              "        document.querySelector('#df-06d47b6f-dcdf-4d46-b0be-24cc38e2c7fa button');\n",
              "      quickchartButtonEl.style.display =\n",
              "        google.colab.kernel.accessAllowed ? 'block' : 'none';\n",
              "    })();\n",
              "  </script>\n",
              "</div>\n",
              "    </div>\n",
              "  </div>\n"
            ]
          },
          "metadata": {},
          "execution_count": 21
        }
      ],
      "source": [
        "df.describe()"
      ]
    },
    {
      "cell_type": "code",
      "execution_count": null,
      "metadata": {
        "colab": {
          "base_uri": "https://localhost:8080/"
        },
        "id": "iq67iFyLGDvx",
        "outputId": "80cc7b8c-ac33-4c70-bfdd-b44a7fa3c1f0"
      },
      "outputs": [
        {
          "output_type": "execute_result",
          "data": {
            "text/plain": [
              "0"
            ]
          },
          "metadata": {},
          "execution_count": 22
        }
      ],
      "source": [
        "len(df)-len(df.drop_duplicates())"
      ]
    },
    {
      "cell_type": "code",
      "execution_count": null,
      "metadata": {
        "colab": {
          "base_uri": "https://localhost:8080/"
        },
        "id": "3gmb8RtuGDvy",
        "outputId": "1b584b9e-5644-4087-add5-4a74b26fc290"
      },
      "outputs": [
        {
          "output_type": "execute_result",
          "data": {
            "text/plain": [
              "Emotion         7\n",
              "Sentiment       3\n",
              "Speaker       100\n",
              "Utterance    2398\n",
              "dtype: int64"
            ]
          },
          "metadata": {},
          "execution_count": 23
        }
      ],
      "source": [
        "# only categorical variables are considered\n",
        "df[['Emotion','Sentiment','Speaker','Utterance']].nunique()"
      ]
    },
    {
      "cell_type": "code",
      "execution_count": null,
      "metadata": {
        "colab": {
          "base_uri": "https://localhost:8080/"
        },
        "id": "RooAHb2bYKnw",
        "outputId": "319a0190-ad22-4ec0-beb4-7d04cdeff6ec"
      },
      "outputs": [
        {
          "output_type": "execute_result",
          "data": {
            "text/plain": [
              "2610"
            ]
          },
          "metadata": {},
          "execution_count": 24
        }
      ],
      "source": [
        "df['Sr No.'].nunique()\n",
        "# Sr No. is the primary key"
      ]
    },
    {
      "cell_type": "code",
      "execution_count": null,
      "metadata": {
        "id": "7ZIipcqwGDvy"
      },
      "outputs": [],
      "source": [
        "utt_ids = df[[\"Utterance_ID\",\"Dialogue_ID\"]]\n",
        "\n",
        "# Here both Utterance_Id and Dialogue_ID can be taken as the primary key"
      ]
    },
    {
      "cell_type": "code",
      "execution_count": null,
      "metadata": {
        "colab": {
          "base_uri": "https://localhost:8080/"
        },
        "id": "TbrFx_ybb3Ba",
        "outputId": "32d4ccb1-924c-41f4-91e1-8998003dac32"
      },
      "outputs": [
        {
          "output_type": "execute_result",
          "data": {
            "text/plain": [
              "Utterance_ID    0\n",
              "Dialogue_ID     0\n",
              "dtype: int64"
            ]
          },
          "metadata": {},
          "execution_count": 26
        }
      ],
      "source": [
        "utt_ids.loc[utt_ids.duplicated(),:].sort_values(\"Dialogue_ID\").count()"
      ]
    },
    {
      "cell_type": "code",
      "execution_count": null,
      "metadata": {
        "colab": {
          "base_uri": "https://localhost:8080/",
          "height": 452
        },
        "id": "3vsyLwja3Llt",
        "outputId": "ab87329d-f049-41b7-be2a-c9fd84543326"
      },
      "outputs": [
        {
          "output_type": "execute_result",
          "data": {
            "text/plain": [
              "   Sr No.                                          Utterance Speaker  \\\n",
              "0       1  Why do all you’re coffee mugs have numbers on ...    Mark   \n",
              "1       2  Oh. That’s so Monica can keep track. That way ...  Rachel   \n",
              "2       3                                       Y'know what?  Rachel   \n",
              "3      19                     Come on, Lydia, you can do it.    Joey   \n",
              "4      20                                              Push!    Joey   \n",
              "\n",
              "    Emotion Sentiment  Dialogue_ID  Utterance_ID  Season  Episode  \\\n",
              "0  surprise  positive            0             0       3       19   \n",
              "1     anger  negative            0             1       3       19   \n",
              "2   neutral   neutral            0             2       3       19   \n",
              "3   neutral   neutral            1             0       1       23   \n",
              "4       joy  positive            1             1       1       23   \n",
              "\n",
              "      StartTime       EndTime  \n",
              "0  00:14:38,127  00:14:40,378  \n",
              "1  00:14:40,629  00:14:47,385  \n",
              "2  00:14:56,353  00:14:57,520  \n",
              "3   0:10:44,769   0:10:46,146  \n",
              "4   0:10:46,146   0:10:46,833  "
            ],
            "text/html": [
              "\n",
              "  <div id=\"df-2e5de035-102d-43c1-98b6-823e7f39946f\" class=\"colab-df-container\">\n",
              "    <div>\n",
              "<style scoped>\n",
              "    .dataframe tbody tr th:only-of-type {\n",
              "        vertical-align: middle;\n",
              "    }\n",
              "\n",
              "    .dataframe tbody tr th {\n",
              "        vertical-align: top;\n",
              "    }\n",
              "\n",
              "    .dataframe thead th {\n",
              "        text-align: right;\n",
              "    }\n",
              "</style>\n",
              "<table border=\"1\" class=\"dataframe\">\n",
              "  <thead>\n",
              "    <tr style=\"text-align: right;\">\n",
              "      <th></th>\n",
              "      <th>Sr No.</th>\n",
              "      <th>Utterance</th>\n",
              "      <th>Speaker</th>\n",
              "      <th>Emotion</th>\n",
              "      <th>Sentiment</th>\n",
              "      <th>Dialogue_ID</th>\n",
              "      <th>Utterance_ID</th>\n",
              "      <th>Season</th>\n",
              "      <th>Episode</th>\n",
              "      <th>StartTime</th>\n",
              "      <th>EndTime</th>\n",
              "    </tr>\n",
              "  </thead>\n",
              "  <tbody>\n",
              "    <tr>\n",
              "      <th>0</th>\n",
              "      <td>1</td>\n",
              "      <td>Why do all you’re coffee mugs have numbers on ...</td>\n",
              "      <td>Mark</td>\n",
              "      <td>surprise</td>\n",
              "      <td>positive</td>\n",
              "      <td>0</td>\n",
              "      <td>0</td>\n",
              "      <td>3</td>\n",
              "      <td>19</td>\n",
              "      <td>00:14:38,127</td>\n",
              "      <td>00:14:40,378</td>\n",
              "    </tr>\n",
              "    <tr>\n",
              "      <th>1</th>\n",
              "      <td>2</td>\n",
              "      <td>Oh. That’s so Monica can keep track. That way ...</td>\n",
              "      <td>Rachel</td>\n",
              "      <td>anger</td>\n",
              "      <td>negative</td>\n",
              "      <td>0</td>\n",
              "      <td>1</td>\n",
              "      <td>3</td>\n",
              "      <td>19</td>\n",
              "      <td>00:14:40,629</td>\n",
              "      <td>00:14:47,385</td>\n",
              "    </tr>\n",
              "    <tr>\n",
              "      <th>2</th>\n",
              "      <td>3</td>\n",
              "      <td>Y'know what?</td>\n",
              "      <td>Rachel</td>\n",
              "      <td>neutral</td>\n",
              "      <td>neutral</td>\n",
              "      <td>0</td>\n",
              "      <td>2</td>\n",
              "      <td>3</td>\n",
              "      <td>19</td>\n",
              "      <td>00:14:56,353</td>\n",
              "      <td>00:14:57,520</td>\n",
              "    </tr>\n",
              "    <tr>\n",
              "      <th>3</th>\n",
              "      <td>19</td>\n",
              "      <td>Come on, Lydia, you can do it.</td>\n",
              "      <td>Joey</td>\n",
              "      <td>neutral</td>\n",
              "      <td>neutral</td>\n",
              "      <td>1</td>\n",
              "      <td>0</td>\n",
              "      <td>1</td>\n",
              "      <td>23</td>\n",
              "      <td>0:10:44,769</td>\n",
              "      <td>0:10:46,146</td>\n",
              "    </tr>\n",
              "    <tr>\n",
              "      <th>4</th>\n",
              "      <td>20</td>\n",
              "      <td>Push!</td>\n",
              "      <td>Joey</td>\n",
              "      <td>joy</td>\n",
              "      <td>positive</td>\n",
              "      <td>1</td>\n",
              "      <td>1</td>\n",
              "      <td>1</td>\n",
              "      <td>23</td>\n",
              "      <td>0:10:46,146</td>\n",
              "      <td>0:10:46,833</td>\n",
              "    </tr>\n",
              "  </tbody>\n",
              "</table>\n",
              "</div>\n",
              "    <div class=\"colab-df-buttons\">\n",
              "\n",
              "  <div class=\"colab-df-container\">\n",
              "    <button class=\"colab-df-convert\" onclick=\"convertToInteractive('df-2e5de035-102d-43c1-98b6-823e7f39946f')\"\n",
              "            title=\"Convert this dataframe to an interactive table.\"\n",
              "            style=\"display:none;\">\n",
              "\n",
              "  <svg xmlns=\"http://www.w3.org/2000/svg\" height=\"24px\" viewBox=\"0 -960 960 960\">\n",
              "    <path d=\"M120-120v-720h720v720H120Zm60-500h600v-160H180v160Zm220 220h160v-160H400v160Zm0 220h160v-160H400v160ZM180-400h160v-160H180v160Zm440 0h160v-160H620v160ZM180-180h160v-160H180v160Zm440 0h160v-160H620v160Z\"/>\n",
              "  </svg>\n",
              "    </button>\n",
              "\n",
              "  <style>\n",
              "    .colab-df-container {\n",
              "      display:flex;\n",
              "      gap: 12px;\n",
              "    }\n",
              "\n",
              "    .colab-df-convert {\n",
              "      background-color: #E8F0FE;\n",
              "      border: none;\n",
              "      border-radius: 50%;\n",
              "      cursor: pointer;\n",
              "      display: none;\n",
              "      fill: #1967D2;\n",
              "      height: 32px;\n",
              "      padding: 0 0 0 0;\n",
              "      width: 32px;\n",
              "    }\n",
              "\n",
              "    .colab-df-convert:hover {\n",
              "      background-color: #E2EBFA;\n",
              "      box-shadow: 0px 1px 2px rgba(60, 64, 67, 0.3), 0px 1px 3px 1px rgba(60, 64, 67, 0.15);\n",
              "      fill: #174EA6;\n",
              "    }\n",
              "\n",
              "    .colab-df-buttons div {\n",
              "      margin-bottom: 4px;\n",
              "    }\n",
              "\n",
              "    [theme=dark] .colab-df-convert {\n",
              "      background-color: #3B4455;\n",
              "      fill: #D2E3FC;\n",
              "    }\n",
              "\n",
              "    [theme=dark] .colab-df-convert:hover {\n",
              "      background-color: #434B5C;\n",
              "      box-shadow: 0px 1px 3px 1px rgba(0, 0, 0, 0.15);\n",
              "      filter: drop-shadow(0px 1px 2px rgba(0, 0, 0, 0.3));\n",
              "      fill: #FFFFFF;\n",
              "    }\n",
              "  </style>\n",
              "\n",
              "    <script>\n",
              "      const buttonEl =\n",
              "        document.querySelector('#df-2e5de035-102d-43c1-98b6-823e7f39946f button.colab-df-convert');\n",
              "      buttonEl.style.display =\n",
              "        google.colab.kernel.accessAllowed ? 'block' : 'none';\n",
              "\n",
              "      async function convertToInteractive(key) {\n",
              "        const element = document.querySelector('#df-2e5de035-102d-43c1-98b6-823e7f39946f');\n",
              "        const dataTable =\n",
              "          await google.colab.kernel.invokeFunction('convertToInteractive',\n",
              "                                                    [key], {});\n",
              "        if (!dataTable) return;\n",
              "\n",
              "        const docLinkHtml = 'Like what you see? Visit the ' +\n",
              "          '<a target=\"_blank\" href=https://colab.research.google.com/notebooks/data_table.ipynb>data table notebook</a>'\n",
              "          + ' to learn more about interactive tables.';\n",
              "        element.innerHTML = '';\n",
              "        dataTable['output_type'] = 'display_data';\n",
              "        await google.colab.output.renderOutput(dataTable, element);\n",
              "        const docLink = document.createElement('div');\n",
              "        docLink.innerHTML = docLinkHtml;\n",
              "        element.appendChild(docLink);\n",
              "      }\n",
              "    </script>\n",
              "  </div>\n",
              "\n",
              "\n",
              "<div id=\"df-f3b51160-73d3-48f6-a707-445c5bc8ae71\">\n",
              "  <button class=\"colab-df-quickchart\" onclick=\"quickchart('df-f3b51160-73d3-48f6-a707-445c5bc8ae71')\"\n",
              "            title=\"Suggest charts.\"\n",
              "            style=\"display:none;\">\n",
              "\n",
              "<svg xmlns=\"http://www.w3.org/2000/svg\" height=\"24px\"viewBox=\"0 0 24 24\"\n",
              "     width=\"24px\">\n",
              "    <g>\n",
              "        <path d=\"M19 3H5c-1.1 0-2 .9-2 2v14c0 1.1.9 2 2 2h14c1.1 0 2-.9 2-2V5c0-1.1-.9-2-2-2zM9 17H7v-7h2v7zm4 0h-2V7h2v10zm4 0h-2v-4h2v4z\"/>\n",
              "    </g>\n",
              "</svg>\n",
              "  </button>\n",
              "\n",
              "<style>\n",
              "  .colab-df-quickchart {\n",
              "      --bg-color: #E8F0FE;\n",
              "      --fill-color: #1967D2;\n",
              "      --hover-bg-color: #E2EBFA;\n",
              "      --hover-fill-color: #174EA6;\n",
              "      --disabled-fill-color: #AAA;\n",
              "      --disabled-bg-color: #DDD;\n",
              "  }\n",
              "\n",
              "  [theme=dark] .colab-df-quickchart {\n",
              "      --bg-color: #3B4455;\n",
              "      --fill-color: #D2E3FC;\n",
              "      --hover-bg-color: #434B5C;\n",
              "      --hover-fill-color: #FFFFFF;\n",
              "      --disabled-bg-color: #3B4455;\n",
              "      --disabled-fill-color: #666;\n",
              "  }\n",
              "\n",
              "  .colab-df-quickchart {\n",
              "    background-color: var(--bg-color);\n",
              "    border: none;\n",
              "    border-radius: 50%;\n",
              "    cursor: pointer;\n",
              "    display: none;\n",
              "    fill: var(--fill-color);\n",
              "    height: 32px;\n",
              "    padding: 0;\n",
              "    width: 32px;\n",
              "  }\n",
              "\n",
              "  .colab-df-quickchart:hover {\n",
              "    background-color: var(--hover-bg-color);\n",
              "    box-shadow: 0 1px 2px rgba(60, 64, 67, 0.3), 0 1px 3px 1px rgba(60, 64, 67, 0.15);\n",
              "    fill: var(--button-hover-fill-color);\n",
              "  }\n",
              "\n",
              "  .colab-df-quickchart-complete:disabled,\n",
              "  .colab-df-quickchart-complete:disabled:hover {\n",
              "    background-color: var(--disabled-bg-color);\n",
              "    fill: var(--disabled-fill-color);\n",
              "    box-shadow: none;\n",
              "  }\n",
              "\n",
              "  .colab-df-spinner {\n",
              "    border: 2px solid var(--fill-color);\n",
              "    border-color: transparent;\n",
              "    border-bottom-color: var(--fill-color);\n",
              "    animation:\n",
              "      spin 1s steps(1) infinite;\n",
              "  }\n",
              "\n",
              "  @keyframes spin {\n",
              "    0% {\n",
              "      border-color: transparent;\n",
              "      border-bottom-color: var(--fill-color);\n",
              "      border-left-color: var(--fill-color);\n",
              "    }\n",
              "    20% {\n",
              "      border-color: transparent;\n",
              "      border-left-color: var(--fill-color);\n",
              "      border-top-color: var(--fill-color);\n",
              "    }\n",
              "    30% {\n",
              "      border-color: transparent;\n",
              "      border-left-color: var(--fill-color);\n",
              "      border-top-color: var(--fill-color);\n",
              "      border-right-color: var(--fill-color);\n",
              "    }\n",
              "    40% {\n",
              "      border-color: transparent;\n",
              "      border-right-color: var(--fill-color);\n",
              "      border-top-color: var(--fill-color);\n",
              "    }\n",
              "    60% {\n",
              "      border-color: transparent;\n",
              "      border-right-color: var(--fill-color);\n",
              "    }\n",
              "    80% {\n",
              "      border-color: transparent;\n",
              "      border-right-color: var(--fill-color);\n",
              "      border-bottom-color: var(--fill-color);\n",
              "    }\n",
              "    90% {\n",
              "      border-color: transparent;\n",
              "      border-bottom-color: var(--fill-color);\n",
              "    }\n",
              "  }\n",
              "</style>\n",
              "\n",
              "  <script>\n",
              "    async function quickchart(key) {\n",
              "      const quickchartButtonEl =\n",
              "        document.querySelector('#' + key + ' button');\n",
              "      quickchartButtonEl.disabled = true;  // To prevent multiple clicks.\n",
              "      quickchartButtonEl.classList.add('colab-df-spinner');\n",
              "      try {\n",
              "        const charts = await google.colab.kernel.invokeFunction(\n",
              "            'suggestCharts', [key], {});\n",
              "      } catch (error) {\n",
              "        console.error('Error during call to suggestCharts:', error);\n",
              "      }\n",
              "      quickchartButtonEl.classList.remove('colab-df-spinner');\n",
              "      quickchartButtonEl.classList.add('colab-df-quickchart-complete');\n",
              "    }\n",
              "    (() => {\n",
              "      let quickchartButtonEl =\n",
              "        document.querySelector('#df-f3b51160-73d3-48f6-a707-445c5bc8ae71 button');\n",
              "      quickchartButtonEl.style.display =\n",
              "        google.colab.kernel.accessAllowed ? 'block' : 'none';\n",
              "    })();\n",
              "  </script>\n",
              "</div>\n",
              "    </div>\n",
              "  </div>\n"
            ]
          },
          "metadata": {},
          "execution_count": 27
        }
      ],
      "source": [
        "df.head()"
      ]
    },
    {
      "cell_type": "markdown",
      "metadata": {
        "id": "EeMkPuvQOzGv"
      },
      "source": [
        "## Add Additional Data Columns"
      ]
    },
    {
      "cell_type": "code",
      "execution_count": null,
      "metadata": {
        "id": "Mf45hIKADU0q"
      },
      "outputs": [],
      "source": [
        "def add_additional_columns(df):\n",
        "    datafrm = df.copy()\n",
        "\n",
        "    # utterance string length\n",
        "    # datafrm[\"Utterance_length\"] = datafrm[\"Utterance\"].str.len()\n",
        "\n",
        "    # number of words uttered\n",
        "    datafrm[\"Words_uttered\"] = datafrm[\"Utterance\"].apply(lambda sentnece: len(sentnece.split()))\n",
        "\n",
        "    # utterance time\n",
        "    datafrm['Utterance_time'] = (pd.to_datetime(datafrm.EndTime) - pd.to_datetime(datafrm.StartTime))\n",
        "\n",
        "    # Convert the timedelta column to timedelta type\n",
        "    datafrm['Utterance_time'] = pd.to_timedelta(datafrm['Utterance_time'])\n",
        "\n",
        "    # Extract seconds and milliseconds\n",
        "    datafrm['seconds'] = datafrm['Utterance_time'].dt.total_seconds()  # Extract seconds as a float\n",
        "    datafrm['milliseconds'] = datafrm['Utterance_time'].dt.microseconds//1000 # Extract milliseconds as an integer\n",
        "\n",
        "    return datafrm\n"
      ]
    },
    {
      "cell_type": "code",
      "execution_count": null,
      "metadata": {
        "colab": {
          "base_uri": "https://localhost:8080/",
          "height": 869
        },
        "id": "_crKdBinWJjm",
        "outputId": "655e574a-12bf-40e1-9e4e-446bdf9fed00"
      },
      "outputs": [
        {
          "output_type": "execute_result",
          "data": {
            "text/plain": [
              "   Sr No.                                          Utterance Speaker  \\\n",
              "0       1  Why do all you’re coffee mugs have numbers on ...    Mark   \n",
              "1       2  Oh. That’s so Monica can keep track. That way ...  Rachel   \n",
              "2       3                                       Y'know what?  Rachel   \n",
              "3      19                     Come on, Lydia, you can do it.    Joey   \n",
              "4      20                                              Push!    Joey   \n",
              "5      21        Push 'em out, push 'em out, harder, harder.    Joey   \n",
              "6      22               Push 'em out, push 'em out, way out!    Joey   \n",
              "7      23  Let's get that ball and really move, hey, hey,...    Joey   \n",
              "8      24                    Let's—  I was just—yeah, right.    Joey   \n",
              "9      25                                              Push!    Joey   \n",
              "\n",
              "    Emotion Sentiment  Dialogue_ID  Utterance_ID  Season  Episode  \\\n",
              "0  surprise  positive            0             0       3       19   \n",
              "1     anger  negative            0             1       3       19   \n",
              "2   neutral   neutral            0             2       3       19   \n",
              "3   neutral   neutral            1             0       1       23   \n",
              "4       joy  positive            1             1       1       23   \n",
              "5       joy  positive            1             2       1       23   \n",
              "6       joy  positive            1             3       1       23   \n",
              "7       joy  positive            1             4       1       23   \n",
              "8       joy  positive            1             5       1       23   \n",
              "9       joy  positive            1             6       1       23   \n",
              "\n",
              "      StartTime       EndTime  Words_uttered         Utterance_time  seconds  \\\n",
              "0  00:14:38,127  00:14:40,378             11 0 days 00:00:02.251000    2.251   \n",
              "1  00:14:40,629  00:14:47,385             22 0 days 00:00:06.756000    6.756   \n",
              "2  00:14:56,353  00:14:57,520              2 0 days 00:00:01.167000    1.167   \n",
              "3   0:10:44,769   0:10:46,146              7 0 days 00:00:01.377000    1.377   \n",
              "4   0:10:46,146   0:10:46,833              1 0 days 00:00:00.687000    0.687   \n",
              "5  00:10:46,979  00:10:50,148              8 0 days 00:00:03.169000    3.169   \n",
              "6  00:10:50,316  00:10:52,609              8 0 days 00:00:02.293000    2.293   \n",
              "7  00:10:52,777  00:10:55,612             11 0 days 00:00:02.835000    2.835   \n",
              "8  00:10:55,780  00:11:01,242              5 0 days 00:00:05.462000    5.462   \n",
              "9   0:11:01,410   0:11:01,828              1 0 days 00:00:00.418000    0.418   \n",
              "\n",
              "   milliseconds  \n",
              "0           251  \n",
              "1           756  \n",
              "2           167  \n",
              "3           377  \n",
              "4           687  \n",
              "5           169  \n",
              "6           293  \n",
              "7           835  \n",
              "8           462  \n",
              "9           418  "
            ],
            "text/html": [
              "\n",
              "  <div id=\"df-39bd12cf-691e-4591-b8ef-dddf2eeef5d8\" class=\"colab-df-container\">\n",
              "    <div>\n",
              "<style scoped>\n",
              "    .dataframe tbody tr th:only-of-type {\n",
              "        vertical-align: middle;\n",
              "    }\n",
              "\n",
              "    .dataframe tbody tr th {\n",
              "        vertical-align: top;\n",
              "    }\n",
              "\n",
              "    .dataframe thead th {\n",
              "        text-align: right;\n",
              "    }\n",
              "</style>\n",
              "<table border=\"1\" class=\"dataframe\">\n",
              "  <thead>\n",
              "    <tr style=\"text-align: right;\">\n",
              "      <th></th>\n",
              "      <th>Sr No.</th>\n",
              "      <th>Utterance</th>\n",
              "      <th>Speaker</th>\n",
              "      <th>Emotion</th>\n",
              "      <th>Sentiment</th>\n",
              "      <th>Dialogue_ID</th>\n",
              "      <th>Utterance_ID</th>\n",
              "      <th>Season</th>\n",
              "      <th>Episode</th>\n",
              "      <th>StartTime</th>\n",
              "      <th>EndTime</th>\n",
              "      <th>Words_uttered</th>\n",
              "      <th>Utterance_time</th>\n",
              "      <th>seconds</th>\n",
              "      <th>milliseconds</th>\n",
              "    </tr>\n",
              "  </thead>\n",
              "  <tbody>\n",
              "    <tr>\n",
              "      <th>0</th>\n",
              "      <td>1</td>\n",
              "      <td>Why do all you’re coffee mugs have numbers on ...</td>\n",
              "      <td>Mark</td>\n",
              "      <td>surprise</td>\n",
              "      <td>positive</td>\n",
              "      <td>0</td>\n",
              "      <td>0</td>\n",
              "      <td>3</td>\n",
              "      <td>19</td>\n",
              "      <td>00:14:38,127</td>\n",
              "      <td>00:14:40,378</td>\n",
              "      <td>11</td>\n",
              "      <td>0 days 00:00:02.251000</td>\n",
              "      <td>2.251</td>\n",
              "      <td>251</td>\n",
              "    </tr>\n",
              "    <tr>\n",
              "      <th>1</th>\n",
              "      <td>2</td>\n",
              "      <td>Oh. That’s so Monica can keep track. That way ...</td>\n",
              "      <td>Rachel</td>\n",
              "      <td>anger</td>\n",
              "      <td>negative</td>\n",
              "      <td>0</td>\n",
              "      <td>1</td>\n",
              "      <td>3</td>\n",
              "      <td>19</td>\n",
              "      <td>00:14:40,629</td>\n",
              "      <td>00:14:47,385</td>\n",
              "      <td>22</td>\n",
              "      <td>0 days 00:00:06.756000</td>\n",
              "      <td>6.756</td>\n",
              "      <td>756</td>\n",
              "    </tr>\n",
              "    <tr>\n",
              "      <th>2</th>\n",
              "      <td>3</td>\n",
              "      <td>Y'know what?</td>\n",
              "      <td>Rachel</td>\n",
              "      <td>neutral</td>\n",
              "      <td>neutral</td>\n",
              "      <td>0</td>\n",
              "      <td>2</td>\n",
              "      <td>3</td>\n",
              "      <td>19</td>\n",
              "      <td>00:14:56,353</td>\n",
              "      <td>00:14:57,520</td>\n",
              "      <td>2</td>\n",
              "      <td>0 days 00:00:01.167000</td>\n",
              "      <td>1.167</td>\n",
              "      <td>167</td>\n",
              "    </tr>\n",
              "    <tr>\n",
              "      <th>3</th>\n",
              "      <td>19</td>\n",
              "      <td>Come on, Lydia, you can do it.</td>\n",
              "      <td>Joey</td>\n",
              "      <td>neutral</td>\n",
              "      <td>neutral</td>\n",
              "      <td>1</td>\n",
              "      <td>0</td>\n",
              "      <td>1</td>\n",
              "      <td>23</td>\n",
              "      <td>0:10:44,769</td>\n",
              "      <td>0:10:46,146</td>\n",
              "      <td>7</td>\n",
              "      <td>0 days 00:00:01.377000</td>\n",
              "      <td>1.377</td>\n",
              "      <td>377</td>\n",
              "    </tr>\n",
              "    <tr>\n",
              "      <th>4</th>\n",
              "      <td>20</td>\n",
              "      <td>Push!</td>\n",
              "      <td>Joey</td>\n",
              "      <td>joy</td>\n",
              "      <td>positive</td>\n",
              "      <td>1</td>\n",
              "      <td>1</td>\n",
              "      <td>1</td>\n",
              "      <td>23</td>\n",
              "      <td>0:10:46,146</td>\n",
              "      <td>0:10:46,833</td>\n",
              "      <td>1</td>\n",
              "      <td>0 days 00:00:00.687000</td>\n",
              "      <td>0.687</td>\n",
              "      <td>687</td>\n",
              "    </tr>\n",
              "    <tr>\n",
              "      <th>5</th>\n",
              "      <td>21</td>\n",
              "      <td>Push 'em out, push 'em out, harder, harder.</td>\n",
              "      <td>Joey</td>\n",
              "      <td>joy</td>\n",
              "      <td>positive</td>\n",
              "      <td>1</td>\n",
              "      <td>2</td>\n",
              "      <td>1</td>\n",
              "      <td>23</td>\n",
              "      <td>00:10:46,979</td>\n",
              "      <td>00:10:50,148</td>\n",
              "      <td>8</td>\n",
              "      <td>0 days 00:00:03.169000</td>\n",
              "      <td>3.169</td>\n",
              "      <td>169</td>\n",
              "    </tr>\n",
              "    <tr>\n",
              "      <th>6</th>\n",
              "      <td>22</td>\n",
              "      <td>Push 'em out, push 'em out, way out!</td>\n",
              "      <td>Joey</td>\n",
              "      <td>joy</td>\n",
              "      <td>positive</td>\n",
              "      <td>1</td>\n",
              "      <td>3</td>\n",
              "      <td>1</td>\n",
              "      <td>23</td>\n",
              "      <td>00:10:50,316</td>\n",
              "      <td>00:10:52,609</td>\n",
              "      <td>8</td>\n",
              "      <td>0 days 00:00:02.293000</td>\n",
              "      <td>2.293</td>\n",
              "      <td>293</td>\n",
              "    </tr>\n",
              "    <tr>\n",
              "      <th>7</th>\n",
              "      <td>23</td>\n",
              "      <td>Let's get that ball and really move, hey, hey,...</td>\n",
              "      <td>Joey</td>\n",
              "      <td>joy</td>\n",
              "      <td>positive</td>\n",
              "      <td>1</td>\n",
              "      <td>4</td>\n",
              "      <td>1</td>\n",
              "      <td>23</td>\n",
              "      <td>00:10:52,777</td>\n",
              "      <td>00:10:55,612</td>\n",
              "      <td>11</td>\n",
              "      <td>0 days 00:00:02.835000</td>\n",
              "      <td>2.835</td>\n",
              "      <td>835</td>\n",
              "    </tr>\n",
              "    <tr>\n",
              "      <th>8</th>\n",
              "      <td>24</td>\n",
              "      <td>Let's—  I was just—yeah, right.</td>\n",
              "      <td>Joey</td>\n",
              "      <td>joy</td>\n",
              "      <td>positive</td>\n",
              "      <td>1</td>\n",
              "      <td>5</td>\n",
              "      <td>1</td>\n",
              "      <td>23</td>\n",
              "      <td>00:10:55,780</td>\n",
              "      <td>00:11:01,242</td>\n",
              "      <td>5</td>\n",
              "      <td>0 days 00:00:05.462000</td>\n",
              "      <td>5.462</td>\n",
              "      <td>462</td>\n",
              "    </tr>\n",
              "    <tr>\n",
              "      <th>9</th>\n",
              "      <td>25</td>\n",
              "      <td>Push!</td>\n",
              "      <td>Joey</td>\n",
              "      <td>joy</td>\n",
              "      <td>positive</td>\n",
              "      <td>1</td>\n",
              "      <td>6</td>\n",
              "      <td>1</td>\n",
              "      <td>23</td>\n",
              "      <td>0:11:01,410</td>\n",
              "      <td>0:11:01,828</td>\n",
              "      <td>1</td>\n",
              "      <td>0 days 00:00:00.418000</td>\n",
              "      <td>0.418</td>\n",
              "      <td>418</td>\n",
              "    </tr>\n",
              "  </tbody>\n",
              "</table>\n",
              "</div>\n",
              "    <div class=\"colab-df-buttons\">\n",
              "\n",
              "  <div class=\"colab-df-container\">\n",
              "    <button class=\"colab-df-convert\" onclick=\"convertToInteractive('df-39bd12cf-691e-4591-b8ef-dddf2eeef5d8')\"\n",
              "            title=\"Convert this dataframe to an interactive table.\"\n",
              "            style=\"display:none;\">\n",
              "\n",
              "  <svg xmlns=\"http://www.w3.org/2000/svg\" height=\"24px\" viewBox=\"0 -960 960 960\">\n",
              "    <path d=\"M120-120v-720h720v720H120Zm60-500h600v-160H180v160Zm220 220h160v-160H400v160Zm0 220h160v-160H400v160ZM180-400h160v-160H180v160Zm440 0h160v-160H620v160ZM180-180h160v-160H180v160Zm440 0h160v-160H620v160Z\"/>\n",
              "  </svg>\n",
              "    </button>\n",
              "\n",
              "  <style>\n",
              "    .colab-df-container {\n",
              "      display:flex;\n",
              "      gap: 12px;\n",
              "    }\n",
              "\n",
              "    .colab-df-convert {\n",
              "      background-color: #E8F0FE;\n",
              "      border: none;\n",
              "      border-radius: 50%;\n",
              "      cursor: pointer;\n",
              "      display: none;\n",
              "      fill: #1967D2;\n",
              "      height: 32px;\n",
              "      padding: 0 0 0 0;\n",
              "      width: 32px;\n",
              "    }\n",
              "\n",
              "    .colab-df-convert:hover {\n",
              "      background-color: #E2EBFA;\n",
              "      box-shadow: 0px 1px 2px rgba(60, 64, 67, 0.3), 0px 1px 3px 1px rgba(60, 64, 67, 0.15);\n",
              "      fill: #174EA6;\n",
              "    }\n",
              "\n",
              "    .colab-df-buttons div {\n",
              "      margin-bottom: 4px;\n",
              "    }\n",
              "\n",
              "    [theme=dark] .colab-df-convert {\n",
              "      background-color: #3B4455;\n",
              "      fill: #D2E3FC;\n",
              "    }\n",
              "\n",
              "    [theme=dark] .colab-df-convert:hover {\n",
              "      background-color: #434B5C;\n",
              "      box-shadow: 0px 1px 3px 1px rgba(0, 0, 0, 0.15);\n",
              "      filter: drop-shadow(0px 1px 2px rgba(0, 0, 0, 0.3));\n",
              "      fill: #FFFFFF;\n",
              "    }\n",
              "  </style>\n",
              "\n",
              "    <script>\n",
              "      const buttonEl =\n",
              "        document.querySelector('#df-39bd12cf-691e-4591-b8ef-dddf2eeef5d8 button.colab-df-convert');\n",
              "      buttonEl.style.display =\n",
              "        google.colab.kernel.accessAllowed ? 'block' : 'none';\n",
              "\n",
              "      async function convertToInteractive(key) {\n",
              "        const element = document.querySelector('#df-39bd12cf-691e-4591-b8ef-dddf2eeef5d8');\n",
              "        const dataTable =\n",
              "          await google.colab.kernel.invokeFunction('convertToInteractive',\n",
              "                                                    [key], {});\n",
              "        if (!dataTable) return;\n",
              "\n",
              "        const docLinkHtml = 'Like what you see? Visit the ' +\n",
              "          '<a target=\"_blank\" href=https://colab.research.google.com/notebooks/data_table.ipynb>data table notebook</a>'\n",
              "          + ' to learn more about interactive tables.';\n",
              "        element.innerHTML = '';\n",
              "        dataTable['output_type'] = 'display_data';\n",
              "        await google.colab.output.renderOutput(dataTable, element);\n",
              "        const docLink = document.createElement('div');\n",
              "        docLink.innerHTML = docLinkHtml;\n",
              "        element.appendChild(docLink);\n",
              "      }\n",
              "    </script>\n",
              "  </div>\n",
              "\n",
              "\n",
              "<div id=\"df-0ba7124c-d54e-4902-b335-ec8f99287b45\">\n",
              "  <button class=\"colab-df-quickchart\" onclick=\"quickchart('df-0ba7124c-d54e-4902-b335-ec8f99287b45')\"\n",
              "            title=\"Suggest charts.\"\n",
              "            style=\"display:none;\">\n",
              "\n",
              "<svg xmlns=\"http://www.w3.org/2000/svg\" height=\"24px\"viewBox=\"0 0 24 24\"\n",
              "     width=\"24px\">\n",
              "    <g>\n",
              "        <path d=\"M19 3H5c-1.1 0-2 .9-2 2v14c0 1.1.9 2 2 2h14c1.1 0 2-.9 2-2V5c0-1.1-.9-2-2-2zM9 17H7v-7h2v7zm4 0h-2V7h2v10zm4 0h-2v-4h2v4z\"/>\n",
              "    </g>\n",
              "</svg>\n",
              "  </button>\n",
              "\n",
              "<style>\n",
              "  .colab-df-quickchart {\n",
              "      --bg-color: #E8F0FE;\n",
              "      --fill-color: #1967D2;\n",
              "      --hover-bg-color: #E2EBFA;\n",
              "      --hover-fill-color: #174EA6;\n",
              "      --disabled-fill-color: #AAA;\n",
              "      --disabled-bg-color: #DDD;\n",
              "  }\n",
              "\n",
              "  [theme=dark] .colab-df-quickchart {\n",
              "      --bg-color: #3B4455;\n",
              "      --fill-color: #D2E3FC;\n",
              "      --hover-bg-color: #434B5C;\n",
              "      --hover-fill-color: #FFFFFF;\n",
              "      --disabled-bg-color: #3B4455;\n",
              "      --disabled-fill-color: #666;\n",
              "  }\n",
              "\n",
              "  .colab-df-quickchart {\n",
              "    background-color: var(--bg-color);\n",
              "    border: none;\n",
              "    border-radius: 50%;\n",
              "    cursor: pointer;\n",
              "    display: none;\n",
              "    fill: var(--fill-color);\n",
              "    height: 32px;\n",
              "    padding: 0;\n",
              "    width: 32px;\n",
              "  }\n",
              "\n",
              "  .colab-df-quickchart:hover {\n",
              "    background-color: var(--hover-bg-color);\n",
              "    box-shadow: 0 1px 2px rgba(60, 64, 67, 0.3), 0 1px 3px 1px rgba(60, 64, 67, 0.15);\n",
              "    fill: var(--button-hover-fill-color);\n",
              "  }\n",
              "\n",
              "  .colab-df-quickchart-complete:disabled,\n",
              "  .colab-df-quickchart-complete:disabled:hover {\n",
              "    background-color: var(--disabled-bg-color);\n",
              "    fill: var(--disabled-fill-color);\n",
              "    box-shadow: none;\n",
              "  }\n",
              "\n",
              "  .colab-df-spinner {\n",
              "    border: 2px solid var(--fill-color);\n",
              "    border-color: transparent;\n",
              "    border-bottom-color: var(--fill-color);\n",
              "    animation:\n",
              "      spin 1s steps(1) infinite;\n",
              "  }\n",
              "\n",
              "  @keyframes spin {\n",
              "    0% {\n",
              "      border-color: transparent;\n",
              "      border-bottom-color: var(--fill-color);\n",
              "      border-left-color: var(--fill-color);\n",
              "    }\n",
              "    20% {\n",
              "      border-color: transparent;\n",
              "      border-left-color: var(--fill-color);\n",
              "      border-top-color: var(--fill-color);\n",
              "    }\n",
              "    30% {\n",
              "      border-color: transparent;\n",
              "      border-left-color: var(--fill-color);\n",
              "      border-top-color: var(--fill-color);\n",
              "      border-right-color: var(--fill-color);\n",
              "    }\n",
              "    40% {\n",
              "      border-color: transparent;\n",
              "      border-right-color: var(--fill-color);\n",
              "      border-top-color: var(--fill-color);\n",
              "    }\n",
              "    60% {\n",
              "      border-color: transparent;\n",
              "      border-right-color: var(--fill-color);\n",
              "    }\n",
              "    80% {\n",
              "      border-color: transparent;\n",
              "      border-right-color: var(--fill-color);\n",
              "      border-bottom-color: var(--fill-color);\n",
              "    }\n",
              "    90% {\n",
              "      border-color: transparent;\n",
              "      border-bottom-color: var(--fill-color);\n",
              "    }\n",
              "  }\n",
              "</style>\n",
              "\n",
              "  <script>\n",
              "    async function quickchart(key) {\n",
              "      const quickchartButtonEl =\n",
              "        document.querySelector('#' + key + ' button');\n",
              "      quickchartButtonEl.disabled = true;  // To prevent multiple clicks.\n",
              "      quickchartButtonEl.classList.add('colab-df-spinner');\n",
              "      try {\n",
              "        const charts = await google.colab.kernel.invokeFunction(\n",
              "            'suggestCharts', [key], {});\n",
              "      } catch (error) {\n",
              "        console.error('Error during call to suggestCharts:', error);\n",
              "      }\n",
              "      quickchartButtonEl.classList.remove('colab-df-spinner');\n",
              "      quickchartButtonEl.classList.add('colab-df-quickchart-complete');\n",
              "    }\n",
              "    (() => {\n",
              "      let quickchartButtonEl =\n",
              "        document.querySelector('#df-0ba7124c-d54e-4902-b335-ec8f99287b45 button');\n",
              "      quickchartButtonEl.style.display =\n",
              "        google.colab.kernel.accessAllowed ? 'block' : 'none';\n",
              "    })();\n",
              "  </script>\n",
              "</div>\n",
              "    </div>\n",
              "  </div>\n"
            ]
          },
          "metadata": {},
          "execution_count": 29
        }
      ],
      "source": [
        "dataframe = add_additional_columns(df)\n",
        "dataframe.head(10)"
      ]
    },
    {
      "cell_type": "markdown",
      "metadata": {
        "id": "vd9AD3vh6JE2"
      },
      "source": [
        "## Waiting Time"
      ]
    },
    {
      "cell_type": "code",
      "execution_count": null,
      "metadata": {
        "id": "zyY0JV_i6OIh"
      },
      "outputs": [],
      "source": [
        "def waitingtimeCol(dataframe):\n",
        "    timedf=dataframe.copy()\n",
        "    timedf['StartTime'] = pd.to_datetime(timedf['StartTime'])\n",
        "    timedf['EndTime'] = pd.to_datetime(timedf['EndTime'])\n",
        "\n",
        "    # sort by dialogue id and start time\n",
        "    timedf.sort_values(by=['Dialogue_ID','StartTime'], inplace=True)\n",
        "\n",
        "    # group by dialogue id\n",
        "    groupDialogue = timedf.groupby(\"Dialogue_ID\")\n",
        "\n",
        "    # shift the start time column up\n",
        "    #  then get the difference\n",
        "    timedf['Time_Difference'] = groupDialogue['StartTime'].shift(-1) - timedf['StartTime']\n",
        "\n",
        "    # get the waiting time\n",
        "    timedf['Reply_waiting_Time'] = timedf['Time_Difference'].sub(timedf['Utterance_time']).abs()\n",
        "\n",
        "    # get the waiting time in miliseconds\n",
        "    timedf['Reply_waiting_Time'] = timedf['Reply_waiting_Time'].dt.microseconds//1000 # Extract milliseconds as an integer\n",
        "\n",
        "    return timedf\n"
      ]
    },
    {
      "cell_type": "code",
      "execution_count": null,
      "metadata": {
        "colab": {
          "base_uri": "https://localhost:8080/",
          "height": 999
        },
        "id": "MhCOH3R_DRFw",
        "outputId": "6ead0584-fb0a-492f-ab63-2e614aed8851"
      },
      "outputs": [
        {
          "output_type": "execute_result",
          "data": {
            "text/plain": [
              "      Sr No.                                          Utterance Speaker  \\\n",
              "0          1  Why do all you’re coffee mugs have numbers on ...    Mark   \n",
              "1          2  Oh. That’s so Monica can keep track. That way ...  Rachel   \n",
              "2          3                                       Y'know what?  Rachel   \n",
              "3         19                     Come on, Lydia, you can do it.    Joey   \n",
              "4         20                                              Push!    Joey   \n",
              "...      ...                                                ...     ...   \n",
              "2605    2760  Yeah, I mean, come on Ross, no one will even n...  Rachel   \n",
              "2606    2761                      They’re not listening too me?    Ross   \n",
              "2607    2762  Of course they’re listening to you! Everybody ...  Rachel   \n",
              "2608    2763  Monica you really think I should try this phas...    Ross   \n",
              "2609    2764                             I think you look fine.  Monica   \n",
              "\n",
              "       Emotion Sentiment  Dialogue_ID  Utterance_ID  Season  Episode  \\\n",
              "0     surprise  positive            0             0       3       19   \n",
              "1        anger  negative            0             1       3       19   \n",
              "2      neutral   neutral            0             2       3       19   \n",
              "3      neutral   neutral            1             0       1       23   \n",
              "4          joy  positive            1             1       1       23   \n",
              "...        ...       ...          ...           ...     ...      ...   \n",
              "2605   neutral   neutral          279            11       6        4   \n",
              "2606  surprise  negative          279            12       6        4   \n",
              "2607   neutral   neutral          279            13       6        4   \n",
              "2608   neutral   neutral          279            14       6        4   \n",
              "2609   neutral   neutral          279            15       6        4   \n",
              "\n",
              "                   StartTime                 EndTime  Words_uttered  \\\n",
              "0    2023-10-05 00:14:38.127 2023-10-05 00:14:40.378             11   \n",
              "1    2023-10-05 00:14:40.629 2023-10-05 00:14:47.385             22   \n",
              "2    2023-10-05 00:14:56.353 2023-10-05 00:14:57.520              2   \n",
              "3    2023-10-05 00:10:44.769 2023-10-05 00:10:46.146              7   \n",
              "4    2023-10-05 00:10:46.146 2023-10-05 00:10:46.833              1   \n",
              "...                      ...                     ...            ...   \n",
              "2605 2023-10-05 00:14:35.457 2023-10-05 00:14:40.211             18   \n",
              "2606 2023-10-05 00:14:42.256 2023-10-05 00:14:43.840              5   \n",
              "2607 2023-10-05 00:14:44.008 2023-10-05 00:14:48.511             10   \n",
              "2608 2023-10-05 00:14:48.138 2023-10-05 00:14:52.390             11   \n",
              "2609 2023-10-05 00:14:52.558 2023-10-05 00:14:54.183              5   \n",
              "\n",
              "             Utterance_time  seconds  milliseconds  Reply_waiting_Time  \n",
              "0    0 days 00:00:02.251000    2.251           251               251.0  \n",
              "1    0 days 00:00:06.756000    6.756           756               968.0  \n",
              "2    0 days 00:00:01.167000    1.167           167                 NaN  \n",
              "3    0 days 00:00:01.377000    1.377           377                 0.0  \n",
              "4    0 days 00:00:00.687000    0.687           687               146.0  \n",
              "...                     ...      ...           ...                 ...  \n",
              "2605 0 days 00:00:04.754000    4.754           754                45.0  \n",
              "2606 0 days 00:00:01.584000    1.584           584               168.0  \n",
              "2607 0 days 00:00:04.503000    4.503           503               373.0  \n",
              "2608 0 days 00:00:04.252000    4.252           252               168.0  \n",
              "2609 0 days 00:00:01.625000    1.625           625                 NaN  \n",
              "\n",
              "[2610 rows x 16 columns]"
            ],
            "text/html": [
              "\n",
              "  <div id=\"df-916cdaa9-2f7e-4569-81ad-5c0bc169bc24\" class=\"colab-df-container\">\n",
              "    <div>\n",
              "<style scoped>\n",
              "    .dataframe tbody tr th:only-of-type {\n",
              "        vertical-align: middle;\n",
              "    }\n",
              "\n",
              "    .dataframe tbody tr th {\n",
              "        vertical-align: top;\n",
              "    }\n",
              "\n",
              "    .dataframe thead th {\n",
              "        text-align: right;\n",
              "    }\n",
              "</style>\n",
              "<table border=\"1\" class=\"dataframe\">\n",
              "  <thead>\n",
              "    <tr style=\"text-align: right;\">\n",
              "      <th></th>\n",
              "      <th>Sr No.</th>\n",
              "      <th>Utterance</th>\n",
              "      <th>Speaker</th>\n",
              "      <th>Emotion</th>\n",
              "      <th>Sentiment</th>\n",
              "      <th>Dialogue_ID</th>\n",
              "      <th>Utterance_ID</th>\n",
              "      <th>Season</th>\n",
              "      <th>Episode</th>\n",
              "      <th>StartTime</th>\n",
              "      <th>EndTime</th>\n",
              "      <th>Words_uttered</th>\n",
              "      <th>Utterance_time</th>\n",
              "      <th>seconds</th>\n",
              "      <th>milliseconds</th>\n",
              "      <th>Reply_waiting_Time</th>\n",
              "    </tr>\n",
              "  </thead>\n",
              "  <tbody>\n",
              "    <tr>\n",
              "      <th>0</th>\n",
              "      <td>1</td>\n",
              "      <td>Why do all you’re coffee mugs have numbers on ...</td>\n",
              "      <td>Mark</td>\n",
              "      <td>surprise</td>\n",
              "      <td>positive</td>\n",
              "      <td>0</td>\n",
              "      <td>0</td>\n",
              "      <td>3</td>\n",
              "      <td>19</td>\n",
              "      <td>2023-10-05 00:14:38.127</td>\n",
              "      <td>2023-10-05 00:14:40.378</td>\n",
              "      <td>11</td>\n",
              "      <td>0 days 00:00:02.251000</td>\n",
              "      <td>2.251</td>\n",
              "      <td>251</td>\n",
              "      <td>251.0</td>\n",
              "    </tr>\n",
              "    <tr>\n",
              "      <th>1</th>\n",
              "      <td>2</td>\n",
              "      <td>Oh. That’s so Monica can keep track. That way ...</td>\n",
              "      <td>Rachel</td>\n",
              "      <td>anger</td>\n",
              "      <td>negative</td>\n",
              "      <td>0</td>\n",
              "      <td>1</td>\n",
              "      <td>3</td>\n",
              "      <td>19</td>\n",
              "      <td>2023-10-05 00:14:40.629</td>\n",
              "      <td>2023-10-05 00:14:47.385</td>\n",
              "      <td>22</td>\n",
              "      <td>0 days 00:00:06.756000</td>\n",
              "      <td>6.756</td>\n",
              "      <td>756</td>\n",
              "      <td>968.0</td>\n",
              "    </tr>\n",
              "    <tr>\n",
              "      <th>2</th>\n",
              "      <td>3</td>\n",
              "      <td>Y'know what?</td>\n",
              "      <td>Rachel</td>\n",
              "      <td>neutral</td>\n",
              "      <td>neutral</td>\n",
              "      <td>0</td>\n",
              "      <td>2</td>\n",
              "      <td>3</td>\n",
              "      <td>19</td>\n",
              "      <td>2023-10-05 00:14:56.353</td>\n",
              "      <td>2023-10-05 00:14:57.520</td>\n",
              "      <td>2</td>\n",
              "      <td>0 days 00:00:01.167000</td>\n",
              "      <td>1.167</td>\n",
              "      <td>167</td>\n",
              "      <td>NaN</td>\n",
              "    </tr>\n",
              "    <tr>\n",
              "      <th>3</th>\n",
              "      <td>19</td>\n",
              "      <td>Come on, Lydia, you can do it.</td>\n",
              "      <td>Joey</td>\n",
              "      <td>neutral</td>\n",
              "      <td>neutral</td>\n",
              "      <td>1</td>\n",
              "      <td>0</td>\n",
              "      <td>1</td>\n",
              "      <td>23</td>\n",
              "      <td>2023-10-05 00:10:44.769</td>\n",
              "      <td>2023-10-05 00:10:46.146</td>\n",
              "      <td>7</td>\n",
              "      <td>0 days 00:00:01.377000</td>\n",
              "      <td>1.377</td>\n",
              "      <td>377</td>\n",
              "      <td>0.0</td>\n",
              "    </tr>\n",
              "    <tr>\n",
              "      <th>4</th>\n",
              "      <td>20</td>\n",
              "      <td>Push!</td>\n",
              "      <td>Joey</td>\n",
              "      <td>joy</td>\n",
              "      <td>positive</td>\n",
              "      <td>1</td>\n",
              "      <td>1</td>\n",
              "      <td>1</td>\n",
              "      <td>23</td>\n",
              "      <td>2023-10-05 00:10:46.146</td>\n",
              "      <td>2023-10-05 00:10:46.833</td>\n",
              "      <td>1</td>\n",
              "      <td>0 days 00:00:00.687000</td>\n",
              "      <td>0.687</td>\n",
              "      <td>687</td>\n",
              "      <td>146.0</td>\n",
              "    </tr>\n",
              "    <tr>\n",
              "      <th>...</th>\n",
              "      <td>...</td>\n",
              "      <td>...</td>\n",
              "      <td>...</td>\n",
              "      <td>...</td>\n",
              "      <td>...</td>\n",
              "      <td>...</td>\n",
              "      <td>...</td>\n",
              "      <td>...</td>\n",
              "      <td>...</td>\n",
              "      <td>...</td>\n",
              "      <td>...</td>\n",
              "      <td>...</td>\n",
              "      <td>...</td>\n",
              "      <td>...</td>\n",
              "      <td>...</td>\n",
              "      <td>...</td>\n",
              "    </tr>\n",
              "    <tr>\n",
              "      <th>2605</th>\n",
              "      <td>2760</td>\n",
              "      <td>Yeah, I mean, come on Ross, no one will even n...</td>\n",
              "      <td>Rachel</td>\n",
              "      <td>neutral</td>\n",
              "      <td>neutral</td>\n",
              "      <td>279</td>\n",
              "      <td>11</td>\n",
              "      <td>6</td>\n",
              "      <td>4</td>\n",
              "      <td>2023-10-05 00:14:35.457</td>\n",
              "      <td>2023-10-05 00:14:40.211</td>\n",
              "      <td>18</td>\n",
              "      <td>0 days 00:00:04.754000</td>\n",
              "      <td>4.754</td>\n",
              "      <td>754</td>\n",
              "      <td>45.0</td>\n",
              "    </tr>\n",
              "    <tr>\n",
              "      <th>2606</th>\n",
              "      <td>2761</td>\n",
              "      <td>They’re not listening too me?</td>\n",
              "      <td>Ross</td>\n",
              "      <td>surprise</td>\n",
              "      <td>negative</td>\n",
              "      <td>279</td>\n",
              "      <td>12</td>\n",
              "      <td>6</td>\n",
              "      <td>4</td>\n",
              "      <td>2023-10-05 00:14:42.256</td>\n",
              "      <td>2023-10-05 00:14:43.840</td>\n",
              "      <td>5</td>\n",
              "      <td>0 days 00:00:01.584000</td>\n",
              "      <td>1.584</td>\n",
              "      <td>584</td>\n",
              "      <td>168.0</td>\n",
              "    </tr>\n",
              "    <tr>\n",
              "      <th>2607</th>\n",
              "      <td>2762</td>\n",
              "      <td>Of course they’re listening to you! Everybody ...</td>\n",
              "      <td>Rachel</td>\n",
              "      <td>neutral</td>\n",
              "      <td>neutral</td>\n",
              "      <td>279</td>\n",
              "      <td>13</td>\n",
              "      <td>6</td>\n",
              "      <td>4</td>\n",
              "      <td>2023-10-05 00:14:44.008</td>\n",
              "      <td>2023-10-05 00:14:48.511</td>\n",
              "      <td>10</td>\n",
              "      <td>0 days 00:00:04.503000</td>\n",
              "      <td>4.503</td>\n",
              "      <td>503</td>\n",
              "      <td>373.0</td>\n",
              "    </tr>\n",
              "    <tr>\n",
              "      <th>2608</th>\n",
              "      <td>2763</td>\n",
              "      <td>Monica you really think I should try this phas...</td>\n",
              "      <td>Ross</td>\n",
              "      <td>neutral</td>\n",
              "      <td>neutral</td>\n",
              "      <td>279</td>\n",
              "      <td>14</td>\n",
              "      <td>6</td>\n",
              "      <td>4</td>\n",
              "      <td>2023-10-05 00:14:48.138</td>\n",
              "      <td>2023-10-05 00:14:52.390</td>\n",
              "      <td>11</td>\n",
              "      <td>0 days 00:00:04.252000</td>\n",
              "      <td>4.252</td>\n",
              "      <td>252</td>\n",
              "      <td>168.0</td>\n",
              "    </tr>\n",
              "    <tr>\n",
              "      <th>2609</th>\n",
              "      <td>2764</td>\n",
              "      <td>I think you look fine.</td>\n",
              "      <td>Monica</td>\n",
              "      <td>neutral</td>\n",
              "      <td>neutral</td>\n",
              "      <td>279</td>\n",
              "      <td>15</td>\n",
              "      <td>6</td>\n",
              "      <td>4</td>\n",
              "      <td>2023-10-05 00:14:52.558</td>\n",
              "      <td>2023-10-05 00:14:54.183</td>\n",
              "      <td>5</td>\n",
              "      <td>0 days 00:00:01.625000</td>\n",
              "      <td>1.625</td>\n",
              "      <td>625</td>\n",
              "      <td>NaN</td>\n",
              "    </tr>\n",
              "  </tbody>\n",
              "</table>\n",
              "<p>2610 rows × 16 columns</p>\n",
              "</div>\n",
              "    <div class=\"colab-df-buttons\">\n",
              "\n",
              "  <div class=\"colab-df-container\">\n",
              "    <button class=\"colab-df-convert\" onclick=\"convertToInteractive('df-916cdaa9-2f7e-4569-81ad-5c0bc169bc24')\"\n",
              "            title=\"Convert this dataframe to an interactive table.\"\n",
              "            style=\"display:none;\">\n",
              "\n",
              "  <svg xmlns=\"http://www.w3.org/2000/svg\" height=\"24px\" viewBox=\"0 -960 960 960\">\n",
              "    <path d=\"M120-120v-720h720v720H120Zm60-500h600v-160H180v160Zm220 220h160v-160H400v160Zm0 220h160v-160H400v160ZM180-400h160v-160H180v160Zm440 0h160v-160H620v160ZM180-180h160v-160H180v160Zm440 0h160v-160H620v160Z\"/>\n",
              "  </svg>\n",
              "    </button>\n",
              "\n",
              "  <style>\n",
              "    .colab-df-container {\n",
              "      display:flex;\n",
              "      gap: 12px;\n",
              "    }\n",
              "\n",
              "    .colab-df-convert {\n",
              "      background-color: #E8F0FE;\n",
              "      border: none;\n",
              "      border-radius: 50%;\n",
              "      cursor: pointer;\n",
              "      display: none;\n",
              "      fill: #1967D2;\n",
              "      height: 32px;\n",
              "      padding: 0 0 0 0;\n",
              "      width: 32px;\n",
              "    }\n",
              "\n",
              "    .colab-df-convert:hover {\n",
              "      background-color: #E2EBFA;\n",
              "      box-shadow: 0px 1px 2px rgba(60, 64, 67, 0.3), 0px 1px 3px 1px rgba(60, 64, 67, 0.15);\n",
              "      fill: #174EA6;\n",
              "    }\n",
              "\n",
              "    .colab-df-buttons div {\n",
              "      margin-bottom: 4px;\n",
              "    }\n",
              "\n",
              "    [theme=dark] .colab-df-convert {\n",
              "      background-color: #3B4455;\n",
              "      fill: #D2E3FC;\n",
              "    }\n",
              "\n",
              "    [theme=dark] .colab-df-convert:hover {\n",
              "      background-color: #434B5C;\n",
              "      box-shadow: 0px 1px 3px 1px rgba(0, 0, 0, 0.15);\n",
              "      filter: drop-shadow(0px 1px 2px rgba(0, 0, 0, 0.3));\n",
              "      fill: #FFFFFF;\n",
              "    }\n",
              "  </style>\n",
              "\n",
              "    <script>\n",
              "      const buttonEl =\n",
              "        document.querySelector('#df-916cdaa9-2f7e-4569-81ad-5c0bc169bc24 button.colab-df-convert');\n",
              "      buttonEl.style.display =\n",
              "        google.colab.kernel.accessAllowed ? 'block' : 'none';\n",
              "\n",
              "      async function convertToInteractive(key) {\n",
              "        const element = document.querySelector('#df-916cdaa9-2f7e-4569-81ad-5c0bc169bc24');\n",
              "        const dataTable =\n",
              "          await google.colab.kernel.invokeFunction('convertToInteractive',\n",
              "                                                    [key], {});\n",
              "        if (!dataTable) return;\n",
              "\n",
              "        const docLinkHtml = 'Like what you see? Visit the ' +\n",
              "          '<a target=\"_blank\" href=https://colab.research.google.com/notebooks/data_table.ipynb>data table notebook</a>'\n",
              "          + ' to learn more about interactive tables.';\n",
              "        element.innerHTML = '';\n",
              "        dataTable['output_type'] = 'display_data';\n",
              "        await google.colab.output.renderOutput(dataTable, element);\n",
              "        const docLink = document.createElement('div');\n",
              "        docLink.innerHTML = docLinkHtml;\n",
              "        element.appendChild(docLink);\n",
              "      }\n",
              "    </script>\n",
              "  </div>\n",
              "\n",
              "\n",
              "<div id=\"df-b9913eb1-9243-4720-878f-ac46a0d2fa39\">\n",
              "  <button class=\"colab-df-quickchart\" onclick=\"quickchart('df-b9913eb1-9243-4720-878f-ac46a0d2fa39')\"\n",
              "            title=\"Suggest charts.\"\n",
              "            style=\"display:none;\">\n",
              "\n",
              "<svg xmlns=\"http://www.w3.org/2000/svg\" height=\"24px\"viewBox=\"0 0 24 24\"\n",
              "     width=\"24px\">\n",
              "    <g>\n",
              "        <path d=\"M19 3H5c-1.1 0-2 .9-2 2v14c0 1.1.9 2 2 2h14c1.1 0 2-.9 2-2V5c0-1.1-.9-2-2-2zM9 17H7v-7h2v7zm4 0h-2V7h2v10zm4 0h-2v-4h2v4z\"/>\n",
              "    </g>\n",
              "</svg>\n",
              "  </button>\n",
              "\n",
              "<style>\n",
              "  .colab-df-quickchart {\n",
              "      --bg-color: #E8F0FE;\n",
              "      --fill-color: #1967D2;\n",
              "      --hover-bg-color: #E2EBFA;\n",
              "      --hover-fill-color: #174EA6;\n",
              "      --disabled-fill-color: #AAA;\n",
              "      --disabled-bg-color: #DDD;\n",
              "  }\n",
              "\n",
              "  [theme=dark] .colab-df-quickchart {\n",
              "      --bg-color: #3B4455;\n",
              "      --fill-color: #D2E3FC;\n",
              "      --hover-bg-color: #434B5C;\n",
              "      --hover-fill-color: #FFFFFF;\n",
              "      --disabled-bg-color: #3B4455;\n",
              "      --disabled-fill-color: #666;\n",
              "  }\n",
              "\n",
              "  .colab-df-quickchart {\n",
              "    background-color: var(--bg-color);\n",
              "    border: none;\n",
              "    border-radius: 50%;\n",
              "    cursor: pointer;\n",
              "    display: none;\n",
              "    fill: var(--fill-color);\n",
              "    height: 32px;\n",
              "    padding: 0;\n",
              "    width: 32px;\n",
              "  }\n",
              "\n",
              "  .colab-df-quickchart:hover {\n",
              "    background-color: var(--hover-bg-color);\n",
              "    box-shadow: 0 1px 2px rgba(60, 64, 67, 0.3), 0 1px 3px 1px rgba(60, 64, 67, 0.15);\n",
              "    fill: var(--button-hover-fill-color);\n",
              "  }\n",
              "\n",
              "  .colab-df-quickchart-complete:disabled,\n",
              "  .colab-df-quickchart-complete:disabled:hover {\n",
              "    background-color: var(--disabled-bg-color);\n",
              "    fill: var(--disabled-fill-color);\n",
              "    box-shadow: none;\n",
              "  }\n",
              "\n",
              "  .colab-df-spinner {\n",
              "    border: 2px solid var(--fill-color);\n",
              "    border-color: transparent;\n",
              "    border-bottom-color: var(--fill-color);\n",
              "    animation:\n",
              "      spin 1s steps(1) infinite;\n",
              "  }\n",
              "\n",
              "  @keyframes spin {\n",
              "    0% {\n",
              "      border-color: transparent;\n",
              "      border-bottom-color: var(--fill-color);\n",
              "      border-left-color: var(--fill-color);\n",
              "    }\n",
              "    20% {\n",
              "      border-color: transparent;\n",
              "      border-left-color: var(--fill-color);\n",
              "      border-top-color: var(--fill-color);\n",
              "    }\n",
              "    30% {\n",
              "      border-color: transparent;\n",
              "      border-left-color: var(--fill-color);\n",
              "      border-top-color: var(--fill-color);\n",
              "      border-right-color: var(--fill-color);\n",
              "    }\n",
              "    40% {\n",
              "      border-color: transparent;\n",
              "      border-right-color: var(--fill-color);\n",
              "      border-top-color: var(--fill-color);\n",
              "    }\n",
              "    60% {\n",
              "      border-color: transparent;\n",
              "      border-right-color: var(--fill-color);\n",
              "    }\n",
              "    80% {\n",
              "      border-color: transparent;\n",
              "      border-right-color: var(--fill-color);\n",
              "      border-bottom-color: var(--fill-color);\n",
              "    }\n",
              "    90% {\n",
              "      border-color: transparent;\n",
              "      border-bottom-color: var(--fill-color);\n",
              "    }\n",
              "  }\n",
              "</style>\n",
              "\n",
              "  <script>\n",
              "    async function quickchart(key) {\n",
              "      const quickchartButtonEl =\n",
              "        document.querySelector('#' + key + ' button');\n",
              "      quickchartButtonEl.disabled = true;  // To prevent multiple clicks.\n",
              "      quickchartButtonEl.classList.add('colab-df-spinner');\n",
              "      try {\n",
              "        const charts = await google.colab.kernel.invokeFunction(\n",
              "            'suggestCharts', [key], {});\n",
              "      } catch (error) {\n",
              "        console.error('Error during call to suggestCharts:', error);\n",
              "      }\n",
              "      quickchartButtonEl.classList.remove('colab-df-spinner');\n",
              "      quickchartButtonEl.classList.add('colab-df-quickchart-complete');\n",
              "    }\n",
              "    (() => {\n",
              "      let quickchartButtonEl =\n",
              "        document.querySelector('#df-b9913eb1-9243-4720-878f-ac46a0d2fa39 button');\n",
              "      quickchartButtonEl.style.display =\n",
              "        google.colab.kernel.accessAllowed ? 'block' : 'none';\n",
              "    })();\n",
              "  </script>\n",
              "</div>\n",
              "    </div>\n",
              "  </div>\n"
            ]
          },
          "metadata": {},
          "execution_count": 31
        }
      ],
      "source": [
        "dataframe = waitingtimeCol(dataframe)\n",
        "dataframe.drop(['Time_Difference'], axis=1)"
      ]
    },
    {
      "cell_type": "code",
      "execution_count": null,
      "metadata": {
        "colab": {
          "base_uri": "https://localhost:8080/",
          "height": 457
        },
        "id": "pcaHtjr4BgGo",
        "outputId": "550abfff-4915-46c3-e55e-108b5f6f98e9"
      },
      "outputs": [
        {
          "output_type": "execute_result",
          "data": {
            "text/plain": [
              "    Dialogue_ID               StartTime  Reply_waiting_Time\n",
              "2             0 2023-10-05 00:14:56.353                 NaN\n",
              "3             1 2023-10-05 00:10:44.769                 0.0\n",
              "4             1 2023-10-05 00:10:46.146               146.0\n",
              "5             1 2023-10-05 00:10:46.979               168.0\n",
              "6             1 2023-10-05 00:10:50.316               168.0\n",
              "7             1 2023-10-05 00:10:52.777               168.0\n",
              "8             1 2023-10-05 00:10:55.780               168.0\n",
              "9             1 2023-10-05 00:11:01.410                 0.0\n",
              "10            1 2023-10-05 00:11:01.828                 NaN\n",
              "11            2 2023-10-05 00:07:26.446               168.0\n",
              "12            2 2023-10-05 00:07:27.655               167.0\n",
              "13            2 2023-10-05 00:07:30.741               294.0\n",
              "14            2 2023-10-05 00:07:35.413               504.0"
            ],
            "text/html": [
              "\n",
              "  <div id=\"df-3b7ca746-1164-48bf-91d5-72f4dd857754\" class=\"colab-df-container\">\n",
              "    <div>\n",
              "<style scoped>\n",
              "    .dataframe tbody tr th:only-of-type {\n",
              "        vertical-align: middle;\n",
              "    }\n",
              "\n",
              "    .dataframe tbody tr th {\n",
              "        vertical-align: top;\n",
              "    }\n",
              "\n",
              "    .dataframe thead th {\n",
              "        text-align: right;\n",
              "    }\n",
              "</style>\n",
              "<table border=\"1\" class=\"dataframe\">\n",
              "  <thead>\n",
              "    <tr style=\"text-align: right;\">\n",
              "      <th></th>\n",
              "      <th>Dialogue_ID</th>\n",
              "      <th>StartTime</th>\n",
              "      <th>Reply_waiting_Time</th>\n",
              "    </tr>\n",
              "  </thead>\n",
              "  <tbody>\n",
              "    <tr>\n",
              "      <th>2</th>\n",
              "      <td>0</td>\n",
              "      <td>2023-10-05 00:14:56.353</td>\n",
              "      <td>NaN</td>\n",
              "    </tr>\n",
              "    <tr>\n",
              "      <th>3</th>\n",
              "      <td>1</td>\n",
              "      <td>2023-10-05 00:10:44.769</td>\n",
              "      <td>0.0</td>\n",
              "    </tr>\n",
              "    <tr>\n",
              "      <th>4</th>\n",
              "      <td>1</td>\n",
              "      <td>2023-10-05 00:10:46.146</td>\n",
              "      <td>146.0</td>\n",
              "    </tr>\n",
              "    <tr>\n",
              "      <th>5</th>\n",
              "      <td>1</td>\n",
              "      <td>2023-10-05 00:10:46.979</td>\n",
              "      <td>168.0</td>\n",
              "    </tr>\n",
              "    <tr>\n",
              "      <th>6</th>\n",
              "      <td>1</td>\n",
              "      <td>2023-10-05 00:10:50.316</td>\n",
              "      <td>168.0</td>\n",
              "    </tr>\n",
              "    <tr>\n",
              "      <th>7</th>\n",
              "      <td>1</td>\n",
              "      <td>2023-10-05 00:10:52.777</td>\n",
              "      <td>168.0</td>\n",
              "    </tr>\n",
              "    <tr>\n",
              "      <th>8</th>\n",
              "      <td>1</td>\n",
              "      <td>2023-10-05 00:10:55.780</td>\n",
              "      <td>168.0</td>\n",
              "    </tr>\n",
              "    <tr>\n",
              "      <th>9</th>\n",
              "      <td>1</td>\n",
              "      <td>2023-10-05 00:11:01.410</td>\n",
              "      <td>0.0</td>\n",
              "    </tr>\n",
              "    <tr>\n",
              "      <th>10</th>\n",
              "      <td>1</td>\n",
              "      <td>2023-10-05 00:11:01.828</td>\n",
              "      <td>NaN</td>\n",
              "    </tr>\n",
              "    <tr>\n",
              "      <th>11</th>\n",
              "      <td>2</td>\n",
              "      <td>2023-10-05 00:07:26.446</td>\n",
              "      <td>168.0</td>\n",
              "    </tr>\n",
              "    <tr>\n",
              "      <th>12</th>\n",
              "      <td>2</td>\n",
              "      <td>2023-10-05 00:07:27.655</td>\n",
              "      <td>167.0</td>\n",
              "    </tr>\n",
              "    <tr>\n",
              "      <th>13</th>\n",
              "      <td>2</td>\n",
              "      <td>2023-10-05 00:07:30.741</td>\n",
              "      <td>294.0</td>\n",
              "    </tr>\n",
              "    <tr>\n",
              "      <th>14</th>\n",
              "      <td>2</td>\n",
              "      <td>2023-10-05 00:07:35.413</td>\n",
              "      <td>504.0</td>\n",
              "    </tr>\n",
              "  </tbody>\n",
              "</table>\n",
              "</div>\n",
              "    <div class=\"colab-df-buttons\">\n",
              "\n",
              "  <div class=\"colab-df-container\">\n",
              "    <button class=\"colab-df-convert\" onclick=\"convertToInteractive('df-3b7ca746-1164-48bf-91d5-72f4dd857754')\"\n",
              "            title=\"Convert this dataframe to an interactive table.\"\n",
              "            style=\"display:none;\">\n",
              "\n",
              "  <svg xmlns=\"http://www.w3.org/2000/svg\" height=\"24px\" viewBox=\"0 -960 960 960\">\n",
              "    <path d=\"M120-120v-720h720v720H120Zm60-500h600v-160H180v160Zm220 220h160v-160H400v160Zm0 220h160v-160H400v160ZM180-400h160v-160H180v160Zm440 0h160v-160H620v160ZM180-180h160v-160H180v160Zm440 0h160v-160H620v160Z\"/>\n",
              "  </svg>\n",
              "    </button>\n",
              "\n",
              "  <style>\n",
              "    .colab-df-container {\n",
              "      display:flex;\n",
              "      gap: 12px;\n",
              "    }\n",
              "\n",
              "    .colab-df-convert {\n",
              "      background-color: #E8F0FE;\n",
              "      border: none;\n",
              "      border-radius: 50%;\n",
              "      cursor: pointer;\n",
              "      display: none;\n",
              "      fill: #1967D2;\n",
              "      height: 32px;\n",
              "      padding: 0 0 0 0;\n",
              "      width: 32px;\n",
              "    }\n",
              "\n",
              "    .colab-df-convert:hover {\n",
              "      background-color: #E2EBFA;\n",
              "      box-shadow: 0px 1px 2px rgba(60, 64, 67, 0.3), 0px 1px 3px 1px rgba(60, 64, 67, 0.15);\n",
              "      fill: #174EA6;\n",
              "    }\n",
              "\n",
              "    .colab-df-buttons div {\n",
              "      margin-bottom: 4px;\n",
              "    }\n",
              "\n",
              "    [theme=dark] .colab-df-convert {\n",
              "      background-color: #3B4455;\n",
              "      fill: #D2E3FC;\n",
              "    }\n",
              "\n",
              "    [theme=dark] .colab-df-convert:hover {\n",
              "      background-color: #434B5C;\n",
              "      box-shadow: 0px 1px 3px 1px rgba(0, 0, 0, 0.15);\n",
              "      filter: drop-shadow(0px 1px 2px rgba(0, 0, 0, 0.3));\n",
              "      fill: #FFFFFF;\n",
              "    }\n",
              "  </style>\n",
              "\n",
              "    <script>\n",
              "      const buttonEl =\n",
              "        document.querySelector('#df-3b7ca746-1164-48bf-91d5-72f4dd857754 button.colab-df-convert');\n",
              "      buttonEl.style.display =\n",
              "        google.colab.kernel.accessAllowed ? 'block' : 'none';\n",
              "\n",
              "      async function convertToInteractive(key) {\n",
              "        const element = document.querySelector('#df-3b7ca746-1164-48bf-91d5-72f4dd857754');\n",
              "        const dataTable =\n",
              "          await google.colab.kernel.invokeFunction('convertToInteractive',\n",
              "                                                    [key], {});\n",
              "        if (!dataTable) return;\n",
              "\n",
              "        const docLinkHtml = 'Like what you see? Visit the ' +\n",
              "          '<a target=\"_blank\" href=https://colab.research.google.com/notebooks/data_table.ipynb>data table notebook</a>'\n",
              "          + ' to learn more about interactive tables.';\n",
              "        element.innerHTML = '';\n",
              "        dataTable['output_type'] = 'display_data';\n",
              "        await google.colab.output.renderOutput(dataTable, element);\n",
              "        const docLink = document.createElement('div');\n",
              "        docLink.innerHTML = docLinkHtml;\n",
              "        element.appendChild(docLink);\n",
              "      }\n",
              "    </script>\n",
              "  </div>\n",
              "\n",
              "\n",
              "<div id=\"df-295adafe-9a54-432c-8bdb-768949c57b71\">\n",
              "  <button class=\"colab-df-quickchart\" onclick=\"quickchart('df-295adafe-9a54-432c-8bdb-768949c57b71')\"\n",
              "            title=\"Suggest charts.\"\n",
              "            style=\"display:none;\">\n",
              "\n",
              "<svg xmlns=\"http://www.w3.org/2000/svg\" height=\"24px\"viewBox=\"0 0 24 24\"\n",
              "     width=\"24px\">\n",
              "    <g>\n",
              "        <path d=\"M19 3H5c-1.1 0-2 .9-2 2v14c0 1.1.9 2 2 2h14c1.1 0 2-.9 2-2V5c0-1.1-.9-2-2-2zM9 17H7v-7h2v7zm4 0h-2V7h2v10zm4 0h-2v-4h2v4z\"/>\n",
              "    </g>\n",
              "</svg>\n",
              "  </button>\n",
              "\n",
              "<style>\n",
              "  .colab-df-quickchart {\n",
              "      --bg-color: #E8F0FE;\n",
              "      --fill-color: #1967D2;\n",
              "      --hover-bg-color: #E2EBFA;\n",
              "      --hover-fill-color: #174EA6;\n",
              "      --disabled-fill-color: #AAA;\n",
              "      --disabled-bg-color: #DDD;\n",
              "  }\n",
              "\n",
              "  [theme=dark] .colab-df-quickchart {\n",
              "      --bg-color: #3B4455;\n",
              "      --fill-color: #D2E3FC;\n",
              "      --hover-bg-color: #434B5C;\n",
              "      --hover-fill-color: #FFFFFF;\n",
              "      --disabled-bg-color: #3B4455;\n",
              "      --disabled-fill-color: #666;\n",
              "  }\n",
              "\n",
              "  .colab-df-quickchart {\n",
              "    background-color: var(--bg-color);\n",
              "    border: none;\n",
              "    border-radius: 50%;\n",
              "    cursor: pointer;\n",
              "    display: none;\n",
              "    fill: var(--fill-color);\n",
              "    height: 32px;\n",
              "    padding: 0;\n",
              "    width: 32px;\n",
              "  }\n",
              "\n",
              "  .colab-df-quickchart:hover {\n",
              "    background-color: var(--hover-bg-color);\n",
              "    box-shadow: 0 1px 2px rgba(60, 64, 67, 0.3), 0 1px 3px 1px rgba(60, 64, 67, 0.15);\n",
              "    fill: var(--button-hover-fill-color);\n",
              "  }\n",
              "\n",
              "  .colab-df-quickchart-complete:disabled,\n",
              "  .colab-df-quickchart-complete:disabled:hover {\n",
              "    background-color: var(--disabled-bg-color);\n",
              "    fill: var(--disabled-fill-color);\n",
              "    box-shadow: none;\n",
              "  }\n",
              "\n",
              "  .colab-df-spinner {\n",
              "    border: 2px solid var(--fill-color);\n",
              "    border-color: transparent;\n",
              "    border-bottom-color: var(--fill-color);\n",
              "    animation:\n",
              "      spin 1s steps(1) infinite;\n",
              "  }\n",
              "\n",
              "  @keyframes spin {\n",
              "    0% {\n",
              "      border-color: transparent;\n",
              "      border-bottom-color: var(--fill-color);\n",
              "      border-left-color: var(--fill-color);\n",
              "    }\n",
              "    20% {\n",
              "      border-color: transparent;\n",
              "      border-left-color: var(--fill-color);\n",
              "      border-top-color: var(--fill-color);\n",
              "    }\n",
              "    30% {\n",
              "      border-color: transparent;\n",
              "      border-left-color: var(--fill-color);\n",
              "      border-top-color: var(--fill-color);\n",
              "      border-right-color: var(--fill-color);\n",
              "    }\n",
              "    40% {\n",
              "      border-color: transparent;\n",
              "      border-right-color: var(--fill-color);\n",
              "      border-top-color: var(--fill-color);\n",
              "    }\n",
              "    60% {\n",
              "      border-color: transparent;\n",
              "      border-right-color: var(--fill-color);\n",
              "    }\n",
              "    80% {\n",
              "      border-color: transparent;\n",
              "      border-right-color: var(--fill-color);\n",
              "      border-bottom-color: var(--fill-color);\n",
              "    }\n",
              "    90% {\n",
              "      border-color: transparent;\n",
              "      border-bottom-color: var(--fill-color);\n",
              "    }\n",
              "  }\n",
              "</style>\n",
              "\n",
              "  <script>\n",
              "    async function quickchart(key) {\n",
              "      const quickchartButtonEl =\n",
              "        document.querySelector('#' + key + ' button');\n",
              "      quickchartButtonEl.disabled = true;  // To prevent multiple clicks.\n",
              "      quickchartButtonEl.classList.add('colab-df-spinner');\n",
              "      try {\n",
              "        const charts = await google.colab.kernel.invokeFunction(\n",
              "            'suggestCharts', [key], {});\n",
              "      } catch (error) {\n",
              "        console.error('Error during call to suggestCharts:', error);\n",
              "      }\n",
              "      quickchartButtonEl.classList.remove('colab-df-spinner');\n",
              "      quickchartButtonEl.classList.add('colab-df-quickchart-complete');\n",
              "    }\n",
              "    (() => {\n",
              "      let quickchartButtonEl =\n",
              "        document.querySelector('#df-295adafe-9a54-432c-8bdb-768949c57b71 button');\n",
              "      quickchartButtonEl.style.display =\n",
              "        google.colab.kernel.accessAllowed ? 'block' : 'none';\n",
              "    })();\n",
              "  </script>\n",
              "</div>\n",
              "    </div>\n",
              "  </div>\n"
            ]
          },
          "metadata": {},
          "execution_count": 32
        }
      ],
      "source": [
        "dataframe[['Dialogue_ID','StartTime','Reply_waiting_Time']][2:15]"
      ]
    },
    {
      "cell_type": "markdown",
      "source": [
        "# Visualizing"
      ],
      "metadata": {
        "id": "Br8KDcZC31A4"
      }
    },
    {
      "cell_type": "code",
      "source": [
        "import plotly.express as px\n",
        "import plotly.graph_objects as go"
      ],
      "metadata": {
        "id": "qEvAq19C35n2"
      },
      "execution_count": null,
      "outputs": []
    },
    {
      "cell_type": "code",
      "source": [
        "def plot_pdf_box_plot(data, title='', x_axis_label='', y_axis_label=''):\n",
        "    # Create a PDF plot using a histogram\n",
        "    fig = px.histogram(data, nbins=50, marginal=\"box\", title=title, labels={x_axis_label, y_axis_label})\n",
        "\n",
        "    # Update the layout to customize the appearance\n",
        "    fig.update_layout(\n",
        "        xaxis_title=x_axis_label,\n",
        "        yaxis_title=y_axis_label,\n",
        "        boxmode='overlay',  # Display box plot overlay on the PDF plot\n",
        "        showlegend=False     # Hide the legend\n",
        "    )\n",
        "\n",
        "    # Show the plot\n",
        "    fig.show()"
      ],
      "metadata": {
        "id": "ujZ9Ve0w34um"
      },
      "execution_count": null,
      "outputs": []
    },
    {
      "cell_type": "markdown",
      "metadata": {
        "id": "cjr0fRdxYqIj"
      },
      "source": [
        "## Creating Dialog level dataframe"
      ]
    },
    {
      "cell_type": "markdown",
      "metadata": {
        "id": "m84ywh9aM52B"
      },
      "source": [
        "- dialog_df;\n",
        "- [x] dialog_ID\n",
        "- [x] #of speakers\n",
        "- [x] #utterances\n",
        "- [x] #emotions\n",
        "- [x] #sentiments\n",
        "- [x] total time period\n",
        "- [x] avg. untt. per person\n",
        "- [x] avg. time between untt.\n",
        "- [x] all the emotions in the dialog as list\n",
        "- [ ] common sentiment\n",
        "- [ ] {emotion: # occurances}\n",
        "    * {persion: [emotion]}\n",
        "    * {emotion: avg. cont. uttr. of the emotion}"
      ]
    },
    {
      "cell_type": "markdown",
      "metadata": {
        "id": "elAtWEOSoENO"
      },
      "source": [
        "### Dialog level plots\n",
        "#### Distribution plots\n",
        "* [ ] speakers in a conversation violin plot with box plot\n",
        "* [ ] utterances in a conversation violin plot with box plot\n",
        "* [ ] emotions in a conversation histogram\n",
        "* #sentiments in a conversation histogram\n",
        "* total conversation time dist. violin plot with box plot\n",
        "* avg. untt. per person dist. violin plot with box plot\n",
        "* avg. time between untt. violin plot with box plot\n",
        "\n",
        "\n",
        "#### Comparison and Correlation plots\n",
        "* #speakers vs #emotions scatter plot and OLS fit\n"
      ]
    },
    {
      "cell_type": "code",
      "execution_count": null,
      "metadata": {
        "id": "Kd0hzm8KoaWN"
      },
      "outputs": [],
      "source": [
        "# df_copy = df.copy()\n",
        "# by_dialogue = df_copy.groupby('Dialogue_ID')\n",
        "\n",
        "# # number of utterances (lines) per dialogue\n",
        "# no_of_utterances = by_dialogue.Sentiment.mode()\n",
        "# no_of_utterances"
      ]
    },
    {
      "cell_type": "code",
      "execution_count": null,
      "metadata": {
        "id": "L4tvJrwAYpcU"
      },
      "outputs": [],
      "source": [
        "def get_dialogue_df(df):\n",
        "    df_copy = df.copy()\n",
        "    by_dialogue = df_copy.groupby('Dialogue_ID')\n",
        "\n",
        "    # number of utterances (lines) per dialogue\n",
        "    no_of_utterances = by_dialogue.Utterance.size()\n",
        "\n",
        "    # total number of words\n",
        "    tot_words = by_dialogue.Words_uttered.sum()\n",
        "\n",
        "    # dialogue duration (time spent for each utterance in each dialogue)\n",
        "    dialogue_durations = by_dialogue['seconds'].sum()\n",
        "\n",
        "    # mean time of a utterance of a dialogue\n",
        "    mean_time = by_dialogue.seconds.mean()\n",
        "\n",
        "    # Number of speakers in the dialogue\n",
        "    speakers = by_dialogue.Speaker.nunique()\n",
        "\n",
        "    # unique emotions\n",
        "    emotions = by_dialogue.Emotion.unique()\n",
        "\n",
        "    # number of unique emotions\n",
        "    num_emotions = by_dialogue.Emotion.nunique()\n",
        "\n",
        "    # unique sentiments\n",
        "    sentiments = by_dialogue.Sentiment.unique()\n",
        "\n",
        "    # Number od unique sentiments\n",
        "    num_sentiments = by_dialogue.Sentiment.nunique()\n",
        "\n",
        "    # average utterances per person\n",
        "    avg_utt = no_of_utterances/speakers\n",
        "\n",
        "    # most frequent emotion in the dialogue\n",
        "    most_frequent_emotion = by_dialogue['Emotion'].agg(lambda x: x.value_counts().idxmax())\n",
        "\n",
        "    # time between utternaces\n",
        "    # mean_wait = by_dialogue.Reply_waiting_Time.sum()/(by_dialogue.Reply_waiting_Time.count()-1)\n",
        "\n",
        "    # common emotion\n",
        "    common_sentiment = by_dialogue['Sentiment'].apply(mode)\n",
        "\n",
        "    dialogue_df = pd.DataFrame({\n",
        "        'no_of_utterances': no_of_utterances,\n",
        "        'speakers':speakers,\n",
        "        'tot_words':tot_words,\n",
        "        'mean_speech_time':mean_time,\n",
        "        'dialogue_durations':dialogue_durations,\n",
        "        'emotions':emotions,\n",
        "        'num_emotions':num_emotions,\n",
        "        'Most_Frequent_Emotion': most_frequent_emotion,\n",
        "        'num_of_speakers':speakers,\n",
        "        'sentiments':sentiments,\n",
        "        'num_sentiments':num_sentiments,\n",
        "        'Most_common_Sentiment':common_sentiment,\n",
        "        'avg_utterances_per_speaker':avg_utt,\n",
        "        # 'mean_waiting_time':mean_wait\n",
        "        })\n",
        "    return dialogue_df\n"
      ]
    },
    {
      "cell_type": "code",
      "execution_count": null,
      "metadata": {
        "colab": {
          "base_uri": "https://localhost:8080/",
          "height": 500
        },
        "id": "Ry1gHVIYxc0d",
        "outputId": "20483c6b-2d9c-4fc9-e983-9a092b1c8473"
      },
      "outputs": [
        {
          "output_type": "execute_result",
          "data": {
            "text/plain": [
              "             no_of_utterances  speakers  tot_words  mean_speech_time  \\\n",
              "Dialogue_ID                                                            \n",
              "0                           3         2         35          3.391333   \n",
              "1                           8         1         42          2.273375   \n",
              "2                          11         2         63          1.851455   \n",
              "3                           7         3         44          3.341571   \n",
              "4                           9         3         85          2.386222   \n",
              "\n",
              "             dialogue_durations                                   emotions  \\\n",
              "Dialogue_ID                                                                  \n",
              "0                        10.174                 [surprise, anger, neutral]   \n",
              "1                        18.187                             [neutral, joy]   \n",
              "2                        20.366   [neutral, sadness, surprise, anger, joy]   \n",
              "3                        23.391            [neutral, fear, anger, disgust]   \n",
              "4                        21.476  [surprise, neutral, fear, disgust, anger]   \n",
              "\n",
              "             num_emotions Most_Frequent_Emotion  num_of_speakers  \\\n",
              "Dialogue_ID                                                        \n",
              "0                       3              surprise                2   \n",
              "1                       2                   joy                1   \n",
              "2                       5               neutral                2   \n",
              "3                       4               neutral                3   \n",
              "4                       5              surprise                3   \n",
              "\n",
              "                                sentiments  num_sentiments  \\\n",
              "Dialogue_ID                                                  \n",
              "0            [positive, negative, neutral]               3   \n",
              "1                      [neutral, positive]               2   \n",
              "2            [neutral, negative, positive]               3   \n",
              "3                      [neutral, negative]               2   \n",
              "4            [positive, neutral, negative]               3   \n",
              "\n",
              "            Most_common_Sentiment  avg_utterances_per_speaker  \n",
              "Dialogue_ID                                                    \n",
              "0                        positive                    1.500000  \n",
              "1                        positive                    8.000000  \n",
              "2                        negative                    5.500000  \n",
              "3                         neutral                    2.333333  \n",
              "4                        positive                    3.000000  "
            ],
            "text/html": [
              "\n",
              "  <div id=\"df-a4131f22-86bd-4353-90d6-717e44782e32\" class=\"colab-df-container\">\n",
              "    <div>\n",
              "<style scoped>\n",
              "    .dataframe tbody tr th:only-of-type {\n",
              "        vertical-align: middle;\n",
              "    }\n",
              "\n",
              "    .dataframe tbody tr th {\n",
              "        vertical-align: top;\n",
              "    }\n",
              "\n",
              "    .dataframe thead th {\n",
              "        text-align: right;\n",
              "    }\n",
              "</style>\n",
              "<table border=\"1\" class=\"dataframe\">\n",
              "  <thead>\n",
              "    <tr style=\"text-align: right;\">\n",
              "      <th></th>\n",
              "      <th>no_of_utterances</th>\n",
              "      <th>speakers</th>\n",
              "      <th>tot_words</th>\n",
              "      <th>mean_speech_time</th>\n",
              "      <th>dialogue_durations</th>\n",
              "      <th>emotions</th>\n",
              "      <th>num_emotions</th>\n",
              "      <th>Most_Frequent_Emotion</th>\n",
              "      <th>num_of_speakers</th>\n",
              "      <th>sentiments</th>\n",
              "      <th>num_sentiments</th>\n",
              "      <th>Most_common_Sentiment</th>\n",
              "      <th>avg_utterances_per_speaker</th>\n",
              "    </tr>\n",
              "    <tr>\n",
              "      <th>Dialogue_ID</th>\n",
              "      <th></th>\n",
              "      <th></th>\n",
              "      <th></th>\n",
              "      <th></th>\n",
              "      <th></th>\n",
              "      <th></th>\n",
              "      <th></th>\n",
              "      <th></th>\n",
              "      <th></th>\n",
              "      <th></th>\n",
              "      <th></th>\n",
              "      <th></th>\n",
              "      <th></th>\n",
              "    </tr>\n",
              "  </thead>\n",
              "  <tbody>\n",
              "    <tr>\n",
              "      <th>0</th>\n",
              "      <td>3</td>\n",
              "      <td>2</td>\n",
              "      <td>35</td>\n",
              "      <td>3.391333</td>\n",
              "      <td>10.174</td>\n",
              "      <td>[surprise, anger, neutral]</td>\n",
              "      <td>3</td>\n",
              "      <td>surprise</td>\n",
              "      <td>2</td>\n",
              "      <td>[positive, negative, neutral]</td>\n",
              "      <td>3</td>\n",
              "      <td>positive</td>\n",
              "      <td>1.500000</td>\n",
              "    </tr>\n",
              "    <tr>\n",
              "      <th>1</th>\n",
              "      <td>8</td>\n",
              "      <td>1</td>\n",
              "      <td>42</td>\n",
              "      <td>2.273375</td>\n",
              "      <td>18.187</td>\n",
              "      <td>[neutral, joy]</td>\n",
              "      <td>2</td>\n",
              "      <td>joy</td>\n",
              "      <td>1</td>\n",
              "      <td>[neutral, positive]</td>\n",
              "      <td>2</td>\n",
              "      <td>positive</td>\n",
              "      <td>8.000000</td>\n",
              "    </tr>\n",
              "    <tr>\n",
              "      <th>2</th>\n",
              "      <td>11</td>\n",
              "      <td>2</td>\n",
              "      <td>63</td>\n",
              "      <td>1.851455</td>\n",
              "      <td>20.366</td>\n",
              "      <td>[neutral, sadness, surprise, anger, joy]</td>\n",
              "      <td>5</td>\n",
              "      <td>neutral</td>\n",
              "      <td>2</td>\n",
              "      <td>[neutral, negative, positive]</td>\n",
              "      <td>3</td>\n",
              "      <td>negative</td>\n",
              "      <td>5.500000</td>\n",
              "    </tr>\n",
              "    <tr>\n",
              "      <th>3</th>\n",
              "      <td>7</td>\n",
              "      <td>3</td>\n",
              "      <td>44</td>\n",
              "      <td>3.341571</td>\n",
              "      <td>23.391</td>\n",
              "      <td>[neutral, fear, anger, disgust]</td>\n",
              "      <td>4</td>\n",
              "      <td>neutral</td>\n",
              "      <td>3</td>\n",
              "      <td>[neutral, negative]</td>\n",
              "      <td>2</td>\n",
              "      <td>neutral</td>\n",
              "      <td>2.333333</td>\n",
              "    </tr>\n",
              "    <tr>\n",
              "      <th>4</th>\n",
              "      <td>9</td>\n",
              "      <td>3</td>\n",
              "      <td>85</td>\n",
              "      <td>2.386222</td>\n",
              "      <td>21.476</td>\n",
              "      <td>[surprise, neutral, fear, disgust, anger]</td>\n",
              "      <td>5</td>\n",
              "      <td>surprise</td>\n",
              "      <td>3</td>\n",
              "      <td>[positive, neutral, negative]</td>\n",
              "      <td>3</td>\n",
              "      <td>positive</td>\n",
              "      <td>3.000000</td>\n",
              "    </tr>\n",
              "  </tbody>\n",
              "</table>\n",
              "</div>\n",
              "    <div class=\"colab-df-buttons\">\n",
              "\n",
              "  <div class=\"colab-df-container\">\n",
              "    <button class=\"colab-df-convert\" onclick=\"convertToInteractive('df-a4131f22-86bd-4353-90d6-717e44782e32')\"\n",
              "            title=\"Convert this dataframe to an interactive table.\"\n",
              "            style=\"display:none;\">\n",
              "\n",
              "  <svg xmlns=\"http://www.w3.org/2000/svg\" height=\"24px\" viewBox=\"0 -960 960 960\">\n",
              "    <path d=\"M120-120v-720h720v720H120Zm60-500h600v-160H180v160Zm220 220h160v-160H400v160Zm0 220h160v-160H400v160ZM180-400h160v-160H180v160Zm440 0h160v-160H620v160ZM180-180h160v-160H180v160Zm440 0h160v-160H620v160Z\"/>\n",
              "  </svg>\n",
              "    </button>\n",
              "\n",
              "  <style>\n",
              "    .colab-df-container {\n",
              "      display:flex;\n",
              "      gap: 12px;\n",
              "    }\n",
              "\n",
              "    .colab-df-convert {\n",
              "      background-color: #E8F0FE;\n",
              "      border: none;\n",
              "      border-radius: 50%;\n",
              "      cursor: pointer;\n",
              "      display: none;\n",
              "      fill: #1967D2;\n",
              "      height: 32px;\n",
              "      padding: 0 0 0 0;\n",
              "      width: 32px;\n",
              "    }\n",
              "\n",
              "    .colab-df-convert:hover {\n",
              "      background-color: #E2EBFA;\n",
              "      box-shadow: 0px 1px 2px rgba(60, 64, 67, 0.3), 0px 1px 3px 1px rgba(60, 64, 67, 0.15);\n",
              "      fill: #174EA6;\n",
              "    }\n",
              "\n",
              "    .colab-df-buttons div {\n",
              "      margin-bottom: 4px;\n",
              "    }\n",
              "\n",
              "    [theme=dark] .colab-df-convert {\n",
              "      background-color: #3B4455;\n",
              "      fill: #D2E3FC;\n",
              "    }\n",
              "\n",
              "    [theme=dark] .colab-df-convert:hover {\n",
              "      background-color: #434B5C;\n",
              "      box-shadow: 0px 1px 3px 1px rgba(0, 0, 0, 0.15);\n",
              "      filter: drop-shadow(0px 1px 2px rgba(0, 0, 0, 0.3));\n",
              "      fill: #FFFFFF;\n",
              "    }\n",
              "  </style>\n",
              "\n",
              "    <script>\n",
              "      const buttonEl =\n",
              "        document.querySelector('#df-a4131f22-86bd-4353-90d6-717e44782e32 button.colab-df-convert');\n",
              "      buttonEl.style.display =\n",
              "        google.colab.kernel.accessAllowed ? 'block' : 'none';\n",
              "\n",
              "      async function convertToInteractive(key) {\n",
              "        const element = document.querySelector('#df-a4131f22-86bd-4353-90d6-717e44782e32');\n",
              "        const dataTable =\n",
              "          await google.colab.kernel.invokeFunction('convertToInteractive',\n",
              "                                                    [key], {});\n",
              "        if (!dataTable) return;\n",
              "\n",
              "        const docLinkHtml = 'Like what you see? Visit the ' +\n",
              "          '<a target=\"_blank\" href=https://colab.research.google.com/notebooks/data_table.ipynb>data table notebook</a>'\n",
              "          + ' to learn more about interactive tables.';\n",
              "        element.innerHTML = '';\n",
              "        dataTable['output_type'] = 'display_data';\n",
              "        await google.colab.output.renderOutput(dataTable, element);\n",
              "        const docLink = document.createElement('div');\n",
              "        docLink.innerHTML = docLinkHtml;\n",
              "        element.appendChild(docLink);\n",
              "      }\n",
              "    </script>\n",
              "  </div>\n",
              "\n",
              "\n",
              "<div id=\"df-5f5bdf47-9a59-45fb-a480-b7f80c990fad\">\n",
              "  <button class=\"colab-df-quickchart\" onclick=\"quickchart('df-5f5bdf47-9a59-45fb-a480-b7f80c990fad')\"\n",
              "            title=\"Suggest charts.\"\n",
              "            style=\"display:none;\">\n",
              "\n",
              "<svg xmlns=\"http://www.w3.org/2000/svg\" height=\"24px\"viewBox=\"0 0 24 24\"\n",
              "     width=\"24px\">\n",
              "    <g>\n",
              "        <path d=\"M19 3H5c-1.1 0-2 .9-2 2v14c0 1.1.9 2 2 2h14c1.1 0 2-.9 2-2V5c0-1.1-.9-2-2-2zM9 17H7v-7h2v7zm4 0h-2V7h2v10zm4 0h-2v-4h2v4z\"/>\n",
              "    </g>\n",
              "</svg>\n",
              "  </button>\n",
              "\n",
              "<style>\n",
              "  .colab-df-quickchart {\n",
              "      --bg-color: #E8F0FE;\n",
              "      --fill-color: #1967D2;\n",
              "      --hover-bg-color: #E2EBFA;\n",
              "      --hover-fill-color: #174EA6;\n",
              "      --disabled-fill-color: #AAA;\n",
              "      --disabled-bg-color: #DDD;\n",
              "  }\n",
              "\n",
              "  [theme=dark] .colab-df-quickchart {\n",
              "      --bg-color: #3B4455;\n",
              "      --fill-color: #D2E3FC;\n",
              "      --hover-bg-color: #434B5C;\n",
              "      --hover-fill-color: #FFFFFF;\n",
              "      --disabled-bg-color: #3B4455;\n",
              "      --disabled-fill-color: #666;\n",
              "  }\n",
              "\n",
              "  .colab-df-quickchart {\n",
              "    background-color: var(--bg-color);\n",
              "    border: none;\n",
              "    border-radius: 50%;\n",
              "    cursor: pointer;\n",
              "    display: none;\n",
              "    fill: var(--fill-color);\n",
              "    height: 32px;\n",
              "    padding: 0;\n",
              "    width: 32px;\n",
              "  }\n",
              "\n",
              "  .colab-df-quickchart:hover {\n",
              "    background-color: var(--hover-bg-color);\n",
              "    box-shadow: 0 1px 2px rgba(60, 64, 67, 0.3), 0 1px 3px 1px rgba(60, 64, 67, 0.15);\n",
              "    fill: var(--button-hover-fill-color);\n",
              "  }\n",
              "\n",
              "  .colab-df-quickchart-complete:disabled,\n",
              "  .colab-df-quickchart-complete:disabled:hover {\n",
              "    background-color: var(--disabled-bg-color);\n",
              "    fill: var(--disabled-fill-color);\n",
              "    box-shadow: none;\n",
              "  }\n",
              "\n",
              "  .colab-df-spinner {\n",
              "    border: 2px solid var(--fill-color);\n",
              "    border-color: transparent;\n",
              "    border-bottom-color: var(--fill-color);\n",
              "    animation:\n",
              "      spin 1s steps(1) infinite;\n",
              "  }\n",
              "\n",
              "  @keyframes spin {\n",
              "    0% {\n",
              "      border-color: transparent;\n",
              "      border-bottom-color: var(--fill-color);\n",
              "      border-left-color: var(--fill-color);\n",
              "    }\n",
              "    20% {\n",
              "      border-color: transparent;\n",
              "      border-left-color: var(--fill-color);\n",
              "      border-top-color: var(--fill-color);\n",
              "    }\n",
              "    30% {\n",
              "      border-color: transparent;\n",
              "      border-left-color: var(--fill-color);\n",
              "      border-top-color: var(--fill-color);\n",
              "      border-right-color: var(--fill-color);\n",
              "    }\n",
              "    40% {\n",
              "      border-color: transparent;\n",
              "      border-right-color: var(--fill-color);\n",
              "      border-top-color: var(--fill-color);\n",
              "    }\n",
              "    60% {\n",
              "      border-color: transparent;\n",
              "      border-right-color: var(--fill-color);\n",
              "    }\n",
              "    80% {\n",
              "      border-color: transparent;\n",
              "      border-right-color: var(--fill-color);\n",
              "      border-bottom-color: var(--fill-color);\n",
              "    }\n",
              "    90% {\n",
              "      border-color: transparent;\n",
              "      border-bottom-color: var(--fill-color);\n",
              "    }\n",
              "  }\n",
              "</style>\n",
              "\n",
              "  <script>\n",
              "    async function quickchart(key) {\n",
              "      const quickchartButtonEl =\n",
              "        document.querySelector('#' + key + ' button');\n",
              "      quickchartButtonEl.disabled = true;  // To prevent multiple clicks.\n",
              "      quickchartButtonEl.classList.add('colab-df-spinner');\n",
              "      try {\n",
              "        const charts = await google.colab.kernel.invokeFunction(\n",
              "            'suggestCharts', [key], {});\n",
              "      } catch (error) {\n",
              "        console.error('Error during call to suggestCharts:', error);\n",
              "      }\n",
              "      quickchartButtonEl.classList.remove('colab-df-spinner');\n",
              "      quickchartButtonEl.classList.add('colab-df-quickchart-complete');\n",
              "    }\n",
              "    (() => {\n",
              "      let quickchartButtonEl =\n",
              "        document.querySelector('#df-5f5bdf47-9a59-45fb-a480-b7f80c990fad button');\n",
              "      quickchartButtonEl.style.display =\n",
              "        google.colab.kernel.accessAllowed ? 'block' : 'none';\n",
              "    })();\n",
              "  </script>\n",
              "</div>\n",
              "    </div>\n",
              "  </div>\n"
            ]
          },
          "metadata": {},
          "execution_count": 36
        }
      ],
      "source": [
        "dialogue_df = get_dialogue_df(dataframe)\n",
        "dialogue_df.head()"
      ]
    },
    {
      "cell_type": "code",
      "execution_count": null,
      "metadata": {
        "colab": {
          "base_uri": "https://localhost:8080/",
          "height": 300
        },
        "id": "RsMOThMZGDv6",
        "outputId": "dd7fdade-e664-4586-c7e2-df6a323a8cc0"
      },
      "outputs": [
        {
          "data": {
            "text/html": [
              "\n",
              "  <div id=\"df-c3e0f9eb-3fe4-435c-85b5-88ea73b13e48\" class=\"colab-df-container\">\n",
              "    <div>\n",
              "<style scoped>\n",
              "    .dataframe tbody tr th:only-of-type {\n",
              "        vertical-align: middle;\n",
              "    }\n",
              "\n",
              "    .dataframe tbody tr th {\n",
              "        vertical-align: top;\n",
              "    }\n",
              "\n",
              "    .dataframe thead th {\n",
              "        text-align: right;\n",
              "    }\n",
              "</style>\n",
              "<table border=\"1\" class=\"dataframe\">\n",
              "  <thead>\n",
              "    <tr style=\"text-align: right;\">\n",
              "      <th></th>\n",
              "      <th>no_of_utterances</th>\n",
              "      <th>speakers</th>\n",
              "      <th>tot_words</th>\n",
              "      <th>mean_speech_time</th>\n",
              "      <th>dialogue_durations</th>\n",
              "      <th>num_emotions</th>\n",
              "      <th>num_of_speakers</th>\n",
              "      <th>num_sentiments</th>\n",
              "      <th>avg_utterances_per_speaker</th>\n",
              "    </tr>\n",
              "  </thead>\n",
              "  <tbody>\n",
              "    <tr>\n",
              "      <th>count</th>\n",
              "      <td>280.000000</td>\n",
              "      <td>280.000000</td>\n",
              "      <td>280.000000</td>\n",
              "      <td>280.000000</td>\n",
              "      <td>280.000000</td>\n",
              "      <td>280.000000</td>\n",
              "      <td>280.000000</td>\n",
              "      <td>280.000000</td>\n",
              "      <td>280.000000</td>\n",
              "    </tr>\n",
              "    <tr>\n",
              "      <th>mean</th>\n",
              "      <td>9.321429</td>\n",
              "      <td>2.664286</td>\n",
              "      <td>76.553571</td>\n",
              "      <td>3.826786</td>\n",
              "      <td>30.846979</td>\n",
              "      <td>3.242857</td>\n",
              "      <td>2.664286</td>\n",
              "      <td>2.332143</td>\n",
              "      <td>3.656003</td>\n",
              "    </tr>\n",
              "    <tr>\n",
              "      <th>std</th>\n",
              "      <td>5.711421</td>\n",
              "      <td>1.088294</td>\n",
              "      <td>52.668137</td>\n",
              "      <td>7.875380</td>\n",
              "      <td>28.048372</td>\n",
              "      <td>1.340686</td>\n",
              "      <td>1.088294</td>\n",
              "      <td>0.682896</td>\n",
              "      <td>2.413464</td>\n",
              "    </tr>\n",
              "    <tr>\n",
              "      <th>min</th>\n",
              "      <td>1.000000</td>\n",
              "      <td>1.000000</td>\n",
              "      <td>1.000000</td>\n",
              "      <td>0.550500</td>\n",
              "      <td>1.042000</td>\n",
              "      <td>1.000000</td>\n",
              "      <td>1.000000</td>\n",
              "      <td>1.000000</td>\n",
              "      <td>1.000000</td>\n",
              "    </tr>\n",
              "    <tr>\n",
              "      <th>25%</th>\n",
              "      <td>5.000000</td>\n",
              "      <td>2.000000</td>\n",
              "      <td>36.000000</td>\n",
              "      <td>2.435325</td>\n",
              "      <td>14.089750</td>\n",
              "      <td>2.000000</td>\n",
              "      <td>2.000000</td>\n",
              "      <td>2.000000</td>\n",
              "      <td>1.800000</td>\n",
              "    </tr>\n",
              "    <tr>\n",
              "      <th>50%</th>\n",
              "      <td>9.000000</td>\n",
              "      <td>2.000000</td>\n",
              "      <td>70.500000</td>\n",
              "      <td>2.961000</td>\n",
              "      <td>26.949000</td>\n",
              "      <td>3.000000</td>\n",
              "      <td>2.000000</td>\n",
              "      <td>2.000000</td>\n",
              "      <td>3.000000</td>\n",
              "    </tr>\n",
              "    <tr>\n",
              "      <th>75%</th>\n",
              "      <td>13.000000</td>\n",
              "      <td>3.000000</td>\n",
              "      <td>108.250000</td>\n",
              "      <td>3.810672</td>\n",
              "      <td>40.374500</td>\n",
              "      <td>4.000000</td>\n",
              "      <td>3.000000</td>\n",
              "      <td>3.000000</td>\n",
              "      <td>5.000000</td>\n",
              "    </tr>\n",
              "    <tr>\n",
              "      <th>max</th>\n",
              "      <td>33.000000</td>\n",
              "      <td>8.000000</td>\n",
              "      <td>396.000000</td>\n",
              "      <td>119.118500</td>\n",
              "      <td>314.927000</td>\n",
              "      <td>6.000000</td>\n",
              "      <td>8.000000</td>\n",
              "      <td>3.000000</td>\n",
              "      <td>20.000000</td>\n",
              "    </tr>\n",
              "  </tbody>\n",
              "</table>\n",
              "</div>\n",
              "    <div class=\"colab-df-buttons\">\n",
              "\n",
              "  <div class=\"colab-df-container\">\n",
              "    <button class=\"colab-df-convert\" onclick=\"convertToInteractive('df-c3e0f9eb-3fe4-435c-85b5-88ea73b13e48')\"\n",
              "            title=\"Convert this dataframe to an interactive table.\"\n",
              "            style=\"display:none;\">\n",
              "\n",
              "  <svg xmlns=\"http://www.w3.org/2000/svg\" height=\"24px\" viewBox=\"0 -960 960 960\">\n",
              "    <path d=\"M120-120v-720h720v720H120Zm60-500h600v-160H180v160Zm220 220h160v-160H400v160Zm0 220h160v-160H400v160ZM180-400h160v-160H180v160Zm440 0h160v-160H620v160ZM180-180h160v-160H180v160Zm440 0h160v-160H620v160Z\"/>\n",
              "  </svg>\n",
              "    </button>\n",
              "\n",
              "  <style>\n",
              "    .colab-df-container {\n",
              "      display:flex;\n",
              "      gap: 12px;\n",
              "    }\n",
              "\n",
              "    .colab-df-convert {\n",
              "      background-color: #E8F0FE;\n",
              "      border: none;\n",
              "      border-radius: 50%;\n",
              "      cursor: pointer;\n",
              "      display: none;\n",
              "      fill: #1967D2;\n",
              "      height: 32px;\n",
              "      padding: 0 0 0 0;\n",
              "      width: 32px;\n",
              "    }\n",
              "\n",
              "    .colab-df-convert:hover {\n",
              "      background-color: #E2EBFA;\n",
              "      box-shadow: 0px 1px 2px rgba(60, 64, 67, 0.3), 0px 1px 3px 1px rgba(60, 64, 67, 0.15);\n",
              "      fill: #174EA6;\n",
              "    }\n",
              "\n",
              "    .colab-df-buttons div {\n",
              "      margin-bottom: 4px;\n",
              "    }\n",
              "\n",
              "    [theme=dark] .colab-df-convert {\n",
              "      background-color: #3B4455;\n",
              "      fill: #D2E3FC;\n",
              "    }\n",
              "\n",
              "    [theme=dark] .colab-df-convert:hover {\n",
              "      background-color: #434B5C;\n",
              "      box-shadow: 0px 1px 3px 1px rgba(0, 0, 0, 0.15);\n",
              "      filter: drop-shadow(0px 1px 2px rgba(0, 0, 0, 0.3));\n",
              "      fill: #FFFFFF;\n",
              "    }\n",
              "  </style>\n",
              "\n",
              "    <script>\n",
              "      const buttonEl =\n",
              "        document.querySelector('#df-c3e0f9eb-3fe4-435c-85b5-88ea73b13e48 button.colab-df-convert');\n",
              "      buttonEl.style.display =\n",
              "        google.colab.kernel.accessAllowed ? 'block' : 'none';\n",
              "\n",
              "      async function convertToInteractive(key) {\n",
              "        const element = document.querySelector('#df-c3e0f9eb-3fe4-435c-85b5-88ea73b13e48');\n",
              "        const dataTable =\n",
              "          await google.colab.kernel.invokeFunction('convertToInteractive',\n",
              "                                                    [key], {});\n",
              "        if (!dataTable) return;\n",
              "\n",
              "        const docLinkHtml = 'Like what you see? Visit the ' +\n",
              "          '<a target=\"_blank\" href=https://colab.research.google.com/notebooks/data_table.ipynb>data table notebook</a>'\n",
              "          + ' to learn more about interactive tables.';\n",
              "        element.innerHTML = '';\n",
              "        dataTable['output_type'] = 'display_data';\n",
              "        await google.colab.output.renderOutput(dataTable, element);\n",
              "        const docLink = document.createElement('div');\n",
              "        docLink.innerHTML = docLinkHtml;\n",
              "        element.appendChild(docLink);\n",
              "      }\n",
              "    </script>\n",
              "  </div>\n",
              "\n",
              "\n",
              "<div id=\"df-cb4b7b08-37c9-4e26-9f11-fec5048e9289\">\n",
              "  <button class=\"colab-df-quickchart\" onclick=\"quickchart('df-cb4b7b08-37c9-4e26-9f11-fec5048e9289')\"\n",
              "            title=\"Suggest charts.\"\n",
              "            style=\"display:none;\">\n",
              "\n",
              "<svg xmlns=\"http://www.w3.org/2000/svg\" height=\"24px\"viewBox=\"0 0 24 24\"\n",
              "     width=\"24px\">\n",
              "    <g>\n",
              "        <path d=\"M19 3H5c-1.1 0-2 .9-2 2v14c0 1.1.9 2 2 2h14c1.1 0 2-.9 2-2V5c0-1.1-.9-2-2-2zM9 17H7v-7h2v7zm4 0h-2V7h2v10zm4 0h-2v-4h2v4z\"/>\n",
              "    </g>\n",
              "</svg>\n",
              "  </button>\n",
              "\n",
              "<style>\n",
              "  .colab-df-quickchart {\n",
              "      --bg-color: #E8F0FE;\n",
              "      --fill-color: #1967D2;\n",
              "      --hover-bg-color: #E2EBFA;\n",
              "      --hover-fill-color: #174EA6;\n",
              "      --disabled-fill-color: #AAA;\n",
              "      --disabled-bg-color: #DDD;\n",
              "  }\n",
              "\n",
              "  [theme=dark] .colab-df-quickchart {\n",
              "      --bg-color: #3B4455;\n",
              "      --fill-color: #D2E3FC;\n",
              "      --hover-bg-color: #434B5C;\n",
              "      --hover-fill-color: #FFFFFF;\n",
              "      --disabled-bg-color: #3B4455;\n",
              "      --disabled-fill-color: #666;\n",
              "  }\n",
              "\n",
              "  .colab-df-quickchart {\n",
              "    background-color: var(--bg-color);\n",
              "    border: none;\n",
              "    border-radius: 50%;\n",
              "    cursor: pointer;\n",
              "    display: none;\n",
              "    fill: var(--fill-color);\n",
              "    height: 32px;\n",
              "    padding: 0;\n",
              "    width: 32px;\n",
              "  }\n",
              "\n",
              "  .colab-df-quickchart:hover {\n",
              "    background-color: var(--hover-bg-color);\n",
              "    box-shadow: 0 1px 2px rgba(60, 64, 67, 0.3), 0 1px 3px 1px rgba(60, 64, 67, 0.15);\n",
              "    fill: var(--button-hover-fill-color);\n",
              "  }\n",
              "\n",
              "  .colab-df-quickchart-complete:disabled,\n",
              "  .colab-df-quickchart-complete:disabled:hover {\n",
              "    background-color: var(--disabled-bg-color);\n",
              "    fill: var(--disabled-fill-color);\n",
              "    box-shadow: none;\n",
              "  }\n",
              "\n",
              "  .colab-df-spinner {\n",
              "    border: 2px solid var(--fill-color);\n",
              "    border-color: transparent;\n",
              "    border-bottom-color: var(--fill-color);\n",
              "    animation:\n",
              "      spin 1s steps(1) infinite;\n",
              "  }\n",
              "\n",
              "  @keyframes spin {\n",
              "    0% {\n",
              "      border-color: transparent;\n",
              "      border-bottom-color: var(--fill-color);\n",
              "      border-left-color: var(--fill-color);\n",
              "    }\n",
              "    20% {\n",
              "      border-color: transparent;\n",
              "      border-left-color: var(--fill-color);\n",
              "      border-top-color: var(--fill-color);\n",
              "    }\n",
              "    30% {\n",
              "      border-color: transparent;\n",
              "      border-left-color: var(--fill-color);\n",
              "      border-top-color: var(--fill-color);\n",
              "      border-right-color: var(--fill-color);\n",
              "    }\n",
              "    40% {\n",
              "      border-color: transparent;\n",
              "      border-right-color: var(--fill-color);\n",
              "      border-top-color: var(--fill-color);\n",
              "    }\n",
              "    60% {\n",
              "      border-color: transparent;\n",
              "      border-right-color: var(--fill-color);\n",
              "    }\n",
              "    80% {\n",
              "      border-color: transparent;\n",
              "      border-right-color: var(--fill-color);\n",
              "      border-bottom-color: var(--fill-color);\n",
              "    }\n",
              "    90% {\n",
              "      border-color: transparent;\n",
              "      border-bottom-color: var(--fill-color);\n",
              "    }\n",
              "  }\n",
              "</style>\n",
              "\n",
              "  <script>\n",
              "    async function quickchart(key) {\n",
              "      const quickchartButtonEl =\n",
              "        document.querySelector('#' + key + ' button');\n",
              "      quickchartButtonEl.disabled = true;  // To prevent multiple clicks.\n",
              "      quickchartButtonEl.classList.add('colab-df-spinner');\n",
              "      try {\n",
              "        const charts = await google.colab.kernel.invokeFunction(\n",
              "            'suggestCharts', [key], {});\n",
              "      } catch (error) {\n",
              "        console.error('Error during call to suggestCharts:', error);\n",
              "      }\n",
              "      quickchartButtonEl.classList.remove('colab-df-spinner');\n",
              "      quickchartButtonEl.classList.add('colab-df-quickchart-complete');\n",
              "    }\n",
              "    (() => {\n",
              "      let quickchartButtonEl =\n",
              "        document.querySelector('#df-cb4b7b08-37c9-4e26-9f11-fec5048e9289 button');\n",
              "      quickchartButtonEl.style.display =\n",
              "        google.colab.kernel.accessAllowed ? 'block' : 'none';\n",
              "    })();\n",
              "  </script>\n",
              "</div>\n",
              "    </div>\n",
              "  </div>\n"
            ],
            "text/plain": [
              "       no_of_utterances    speakers   tot_words  mean_speech_time  \\\n",
              "count        280.000000  280.000000  280.000000        280.000000   \n",
              "mean           9.321429    2.664286   76.553571          3.826786   \n",
              "std            5.711421    1.088294   52.668137          7.875380   \n",
              "min            1.000000    1.000000    1.000000          0.550500   \n",
              "25%            5.000000    2.000000   36.000000          2.435325   \n",
              "50%            9.000000    2.000000   70.500000          2.961000   \n",
              "75%           13.000000    3.000000  108.250000          3.810672   \n",
              "max           33.000000    8.000000  396.000000        119.118500   \n",
              "\n",
              "       dialogue_durations  num_emotions  num_of_speakers  num_sentiments  \\\n",
              "count          280.000000    280.000000       280.000000      280.000000   \n",
              "mean            30.846979      3.242857         2.664286        2.332143   \n",
              "std             28.048372      1.340686         1.088294        0.682896   \n",
              "min              1.042000      1.000000         1.000000        1.000000   \n",
              "25%             14.089750      2.000000         2.000000        2.000000   \n",
              "50%             26.949000      3.000000         2.000000        2.000000   \n",
              "75%             40.374500      4.000000         3.000000        3.000000   \n",
              "max            314.927000      6.000000         8.000000        3.000000   \n",
              "\n",
              "       avg_utterances_per_speaker  \n",
              "count                  280.000000  \n",
              "mean                     3.656003  \n",
              "std                      2.413464  \n",
              "min                      1.000000  \n",
              "25%                      1.800000  \n",
              "50%                      3.000000  \n",
              "75%                      5.000000  \n",
              "max                     20.000000  "
            ]
          },
          "execution_count": 85,
          "metadata": {},
          "output_type": "execute_result"
        }
      ],
      "source": [
        "dialogue_df.describe()\n",
        "# count- no of Dialogues\n",
        "# no_of_utterances= utterances per dialogue"
      ]
    },
    {
      "cell_type": "markdown",
      "metadata": {
        "id": "Ik3Om714GDv7"
      },
      "source": [
        "### Utterance"
      ]
    },
    {
      "cell_type": "code",
      "execution_count": null,
      "metadata": {
        "id": "FssNVfAHuFcd"
      },
      "outputs": [],
      "source": [
        "plot_hist(df: pd.DataFrame, column: str, x_label: str=\"\", y_label: str=\"\", title: str=\"\")"
      ]
    },
    {
      "cell_type": "code",
      "execution_count": null,
      "metadata": {
        "colab": {
          "base_uri": "https://localhost:8080/",
          "height": 536
        },
        "id": "6WoXdx9rs1Xn",
        "outputId": "972919fb-68c8-47cf-de62-b20e8e689485"
      },
      "outputs": [
        {
          "data": {
            "image/png": "[encoded data removed]",
            "text/plain": [
              "<Figure size 1000x600 with 1 Axes>"
            ]
          },
          "metadata": {},
          "output_type": "display_data"
        }
      ],
      "source": [
        "plot_hist(dialogue_df,\"no_of_utterances\",'Number of Utterances',\"Frequency\",'Distribution of No. Utterances per Dialogue')\n"
      ]
    },
    {
      "cell_type": "code",
      "execution_count": null,
      "metadata": {
        "id": "Pdt0pmM5GDv6"
      },
      "outputs": [],
      "source": [
        "# plt.figure(figsize=(10, 6))\n",
        "# sns.histplot(data=dialogue_df, x='no_of_utterances', bins=50)\n",
        "# plt.title('Distribution of No. Utterances per Dialogue')\n",
        "# plt.xlabel('Number of Utterances')\n",
        "# plt.ylabel('Frequency')\n",
        "# plt.show()\n"
      ]
    },
    {
      "cell_type": "code",
      "execution_count": null,
      "metadata": {
        "colab": {
          "base_uri": "https://localhost:8080/",
          "height": 467
        },
        "id": "jJOSsljPbqRT",
        "outputId": "e09561a2-1197-4bad-bf39-7bcb40fdb2df"
      },
      "outputs": [
        {
          "data": {
            "text/plain": [
              "<Axes: xlabel='no_of_utterances'>"
            ]
          },
          "execution_count": 87,
          "metadata": {},
          "output_type": "execute_result"
        },
        {
          "data": {
            "image/png": "[encoded data removed]",
            "text/plain": [
              "<Figure size 640x480 with 1 Axes>"
            ]
          },
          "metadata": {},
          "output_type": "display_data"
        }
      ],
      "source": [
        "sns.violinplot(x=dialogue_df.no_of_utterances)"
      ]
    },
    {
      "cell_type": "code",
      "execution_count": null,
      "metadata": {
        "colab": {
          "base_uri": "https://localhost:8080/",
          "height": 467
        },
        "id": "Buh3foq6SvWT",
        "outputId": "3ee3d7fd-de8c-41b7-fd5b-679ea4c443eb"
      },
      "outputs": [
        {
          "data": {
            "text/plain": [
              "<Axes: xlabel='no_of_utterances'>"
            ]
          },
          "execution_count": 88,
          "metadata": {},
          "output_type": "execute_result"
        },
        {
          "data": {
            "image/png": "[encoded data removed]",
            "text/plain": [
              "<Figure size 640x480 with 1 Axes>"
            ]
          },
          "metadata": {},
          "output_type": "display_data"
        }
      ],
      "source": [
        "sns.boxplot(x=dialogue_df.no_of_utterances)"
      ]
    },
    {
      "cell_type": "markdown",
      "metadata": {
        "id": "eqHHskdPdgsw"
      },
      "source": [
        "### Word count"
      ]
    },
    {
      "cell_type": "code",
      "execution_count": null,
      "metadata": {
        "id": "cXv79bRWzwrW"
      },
      "outputs": [],
      "source": [
        "plot_hist(dialogue_df,\"no_of_utterances\",'Number of Utterances',\"Frequency\",'Distribution of No. Utterances per Dialogue')\n"
      ]
    },
    {
      "cell_type": "code",
      "execution_count": null,
      "metadata": {
        "colab": {
          "base_uri": "https://localhost:8080/",
          "height": 581
        },
        "id": "uMiTwcZzdjxM",
        "outputId": "c3aad74e-3943-485d-a307-dec20a761878"
      },
      "outputs": [
        {
          "data": {
            "text/plain": [
              "<Figure size 1000x600 with 0 Axes>"
            ]
          },
          "execution_count": 89,
          "metadata": {},
          "output_type": "execute_result"
        },
        {
          "data": {
            "text/plain": [
              "<Axes: xlabel='tot_words', ylabel='Count'>"
            ]
          },
          "execution_count": 89,
          "metadata": {},
          "output_type": "execute_result"
        },
        {
          "data": {
            "text/plain": [
              "Text(0.5, 1.0, 'Distribution of No. words per Dialogue')"
            ]
          },
          "execution_count": 89,
          "metadata": {},
          "output_type": "execute_result"
        },
        {
          "data": {
            "text/plain": [
              "Text(0.5, 0, 'Number of Words')"
            ]
          },
          "execution_count": 89,
          "metadata": {},
          "output_type": "execute_result"
        },
        {
          "data": {
            "text/plain": [
              "Text(0, 0.5, 'Frequency')"
            ]
          },
          "execution_count": 89,
          "metadata": {},
          "output_type": "execute_result"
        },
        {
          "data": {
            "image/png": "[encoded data removed]",
            "text/plain": [
              "<Figure size 1000x600 with 1 Axes>"
            ]
          },
          "metadata": {},
          "output_type": "display_data"
        }
      ],
      "source": [
        "plt.figure(figsize=(10, 6))\n",
        "sns.histplot(data=dialogue_df, x='tot_words', bins=50)\n",
        "plt.title('Distribution of No. words per Dialogue')\n",
        "plt.xlabel('Number of Words')\n",
        "plt.ylabel('Frequency')\n",
        "plt.show()"
      ]
    },
    {
      "cell_type": "code",
      "execution_count": null,
      "metadata": {
        "colab": {
          "base_uri": "https://localhost:8080/",
          "height": 467
        },
        "id": "0y1XiKfEeKYi",
        "outputId": "b106ca2a-fa91-41c1-cec0-2e6474941084"
      },
      "outputs": [
        {
          "data": {
            "text/plain": [
              "<Axes: xlabel='tot_words'>"
            ]
          },
          "execution_count": 90,
          "metadata": {},
          "output_type": "execute_result"
        },
        {
          "data": {
            "image/png": "[encoded data removed]",
            "text/plain": [
              "<Figure size 640x480 with 1 Axes>"
            ]
          },
          "metadata": {},
          "output_type": "display_data"
        }
      ],
      "source": [
        "sns.violinplot(x=dialogue_df.tot_words)"
      ]
    },
    {
      "cell_type": "code",
      "execution_count": null,
      "metadata": {
        "colab": {
          "base_uri": "https://localhost:8080/",
          "height": 467
        },
        "id": "D5Xj5cV0SfrI",
        "outputId": "9e2b9dd5-7147-46f1-fb95-89973f490b26"
      },
      "outputs": [
        {
          "data": {
            "text/plain": [
              "<Axes: xlabel='tot_words'>"
            ]
          },
          "execution_count": 91,
          "metadata": {},
          "output_type": "execute_result"
        },
        {
          "data": {
            "image/png": "[encoded data removed]",
            "text/plain": [
              "<Figure size 640x480 with 1 Axes>"
            ]
          },
          "metadata": {},
          "output_type": "display_data"
        }
      ],
      "source": [
        "sns.boxplot(x=dialogue_df.tot_words)"
      ]
    },
    {
      "cell_type": "markdown",
      "metadata": {
        "id": "kCdd-9EXGDv9"
      },
      "source": [
        "### Time"
      ]
    },
    {
      "cell_type": "code",
      "execution_count": null,
      "metadata": {
        "colab": {
          "base_uri": "https://localhost:8080/",
          "height": 581
        },
        "id": "WdPukTKEGDv9",
        "outputId": "e860071b-d8fd-4663-f780-87c2e641e553"
      },
      "outputs": [
        {
          "data": {
            "text/plain": [
              "<Figure size 1000x600 with 0 Axes>"
            ]
          },
          "execution_count": 92,
          "metadata": {},
          "output_type": "execute_result"
        },
        {
          "data": {
            "text/plain": [
              "<Axes: xlabel='dialogue_durations', ylabel='Count'>"
            ]
          },
          "execution_count": 92,
          "metadata": {},
          "output_type": "execute_result"
        },
        {
          "data": {
            "text/plain": [
              "Text(0.5, 1.0, 'Distribution of Time For Utterances in a Dialogue')"
            ]
          },
          "execution_count": 92,
          "metadata": {},
          "output_type": "execute_result"
        },
        {
          "data": {
            "text/plain": [
              "Text(0.5, 0, 'Total Speech Time')"
            ]
          },
          "execution_count": 92,
          "metadata": {},
          "output_type": "execute_result"
        },
        {
          "data": {
            "text/plain": [
              "Text(0, 0.5, 'Frequency')"
            ]
          },
          "execution_count": 92,
          "metadata": {},
          "output_type": "execute_result"
        },
        {
          "data": {
            "image/png": "[encoded data removed]",
            "text/plain": [
              "<Figure size 1000x600 with 1 Axes>"
            ]
          },
          "metadata": {},
          "output_type": "display_data"
        }
      ],
      "source": [
        "plt.figure(figsize=(10, 6))\n",
        "sns.histplot(data=dialogue_df, x='dialogue_durations', bins=50)\n",
        "plt.title('Distribution of Time For Utterances in a Dialogue')\n",
        "plt.xlabel('Total Speech Time')\n",
        "plt.ylabel('Frequency')\n",
        "plt.show()"
      ]
    },
    {
      "cell_type": "code",
      "execution_count": null,
      "metadata": {
        "colab": {
          "base_uri": "https://localhost:8080/",
          "height": 467
        },
        "id": "XL5V2nk_GDv9",
        "outputId": "82f4467d-7452-48a0-c34d-c0385aa660e3"
      },
      "outputs": [
        {
          "data": {
            "text/plain": [
              "<Axes: xlabel='dialogue_durations'>"
            ]
          },
          "execution_count": 93,
          "metadata": {},
          "output_type": "execute_result"
        },
        {
          "data": {
            "image/png": "[encoded data removed]",
            "text/plain": [
              "<Figure size 640x480 with 1 Axes>"
            ]
          },
          "metadata": {},
          "output_type": "display_data"
        }
      ],
      "source": [
        "sns.violinplot(x=dialogue_df.dialogue_durations)"
      ]
    },
    {
      "cell_type": "code",
      "execution_count": null,
      "metadata": {
        "colab": {
          "base_uri": "https://localhost:8080/",
          "height": 467
        },
        "id": "URM5ZTDbRiez",
        "outputId": "adb8046a-1117-4a19-dfe4-e3eb96e416fd"
      },
      "outputs": [
        {
          "data": {
            "text/plain": [
              "<Axes: xlabel='dialogue_durations'>"
            ]
          },
          "execution_count": 94,
          "metadata": {},
          "output_type": "execute_result"
        },
        {
          "data": {
            "image/png": "[encoded data removed]",
            "text/plain": [
              "<Figure size 640x480 with 1 Axes>"
            ]
          },
          "metadata": {},
          "output_type": "display_data"
        }
      ],
      "source": [
        "sns.boxplot(x=dialogue_df.dialogue_durations)"
      ]
    },
    {
      "cell_type": "markdown",
      "metadata": {
        "id": "aI54J0EPGDwA"
      },
      "source": [
        "### Parties"
      ]
    },
    {
      "cell_type": "code",
      "execution_count": null,
      "metadata": {
        "colab": {
          "base_uri": "https://localhost:8080/",
          "height": 599
        },
        "id": "DGVWIpMkGDwA",
        "outputId": "7343e4e0-95bc-4d02-8cb7-0a1bf2b614d1"
      },
      "outputs": [
        {
          "data": {
            "text/plain": [
              "<Figure size 1000x600 with 0 Axes>"
            ]
          },
          "execution_count": 95,
          "metadata": {},
          "output_type": "execute_result"
        },
        {
          "data": {
            "text/plain": [
              "<Axes: xlabel='num_of_speakers', ylabel='Count'>"
            ]
          },
          "execution_count": 95,
          "metadata": {},
          "output_type": "execute_result"
        },
        {
          "data": {
            "text/plain": [
              "Text(0.5, 1.0, 'Distribution of No. Speakers per Dialogue')"
            ]
          },
          "execution_count": 95,
          "metadata": {},
          "output_type": "execute_result"
        },
        {
          "data": {
            "text/plain": [
              "Text(0.5, 0, 'Number of Speakers in the Dialogue')"
            ]
          },
          "execution_count": 95,
          "metadata": {},
          "output_type": "execute_result"
        },
        {
          "data": {
            "text/plain": [
              "Text(0, 0.5, 'Frequency')"
            ]
          },
          "execution_count": 95,
          "metadata": {},
          "output_type": "execute_result"
        },
        {
          "data": {
            "image/png": "[encoded data removed]",
            "text/plain": [
              "<Figure size 1000x600 with 1 Axes>"
            ]
          },
          "metadata": {},
          "output_type": "display_data"
        }
      ],
      "source": [
        "plt.figure(figsize=(10, 6))\n",
        "sns.histplot(data=dialogue_df, x='num_of_speakers', bins=10)\n",
        "plt.title('Distribution of No. Speakers per Dialogue')\n",
        "plt.xlabel('Number of Speakers in the Dialogue')\n",
        "plt.ylabel('Frequency')\n",
        "plt.show()"
      ]
    },
    {
      "cell_type": "code",
      "execution_count": null,
      "metadata": {
        "colab": {
          "base_uri": "https://localhost:8080/",
          "height": 466
        },
        "id": "Eu8_n_28GDwA",
        "outputId": "4a6b7f64-e54a-4502-957b-8960f5b327b8"
      },
      "outputs": [
        {
          "data": {
            "text/plain": [
              "<Axes: xlabel='speakers'>"
            ]
          },
          "execution_count": 96,
          "metadata": {},
          "output_type": "execute_result"
        },
        {
          "data": {
            "image/png": "[encoded data removed]",
            "text/plain": [
              "<Figure size 640x480 with 1 Axes>"
            ]
          },
          "metadata": {},
          "output_type": "display_data"
        }
      ],
      "source": [
        "sns.violinplot(x=dialogue_df[\"speakers\"])"
      ]
    },
    {
      "cell_type": "code",
      "execution_count": null,
      "metadata": {
        "colab": {
          "base_uri": "https://localhost:8080/",
          "height": 466
        },
        "id": "OqdkEUyrQzOE",
        "outputId": "cd1001e1-7159-4d43-958c-2e9535bc8857"
      },
      "outputs": [
        {
          "data": {
            "text/plain": [
              "<Axes: xlabel='speakers'>"
            ]
          },
          "execution_count": 97,
          "metadata": {},
          "output_type": "execute_result"
        },
        {
          "data": {
            "image/png": "[encoded data removed]",
            "text/plain": [
              "<Figure size 640x480 with 1 Axes>"
            ]
          },
          "metadata": {},
          "output_type": "display_data"
        }
      ],
      "source": [
        "sns.boxplot(x=dialogue_df.speakers)"
      ]
    },
    {
      "cell_type": "markdown",
      "metadata": {
        "id": "gVVjTM00GDwE"
      },
      "source": [
        "### Emotions"
      ]
    },
    {
      "cell_type": "code",
      "execution_count": null,
      "metadata": {
        "colab": {
          "base_uri": "https://localhost:8080/",
          "height": 445
        },
        "id": "DbmKwZSef9ba",
        "outputId": "44c558e8-5cf6-4d41-e730-2d9438f4fcc5"
      },
      "outputs": [
        {
          "data": {
            "text/plain": [
              "<Figure size 600x400 with 0 Axes>"
            ]
          },
          "execution_count": 98,
          "metadata": {},
          "output_type": "execute_result"
        },
        {
          "data": {
            "text/plain": [
              "<Axes: xlabel='num_emotions', ylabel='Count'>"
            ]
          },
          "execution_count": 98,
          "metadata": {},
          "output_type": "execute_result"
        },
        {
          "data": {
            "text/plain": [
              "Text(0.5, 1.0, 'Distribution of No.Unique Emotions per Dialogue')"
            ]
          },
          "execution_count": 98,
          "metadata": {},
          "output_type": "execute_result"
        },
        {
          "data": {
            "text/plain": [
              "Text(0.5, 0, 'Total Number of Unique Emotions in the Dialogue')"
            ]
          },
          "execution_count": 98,
          "metadata": {},
          "output_type": "execute_result"
        },
        {
          "data": {
            "text/plain": [
              "Text(0, 0.5, 'Frequency')"
            ]
          },
          "execution_count": 98,
          "metadata": {},
          "output_type": "execute_result"
        },
        {
          "data": {
            "image/png": "[encoded data removed]",
            "text/plain": [
              "<Figure size 600x400 with 1 Axes>"
            ]
          },
          "metadata": {},
          "output_type": "display_data"
        }
      ],
      "source": [
        "plt.figure(figsize=(6, 4))\n",
        "sns.histplot(data=dialogue_df, x='num_emotions', bins=8)\n",
        "plt.title('Distribution of No.Unique Emotions per Dialogue')\n",
        "plt.xlabel('Total Number of Unique Emotions in the Dialogue')\n",
        "plt.ylabel('Frequency')\n",
        "plt.show()"
      ]
    },
    {
      "cell_type": "code",
      "execution_count": null,
      "metadata": {
        "colab": {
          "base_uri": "https://localhost:8080/",
          "height": 467
        },
        "id": "NpXKiFkqSQH1",
        "outputId": "b1ee1174-d9ae-4aba-ee0c-72bfcda6ef9c"
      },
      "outputs": [
        {
          "data": {
            "text/plain": [
              "<Axes: xlabel='num_emotions'>"
            ]
          },
          "execution_count": 99,
          "metadata": {},
          "output_type": "execute_result"
        },
        {
          "data": {
            "image/png": "[encoded data removed]",
            "text/plain": [
              "<Figure size 640x480 with 1 Axes>"
            ]
          },
          "metadata": {},
          "output_type": "display_data"
        }
      ],
      "source": [
        "sns.boxplot(x=dialogue_df.num_emotions)"
      ]
    },
    {
      "cell_type": "code",
      "execution_count": null,
      "metadata": {
        "colab": {
          "base_uri": "https://localhost:8080/",
          "height": 467
        },
        "id": "8xRUeri-SVMs",
        "outputId": "9288e8bb-c470-4c5d-8389-c9649351307e"
      },
      "outputs": [
        {
          "data": {
            "text/plain": [
              "<Axes: xlabel='num_emotions'>"
            ]
          },
          "execution_count": 100,
          "metadata": {},
          "output_type": "execute_result"
        },
        {
          "data": {
            "image/png": "[encoded data removed]",
            "text/plain": [
              "<Figure size 640x480 with 1 Axes>"
            ]
          },
          "metadata": {},
          "output_type": "display_data"
        }
      ],
      "source": [
        "sns.violinplot(x=dialogue_df.num_emotions)"
      ]
    },
    {
      "cell_type": "code",
      "execution_count": null,
      "metadata": {
        "colab": {
          "base_uri": "https://localhost:8080/",
          "height": 722
        },
        "id": "kfYUHFYaGDwE",
        "outputId": "37f409aa-3802-45f9-dd6f-c558959559f2"
      },
      "outputs": [
        {
          "data": {
            "text/plain": [
              "<Figure size 1000x600 with 0 Axes>"
            ]
          },
          "execution_count": 101,
          "metadata": {},
          "output_type": "execute_result"
        },
        {
          "data": {
            "text/plain": [
              "<Axes: xlabel='Most_Frequent_Emotion', ylabel='count'>"
            ]
          },
          "execution_count": 101,
          "metadata": {},
          "output_type": "execute_result"
        },
        {
          "data": {
            "text/plain": [
              "Text(0.5, 1.0, 'Most Frequent Emotions in Dialogues')"
            ]
          },
          "execution_count": 101,
          "metadata": {},
          "output_type": "execute_result"
        },
        {
          "data": {
            "text/plain": [
              "(array([0, 1, 2, 3, 4, 5]),\n",
              " [Text(0, 0, 'neutral'),\n",
              "  Text(1, 0, 'joy'),\n",
              "  Text(2, 0, 'anger'),\n",
              "  Text(3, 0, 'surprise'),\n",
              "  Text(4, 0, 'sadness'),\n",
              "  Text(5, 0, 'disgust')])"
            ]
          },
          "execution_count": 101,
          "metadata": {},
          "output_type": "execute_result"
        },
        {
          "data": {
            "image/png": "[encoded data removed]",
            "text/plain": [
              "<Figure size 1000x600 with 1 Axes>"
            ]
          },
          "metadata": {},
          "output_type": "display_data"
        }
      ],
      "source": [
        "# most frequent emotions in dialogues\n",
        "plt.figure(figsize=(10, 6))\n",
        "sns.countplot(data=dialogue_df, x='Most_Frequent_Emotion', order=dialogue_df['Most_Frequent_Emotion'].value_counts().index)\n",
        "plt.title('Most Frequent Emotions in Dialogues')\n",
        "plt.xticks(rotation=45)\n",
        "plt.show()"
      ]
    },
    {
      "cell_type": "markdown",
      "metadata": {
        "id": "pNwexitxGDwF"
      },
      "source": [
        "### Sentiments"
      ]
    },
    {
      "cell_type": "code",
      "execution_count": null,
      "metadata": {
        "colab": {
          "base_uri": "https://localhost:8080/",
          "height": 742
        },
        "id": "hc73E6lnGDwF",
        "outputId": "db415a18-26cf-4a9e-b8aa-83f053be948b"
      },
      "outputs": [
        {
          "data": {
            "text/plain": [
              "Dialogue_ID\n",
              "0    positive\n",
              "1    positive\n",
              "2    negative\n",
              "3     neutral\n",
              "4    positive\n",
              "Name: Sentiment, dtype: object"
            ]
          },
          "execution_count": 102,
          "metadata": {},
          "output_type": "execute_result"
        },
        {
          "data": {
            "text/plain": [
              "<Figure size 1000x600 with 0 Axes>"
            ]
          },
          "execution_count": 102,
          "metadata": {},
          "output_type": "execute_result"
        },
        {
          "data": {
            "text/plain": [
              "<Axes: xlabel='Most_Frequent_Sentiment', ylabel='count'>"
            ]
          },
          "execution_count": 102,
          "metadata": {},
          "output_type": "execute_result"
        },
        {
          "data": {
            "text/plain": [
              "Text(0.5, 1.0, 'Most Frequent Sentiment in Dialogues')"
            ]
          },
          "execution_count": 102,
          "metadata": {},
          "output_type": "execute_result"
        },
        {
          "data": {
            "text/plain": [
              "(array([0, 1, 2]),\n",
              " [Text(0, 0, 'neutral'), Text(1, 0, 'negative'), Text(2, 0, 'positive')])"
            ]
          },
          "execution_count": 102,
          "metadata": {},
          "output_type": "execute_result"
        },
        {
          "data": {
            "image/png": "[encoded data removed]",
            "text/plain": [
              "<Figure size 1000x600 with 1 Axes>"
            ]
          },
          "metadata": {},
          "output_type": "display_data"
        }
      ],
      "source": [
        "#Get the most frequent sentiment in each dialogue\n",
        "dialogue_most_frequent_sentiment = df.groupby('Dialogue_ID')['Sentiment'].agg(lambda x: x.value_counts().idxmax())\n",
        "dialogue_most_frequent_sentiment[0:5]\n",
        "df_dialogue_sentiment = pd.DataFrame({'Dialogue_ID':dialogue_most_frequent_sentiment.index,'Most_Frequent_Sentiment':dialogue_most_frequent_sentiment.values})\n",
        "\n",
        "# most frequent sentiment in dialogues\n",
        "plt.figure(figsize=(10, 6))\n",
        "sns.countplot(data=df_dialogue_sentiment, x='Most_Frequent_Sentiment', order=df_dialogue_sentiment['Most_Frequent_Sentiment'].value_counts().index)\n",
        "plt.title('Most Frequent Sentiment in Dialogues')\n",
        "plt.xticks(rotation=45)\n",
        "plt.show()"
      ]
    },
    {
      "cell_type": "markdown",
      "metadata": {
        "id": "YkoaLrLxGDwG"
      },
      "source": [
        "---"
      ]
    },
    {
      "cell_type": "markdown",
      "metadata": {
        "id": "zBVKjRjVGDwH"
      },
      "source": [
        "### Utterances per speker"
      ]
    },
    {
      "cell_type": "code",
      "source": [
        "plot_pdf_box_plot(dialogue_df['avg_utterances_per_speaker'], title='Distribution of Number of Utterances per Speaker in a Dialogue', x_axis_label='Utterances per Speaker', y_axis_label='Frequency')"
      ],
      "metadata": {
        "colab": {
          "base_uri": "https://localhost:8080/",
          "height": 542
        },
        "id": "QLvptpSg0p2u",
        "outputId": "5668d8d0-9f48-40f0-ca6f-97e6f1bb5694"
      },
      "execution_count": null,
      "outputs": [
        {
          "output_type": "display_data",
          "data": {
            "text/html": [
              "<html>\n",
              "<head><meta charset=\"utf-8\" /></head>\n",
              "<body>\n",
              "    <div>            <script src=\"https://cdnjs.cloudflare.com/ajax/libs/mathjax/2.7.5/MathJax.js?config=TeX-AMS-MML_SVG\"></script><script type=\"text/javascript\">if (window.MathJax && window.MathJax.Hub && window.MathJax.Hub.Config) {window.MathJax.Hub.Config({SVG: {font: \"STIX-Web\"}});}</script>                <script type=\"text/javascript\">window.PlotlyConfig = {MathJaxConfig: 'local'};</script>\n",
              "        <script charset=\"utf-8\" src=\"https://cdn.plot.ly/plotly-2.24.1.min.js\"></script>                <div id=\"e284e57b-149f-4702-8396-bd881c9dd958\" class=\"plotly-graph-div\" style=\"height:525px; width:100%;\"></div>            <script type=\"text/javascript\">                                    window.PLOTLYENV=window.PLOTLYENV || {};                                    if (document.getElementById(\"e284e57b-149f-4702-8396-bd881c9dd958\")) {                    Plotly.newPlot(                        \"e284e57b-149f-4702-8396-bd881c9dd958\",                        [{\"alignmentgroup\":\"True\",\"bingroup\":\"x\",\"hovertemplate\":\"variable=avg_utterances_per_speaker\\u003cbr\\u003evalue=%{x}\\u003cbr\\u003ecount=%{y}\\u003cextra\\u003e\\u003c\\u002fextra\\u003e\",\"legendgroup\":\"avg_utterances_per_speaker\",\"marker\":{\"color\":\"#636efa\",\"pattern\":{\"shape\":\"\"}},\"name\":\"avg_utterances_per_speaker\",\"nbinsx\":50,\"offsetgroup\":\"avg_utterances_per_speaker\",\"orientation\":\"v\",\"showlegend\":true,\"x\":[1.5,8.0,5.5,2.3333333333333335,3.0,3.0,1.0,1.8,2.3333333333333335,3.0,2.0,2.5,6.666666666666667,4.0,3.6666666666666665,2.0,2.5,4.714285714285714,1.5,1.0,4.0,3.5,11.0,1.5,2.0,5.666666666666667,1.0,1.0,5.666666666666667,6.5,3.0,1.0,6.5,3.6666666666666665,9.5,1.25,1.0,4.0,2.5,2.0,1.0,3.25,2.25,1.75,2.0,4.5,3.0,4.666666666666667,1.4,5.666666666666667,1.3333333333333333,1.5,6.0,6.5,4.0,1.5,6.0,3.0,8.5,1.5,3.5,1.5,1.0,1.0,4.25,3.6666666666666665,1.6666666666666667,1.3333333333333333,7.5,6.0,4.6,4.666666666666667,4.25,2.75,1.25,3.0,4.75,1.6666666666666667,2.5,1.0,3.3333333333333335,1.0,1.0,2.2,1.5,3.0,2.6666666666666665,1.0,1.75,1.5,3.0,1.0,2.0,4.333333333333333,1.5,5.0,5.25,6.0,4.0,5.0,20.0,2.0,5.0,3.0,1.5,1.5,1.3333333333333333,6.5,4.0,2.0,3.0,3.75,7.333333333333333,3.4,2.0,2.0,6.0,4.5,6.0,2.3333333333333335,9.5,3.0,2.5,8.0,5.0,7.666666666666667,5.333333333333333,2.0,5.0,4.0,9.0,2.25,6.666666666666667,4.0,2.0,3.0,1.0,5.0,1.3333333333333333,3.3333333333333335,8.5,2.5,2.0,4.5,5.0,6.5,3.5,3.6666666666666665,1.0,1.5,2.0,2.0,2.5,3.0,5.25,4.5,8.0,4.0,2.3333333333333335,2.0,4.666666666666667,4.0,3.0,5.0,3.0,2.5,7.0,5.666666666666667,4.75,7.666666666666667,1.6666666666666667,1.8,1.5,9.5,4.75,11.5,1.0,1.5,3.3333333333333335,2.0,2.0,1.5,10.0,4.5,7.5,4.0,1.3333333333333333,3.0,3.0,5.0,2.5,3.3333333333333335,4.0,5.0,1.6666666666666667,6.0,6.0,2.5,3.25,4.0,5.0,6.0,2.6666666666666665,6.5,5.0,1.3333333333333333,1.25,1.0,7.0,1.0,3.3333333333333335,2.6666666666666665,3.5,3.0,4.0,5.5,1.0,6.0,1.0,1.0,1.0,2.5,7.0,2.3333333333333335,9.0,1.5,3.0,1.3333333333333333,4.333333333333333,5.5,1.8,7.0,2.5,7.0,3.0,1.0,1.0,2.4,2.5,3.0,4.25,3.75,4.0,3.0,5.5,2.5,4.666666666666667,2.5,1.0,4.0,3.0,2.5,6.333333333333333,4.333333333333333,3.6,1.8,1.0,2.5,6.5,5.333333333333333,3.6666666666666665,4.5,8.5,3.3333333333333335,2.0,1.0,8.5,5.5,4.666666666666667,1.6666666666666667,7.5,2.0,3.0,1.3333333333333333,1.6666666666666667,1.0,1.0,1.0,5.666666666666667,5.333333333333333],\"xaxis\":\"x\",\"yaxis\":\"y\",\"type\":\"histogram\"},{\"alignmentgroup\":\"True\",\"hovertemplate\":\"variable=avg_utterances_per_speaker\\u003cbr\\u003evalue=%{x}\\u003cextra\\u003e\\u003c\\u002fextra\\u003e\",\"legendgroup\":\"avg_utterances_per_speaker\",\"marker\":{\"color\":\"#636efa\"},\"name\":\"avg_utterances_per_speaker\",\"notched\":true,\"offsetgroup\":\"avg_utterances_per_speaker\",\"showlegend\":false,\"x\":[1.5,8.0,5.5,2.3333333333333335,3.0,3.0,1.0,1.8,2.3333333333333335,3.0,2.0,2.5,6.666666666666667,4.0,3.6666666666666665,2.0,2.5,4.714285714285714,1.5,1.0,4.0,3.5,11.0,1.5,2.0,5.666666666666667,1.0,1.0,5.666666666666667,6.5,3.0,1.0,6.5,3.6666666666666665,9.5,1.25,1.0,4.0,2.5,2.0,1.0,3.25,2.25,1.75,2.0,4.5,3.0,4.666666666666667,1.4,5.666666666666667,1.3333333333333333,1.5,6.0,6.5,4.0,1.5,6.0,3.0,8.5,1.5,3.5,1.5,1.0,1.0,4.25,3.6666666666666665,1.6666666666666667,1.3333333333333333,7.5,6.0,4.6,4.666666666666667,4.25,2.75,1.25,3.0,4.75,1.6666666666666667,2.5,1.0,3.3333333333333335,1.0,1.0,2.2,1.5,3.0,2.6666666666666665,1.0,1.75,1.5,3.0,1.0,2.0,4.333333333333333,1.5,5.0,5.25,6.0,4.0,5.0,20.0,2.0,5.0,3.0,1.5,1.5,1.3333333333333333,6.5,4.0,2.0,3.0,3.75,7.333333333333333,3.4,2.0,2.0,6.0,4.5,6.0,2.3333333333333335,9.5,3.0,2.5,8.0,5.0,7.666666666666667,5.333333333333333,2.0,5.0,4.0,9.0,2.25,6.666666666666667,4.0,2.0,3.0,1.0,5.0,1.3333333333333333,3.3333333333333335,8.5,2.5,2.0,4.5,5.0,6.5,3.5,3.6666666666666665,1.0,1.5,2.0,2.0,2.5,3.0,5.25,4.5,8.0,4.0,2.3333333333333335,2.0,4.666666666666667,4.0,3.0,5.0,3.0,2.5,7.0,5.666666666666667,4.75,7.666666666666667,1.6666666666666667,1.8,1.5,9.5,4.75,11.5,1.0,1.5,3.3333333333333335,2.0,2.0,1.5,10.0,4.5,7.5,4.0,1.3333333333333333,3.0,3.0,5.0,2.5,3.3333333333333335,4.0,5.0,1.6666666666666667,6.0,6.0,2.5,3.25,4.0,5.0,6.0,2.6666666666666665,6.5,5.0,1.3333333333333333,1.25,1.0,7.0,1.0,3.3333333333333335,2.6666666666666665,3.5,3.0,4.0,5.5,1.0,6.0,1.0,1.0,1.0,2.5,7.0,2.3333333333333335,9.0,1.5,3.0,1.3333333333333333,4.333333333333333,5.5,1.8,7.0,2.5,7.0,3.0,1.0,1.0,2.4,2.5,3.0,4.25,3.75,4.0,3.0,5.5,2.5,4.666666666666667,2.5,1.0,4.0,3.0,2.5,6.333333333333333,4.333333333333333,3.6,1.8,1.0,2.5,6.5,5.333333333333333,3.6666666666666665,4.5,8.5,3.3333333333333335,2.0,1.0,8.5,5.5,4.666666666666667,1.6666666666666667,7.5,2.0,3.0,1.3333333333333333,1.6666666666666667,1.0,1.0,1.0,5.666666666666667,5.333333333333333],\"xaxis\":\"x2\",\"yaxis\":\"y2\",\"type\":\"box\"}],                        {\"template\":{\"data\":{\"histogram2dcontour\":[{\"type\":\"histogram2dcontour\",\"colorbar\":{\"outlinewidth\":0,\"ticks\":\"\"},\"colorscale\":[[0.0,\"#0d0887\"],[0.1111111111111111,\"#46039f\"],[0.2222222222222222,\"#7201a8\"],[0.3333333333333333,\"#9c179e\"],[0.4444444444444444,\"#bd3786\"],[0.5555555555555556,\"#d8576b\"],[0.6666666666666666,\"#ed7953\"],[0.7777777777777778,\"#fb9f3a\"],[0.8888888888888888,\"#fdca26\"],[1.0,\"#f0f921\"]]}],\"choropleth\":[{\"type\":\"choropleth\",\"colorbar\":{\"outlinewidth\":0,\"ticks\":\"\"}}],\"histogram2d\":[{\"type\":\"histogram2d\",\"colorbar\":{\"outlinewidth\":0,\"ticks\":\"\"},\"colorscale\":[[0.0,\"#0d0887\"],[0.1111111111111111,\"#46039f\"],[0.2222222222222222,\"#7201a8\"],[0.3333333333333333,\"#9c179e\"],[0.4444444444444444,\"#bd3786\"],[0.5555555555555556,\"#d8576b\"],[0.6666666666666666,\"#ed7953\"],[0.7777777777777778,\"#fb9f3a\"],[0.8888888888888888,\"#fdca26\"],[1.0,\"#f0f921\"]]}],\"heatmap\":[{\"type\":\"heatmap\",\"colorbar\":{\"outlinewidth\":0,\"ticks\":\"\"},\"colorscale\":[[0.0,\"#0d0887\"],[0.1111111111111111,\"#46039f\"],[0.2222222222222222,\"#7201a8\"],[0.3333333333333333,\"#9c179e\"],[0.4444444444444444,\"#bd3786\"],[0.5555555555555556,\"#d8576b\"],[0.6666666666666666,\"#ed7953\"],[0.7777777777777778,\"#fb9f3a\"],[0.8888888888888888,\"#fdca26\"],[1.0,\"#f0f921\"]]}],\"heatmapgl\":[{\"type\":\"heatmapgl\",\"colorbar\":{\"outlinewidth\":0,\"ticks\":\"\"},\"colorscale\":[[0.0,\"#0d0887\"],[0.1111111111111111,\"#46039f\"],[0.2222222222222222,\"#7201a8\"],[0.3333333333333333,\"#9c179e\"],[0.4444444444444444,\"#bd3786\"],[0.5555555555555556,\"#d8576b\"],[0.6666666666666666,\"#ed7953\"],[0.7777777777777778,\"#fb9f3a\"],[0.8888888888888888,\"#fdca26\"],[1.0,\"#f0f921\"]]}],\"contourcarpet\":[{\"type\":\"contourcarpet\",\"colorbar\":{\"outlinewidth\":0,\"ticks\":\"\"}}],\"contour\":[{\"type\":\"contour\",\"colorbar\":{\"outlinewidth\":0,\"ticks\":\"\"},\"colorscale\":[[0.0,\"#0d0887\"],[0.1111111111111111,\"#46039f\"],[0.2222222222222222,\"#7201a8\"],[0.3333333333333333,\"#9c179e\"],[0.4444444444444444,\"#bd3786\"],[0.5555555555555556,\"#d8576b\"],[0.6666666666666666,\"#ed7953\"],[0.7777777777777778,\"#fb9f3a\"],[0.8888888888888888,\"#fdca26\"],[1.0,\"#f0f921\"]]}],\"surface\":[{\"type\":\"surface\",\"colorbar\":{\"outlinewidth\":0,\"ticks\":\"\"},\"colorscale\":[[0.0,\"#0d0887\"],[0.1111111111111111,\"#46039f\"],[0.2222222222222222,\"#7201a8\"],[0.3333333333333333,\"#9c179e\"],[0.4444444444444444,\"#bd3786\"],[0.5555555555555556,\"#d8576b\"],[0.6666666666666666,\"#ed7953\"],[0.7777777777777778,\"#fb9f3a\"],[0.8888888888888888,\"#fdca26\"],[1.0,\"#f0f921\"]]}],\"mesh3d\":[{\"type\":\"mesh3d\",\"colorbar\":{\"outlinewidth\":0,\"ticks\":\"\"}}],\"scatter\":[{\"fillpattern\":{\"fillmode\":\"overlay\",\"size\":10,\"solidity\":0.2},\"type\":\"scatter\"}],\"parcoords\":[{\"type\":\"parcoords\",\"line\":{\"colorbar\":{\"outlinewidth\":0,\"ticks\":\"\"}}}],\"scatterpolargl\":[{\"type\":\"scatterpolargl\",\"marker\":{\"colorbar\":{\"outlinewidth\":0,\"ticks\":\"\"}}}],\"bar\":[{\"error_x\":{\"color\":\"#2a3f5f\"},\"error_y\":{\"color\":\"#2a3f5f\"},\"marker\":{\"line\":{\"color\":\"#E5ECF6\",\"width\":0.5},\"pattern\":{\"fillmode\":\"overlay\",\"size\":10,\"solidity\":0.2}},\"type\":\"bar\"}],\"scattergeo\":[{\"type\":\"scattergeo\",\"marker\":{\"colorbar\":{\"outlinewidth\":0,\"ticks\":\"\"}}}],\"scatterpolar\":[{\"type\":\"scatterpolar\",\"marker\":{\"colorbar\":{\"outlinewidth\":0,\"ticks\":\"\"}}}],\"histogram\":[{\"marker\":{\"pattern\":{\"fillmode\":\"overlay\",\"size\":10,\"solidity\":0.2}},\"type\":\"histogram\"}],\"scattergl\":[{\"type\":\"scattergl\",\"marker\":{\"colorbar\":{\"outlinewidth\":0,\"ticks\":\"\"}}}],\"scatter3d\":[{\"type\":\"scatter3d\",\"line\":{\"colorbar\":{\"outlinewidth\":0,\"ticks\":\"\"}},\"marker\":{\"colorbar\":{\"outlinewidth\":0,\"ticks\":\"\"}}}],\"scattermapbox\":[{\"type\":\"scattermapbox\",\"marker\":{\"colorbar\":{\"outlinewidth\":0,\"ticks\":\"\"}}}],\"scatterternary\":[{\"type\":\"scatterternary\",\"marker\":{\"colorbar\":{\"outlinewidth\":0,\"ticks\":\"\"}}}],\"scattercarpet\":[{\"type\":\"scattercarpet\",\"marker\":{\"colorbar\":{\"outlinewidth\":0,\"ticks\":\"\"}}}],\"carpet\":[{\"aaxis\":{\"endlinecolor\":\"#2a3f5f\",\"gridcolor\":\"white\",\"linecolor\":\"white\",\"minorgridcolor\":\"white\",\"startlinecolor\":\"#2a3f5f\"},\"baxis\":{\"endlinecolor\":\"#2a3f5f\",\"gridcolor\":\"white\",\"linecolor\":\"white\",\"minorgridcolor\":\"white\",\"startlinecolor\":\"#2a3f5f\"},\"type\":\"carpet\"}],\"table\":[{\"cells\":{\"fill\":{\"color\":\"#EBF0F8\"},\"line\":{\"color\":\"white\"}},\"header\":{\"fill\":{\"color\":\"#C8D4E3\"},\"line\":{\"color\":\"white\"}},\"type\":\"table\"}],\"barpolar\":[{\"marker\":{\"line\":{\"color\":\"#E5ECF6\",\"width\":0.5},\"pattern\":{\"fillmode\":\"overlay\",\"size\":10,\"solidity\":0.2}},\"type\":\"barpolar\"}],\"pie\":[{\"automargin\":true,\"type\":\"pie\"}]},\"layout\":{\"autotypenumbers\":\"strict\",\"colorway\":[\"#636efa\",\"#EF553B\",\"#00cc96\",\"#ab63fa\",\"#FFA15A\",\"#19d3f3\",\"#FF6692\",\"#B6E880\",\"#FF97FF\",\"#FECB52\"],\"font\":{\"color\":\"#2a3f5f\"},\"hovermode\":\"closest\",\"hoverlabel\":{\"align\":\"left\"},\"paper_bgcolor\":\"white\",\"plot_bgcolor\":\"#E5ECF6\",\"polar\":{\"bgcolor\":\"#E5ECF6\",\"angularaxis\":{\"gridcolor\":\"white\",\"linecolor\":\"white\",\"ticks\":\"\"},\"radialaxis\":{\"gridcolor\":\"white\",\"linecolor\":\"white\",\"ticks\":\"\"}},\"ternary\":{\"bgcolor\":\"#E5ECF6\",\"aaxis\":{\"gridcolor\":\"white\",\"linecolor\":\"white\",\"ticks\":\"\"},\"baxis\":{\"gridcolor\":\"white\",\"linecolor\":\"white\",\"ticks\":\"\"},\"caxis\":{\"gridcolor\":\"white\",\"linecolor\":\"white\",\"ticks\":\"\"}},\"coloraxis\":{\"colorbar\":{\"outlinewidth\":0,\"ticks\":\"\"}},\"colorscale\":{\"sequential\":[[0.0,\"#0d0887\"],[0.1111111111111111,\"#46039f\"],[0.2222222222222222,\"#7201a8\"],[0.3333333333333333,\"#9c179e\"],[0.4444444444444444,\"#bd3786\"],[0.5555555555555556,\"#d8576b\"],[0.6666666666666666,\"#ed7953\"],[0.7777777777777778,\"#fb9f3a\"],[0.8888888888888888,\"#fdca26\"],[1.0,\"#f0f921\"]],\"sequentialminus\":[[0.0,\"#0d0887\"],[0.1111111111111111,\"#46039f\"],[0.2222222222222222,\"#7201a8\"],[0.3333333333333333,\"#9c179e\"],[0.4444444444444444,\"#bd3786\"],[0.5555555555555556,\"#d8576b\"],[0.6666666666666666,\"#ed7953\"],[0.7777777777777778,\"#fb9f3a\"],[0.8888888888888888,\"#fdca26\"],[1.0,\"#f0f921\"]],\"diverging\":[[0,\"#8e0152\"],[0.1,\"#c51b7d\"],[0.2,\"#de77ae\"],[0.3,\"#f1b6da\"],[0.4,\"#fde0ef\"],[0.5,\"#f7f7f7\"],[0.6,\"#e6f5d0\"],[0.7,\"#b8e186\"],[0.8,\"#7fbc41\"],[0.9,\"#4d9221\"],[1,\"#276419\"]]},\"xaxis\":{\"gridcolor\":\"white\",\"linecolor\":\"white\",\"ticks\":\"\",\"title\":{\"standoff\":15},\"zerolinecolor\":\"white\",\"automargin\":true,\"zerolinewidth\":2},\"yaxis\":{\"gridcolor\":\"white\",\"linecolor\":\"white\",\"ticks\":\"\",\"title\":{\"standoff\":15},\"zerolinecolor\":\"white\",\"automargin\":true,\"zerolinewidth\":2},\"scene\":{\"xaxis\":{\"backgroundcolor\":\"#E5ECF6\",\"gridcolor\":\"white\",\"linecolor\":\"white\",\"showbackground\":true,\"ticks\":\"\",\"zerolinecolor\":\"white\",\"gridwidth\":2},\"yaxis\":{\"backgroundcolor\":\"#E5ECF6\",\"gridcolor\":\"white\",\"linecolor\":\"white\",\"showbackground\":true,\"ticks\":\"\",\"zerolinecolor\":\"white\",\"gridwidth\":2},\"zaxis\":{\"backgroundcolor\":\"#E5ECF6\",\"gridcolor\":\"white\",\"linecolor\":\"white\",\"showbackground\":true,\"ticks\":\"\",\"zerolinecolor\":\"white\",\"gridwidth\":2}},\"shapedefaults\":{\"line\":{\"color\":\"#2a3f5f\"}},\"annotationdefaults\":{\"arrowcolor\":\"#2a3f5f\",\"arrowhead\":0,\"arrowwidth\":1},\"geo\":{\"bgcolor\":\"white\",\"landcolor\":\"#E5ECF6\",\"subunitcolor\":\"white\",\"showland\":true,\"showlakes\":true,\"lakecolor\":\"white\"},\"title\":{\"x\":0.05},\"mapbox\":{\"style\":\"light\"}}},\"xaxis\":{\"anchor\":\"y\",\"domain\":[0.0,1.0],\"title\":{\"text\":\"Utterances per Speaker\"}},\"yaxis\":{\"anchor\":\"x\",\"domain\":[0.0,0.7326],\"title\":{\"text\":\"Frequency\"}},\"xaxis2\":{\"anchor\":\"y2\",\"domain\":[0.0,1.0],\"matches\":\"x\",\"showticklabels\":false,\"showgrid\":true},\"yaxis2\":{\"anchor\":\"x2\",\"domain\":[0.7426,1.0],\"matches\":\"y2\",\"showticklabels\":false,\"showline\":false,\"ticks\":\"\",\"showgrid\":false},\"legend\":{\"title\":{\"text\":\"variable\"},\"tracegroupgap\":0},\"title\":{\"text\":\"Distribution of Number of Utterances per Speaker in a Dialogue\"},\"barmode\":\"relative\",\"boxmode\":\"overlay\",\"showlegend\":false},                        {\"responsive\": true}                    ).then(function(){\n",
              "                            \n",
              "var gd = document.getElementById('e284e57b-149f-4702-8396-bd881c9dd958');\n",
              "var x = new MutationObserver(function (mutations, observer) {{\n",
              "        var display = window.getComputedStyle(gd).display;\n",
              "        if (!display || display === 'none') {{\n",
              "            console.log([gd, 'removed!']);\n",
              "            Plotly.purge(gd);\n",
              "            observer.disconnect();\n",
              "        }}\n",
              "}});\n",
              "\n",
              "// Listen for the removal of the full notebook cells\n",
              "var notebookContainer = gd.closest('#notebook-container');\n",
              "if (notebookContainer) {{\n",
              "    x.observe(notebookContainer, {childList: true});\n",
              "}}\n",
              "\n",
              "// Listen for the clearing of the current output cell\n",
              "var outputEl = gd.closest('.output');\n",
              "if (outputEl) {{\n",
              "    x.observe(outputEl, {childList: true});\n",
              "}}\n",
              "\n",
              "                        })                };                            </script>        </div>\n",
              "</body>\n",
              "</html>"
            ]
          },
          "metadata": {}
        }
      ]
    },
    {
      "cell_type": "code",
      "execution_count": null,
      "metadata": {
        "colab": {
          "base_uri": "https://localhost:8080/",
          "height": 588
        },
        "id": "BM6XHRP0g4PC",
        "outputId": "bee0f49f-ecb7-45b1-8302-060aa995065d"
      },
      "outputs": [
        {
          "output_type": "execute_result",
          "data": {
            "text/plain": [
              "<Figure size 1000x600 with 0 Axes>"
            ]
          },
          "metadata": {},
          "execution_count": 37
        },
        {
          "output_type": "execute_result",
          "data": {
            "text/plain": [
              "<Axes: xlabel='avg_utterances_per_speaker', ylabel='Count'>"
            ]
          },
          "metadata": {},
          "execution_count": 37
        },
        {
          "output_type": "execute_result",
          "data": {
            "text/plain": [
              "Text(0.5, 1.0, 'Distribution of Number of Utterances per Speaker in a Dialogue')"
            ]
          },
          "metadata": {},
          "execution_count": 37
        },
        {
          "output_type": "execute_result",
          "data": {
            "text/plain": [
              "Text(0.5, 0, 'Utterances per Speaker')"
            ]
          },
          "metadata": {},
          "execution_count": 37
        },
        {
          "output_type": "execute_result",
          "data": {
            "text/plain": [
              "Text(0, 0.5, 'Frequency')"
            ]
          },
          "metadata": {},
          "execution_count": 37
        },
        {
          "output_type": "display_data",
          "data": {
            "text/plain": [
              "<Figure size 1000x600 with 1 Axes>"
            ],
            "image/png": "[encoded data removed]"
          },
          "metadata": {}
        }
      ],
      "source": [
        "plt.figure(figsize=(10, 6))\n",
        "sns.histplot(data=dialogue_df, x='avg_utterances_per_speaker', bins=50)\n",
        "plt.title('Distribution of Number of Utterances per Speaker in a Dialogue')\n",
        "plt.xlabel('Utterances per Speaker')\n",
        "plt.ylabel('Frequency')\n",
        "plt.show()"
      ]
    },
    {
      "cell_type": "code",
      "execution_count": null,
      "metadata": {
        "colab": {
          "base_uri": "https://localhost:8080/",
          "height": 467
        },
        "id": "eh8yGZtsR-4w",
        "outputId": "73c7a099-193f-4d97-dd4d-eb78fba4212f"
      },
      "outputs": [
        {
          "data": {
            "text/plain": [
              "<Axes: xlabel='avg_utterances_per_speaker'>"
            ]
          },
          "execution_count": 104,
          "metadata": {},
          "output_type": "execute_result"
        },
        {
          "data": {
            "image/png": "[encoded data removed]",
            "text/plain": [
              "<Figure size 640x480 with 1 Axes>"
            ]
          },
          "metadata": {},
          "output_type": "display_data"
        }
      ],
      "source": [
        "sns.violinplot(x=dialogue_df.avg_utterances_per_speaker)"
      ]
    },
    {
      "cell_type": "code",
      "execution_count": null,
      "metadata": {
        "colab": {
          "base_uri": "https://localhost:8080/",
          "height": 467
        },
        "id": "pq_4rPo_R2Z1",
        "outputId": "d000bb04-7c9c-4184-a413-4300a495575c"
      },
      "outputs": [
        {
          "data": {
            "text/plain": [
              "<Axes: xlabel='avg_utterances_per_speaker'>"
            ]
          },
          "execution_count": 105,
          "metadata": {},
          "output_type": "execute_result"
        },
        {
          "data": {
            "image/png": "[encoded data removed]",
            "text/plain": [
              "<Figure size 640x480 with 1 Axes>"
            ]
          },
          "metadata": {},
          "output_type": "display_data"
        }
      ],
      "source": [
        "sns.boxplot(x=dialogue_df.avg_utterances_per_speaker)"
      ]
    },
    {
      "cell_type": "markdown",
      "metadata": {
        "id": "Yy1oGITxGDwH"
      },
      "source": [
        "# Utterance Level Stats"
      ]
    },
    {
      "cell_type": "markdown",
      "metadata": {
        "id": "RO95zUwhGDwH"
      },
      "source": [
        "### Text length"
      ]
    },
    {
      "cell_type": "code",
      "execution_count": null,
      "metadata": {
        "colab": {
          "base_uri": "https://localhost:8080/"
        },
        "id": "F_Na-gmEGDwI",
        "outputId": "16efad7f-e438-4e08-94a5-99b6ec7aed7e"
      },
      "outputs": [
        {
          "data": {
            "text/plain": [
              "count     2610\n",
              "unique    2398\n",
              "top       Hey!\n",
              "freq        26\n",
              "Name: Utterance, dtype: object"
            ]
          },
          "execution_count": 106,
          "metadata": {},
          "output_type": "execute_result"
        }
      ],
      "source": [
        "df.Utterance.describe()"
      ]
    },
    {
      "cell_type": "code",
      "execution_count": null,
      "metadata": {
        "colab": {
          "base_uri": "https://localhost:8080/"
        },
        "id": "jfnaWk6KGDwI",
        "outputId": "4319000d-ef5b-47b0-cfe8-49ca95550416"
      },
      "outputs": [
        {
          "data": {
            "text/plain": [
              "count    2610.000000\n",
              "mean       41.926054\n",
              "std        33.000451\n",
              "min         2.000000\n",
              "25%        16.000000\n",
              "50%        34.000000\n",
              "75%        60.000000\n",
              "max       236.000000\n",
              "Name: Utterance_length, dtype: float64"
            ]
          },
          "execution_count": 107,
          "metadata": {},
          "output_type": "execute_result"
        }
      ],
      "source": [
        "df[\"Utterance_length\"] = df[\"Utterance\"].str.len()\n",
        "df[\"Utterance_length\"].describe()"
      ]
    },
    {
      "cell_type": "code",
      "execution_count": null,
      "metadata": {
        "colab": {
          "base_uri": "https://localhost:8080/",
          "height": 459
        },
        "id": "wUBo8GhnGDwI",
        "outputId": "a0c3f464-ce83-4580-cab4-f3e8f8a01457"
      },
      "outputs": [
        {
          "data": {
            "text/plain": [
              "<Axes: >"
            ]
          },
          "execution_count": 108,
          "metadata": {},
          "output_type": "execute_result"
        },
        {
          "data": {
            "image/png": "[encoded data removed]",
            "text/plain": [
              "<Figure size 640x480 with 1 Axes>"
            ]
          },
          "metadata": {},
          "output_type": "display_data"
        }
      ],
      "source": [
        "df['Utterance_length'].value_counts()[:].plot.bar()"
      ]
    },
    {
      "cell_type": "code",
      "execution_count": null,
      "metadata": {
        "colab": {
          "base_uri": "https://localhost:8080/"
        },
        "id": "E2gxA2iPGDwJ",
        "outputId": "a5d84759-d692-41ca-f047-6e68d4304500"
      },
      "outputs": [
        {
          "data": {
            "text/plain": [
              "2"
            ]
          },
          "execution_count": 109,
          "metadata": {},
          "output_type": "execute_result"
        }
      ],
      "source": [
        "df.Utterance_length.min()"
      ]
    },
    {
      "cell_type": "markdown",
      "metadata": {
        "id": "tWPjUIB4GDwJ"
      },
      "source": [
        "### Time"
      ]
    },
    {
      "cell_type": "markdown",
      "metadata": {
        "id": "At5VDgDTqJLH"
      },
      "source": [
        "#### Utterance time"
      ]
    },
    {
      "cell_type": "code",
      "execution_count": null,
      "metadata": {
        "colab": {
          "base_uri": "https://localhost:8080/",
          "height": 513
        },
        "id": "yOhrAbb9GDwK",
        "outputId": "4e32dfaf-76c3-4c04-b7bf-c80e03370999"
      },
      "outputs": [
        {
          "ename": "KeyError",
          "evalue": "ignored",
          "output_type": "error",
          "traceback": [
            "\u001b[0;31m---------------------------------------------------------------------------\u001b[0m",
            "\u001b[0;31mKeyError\u001b[0m                                  Traceback (most recent call last)",
            "\u001b[0;32m/usr/local/lib/python3.10/dist-packages/pandas/core/indexes/base.py\u001b[0m in \u001b[0;36mget_loc\u001b[0;34m(self, key, method, tolerance)\u001b[0m\n\u001b[1;32m   3801\u001b[0m             \u001b[0;32mtry\u001b[0m\u001b[0;34m:\u001b[0m\u001b[0;34m\u001b[0m\u001b[0;34m\u001b[0m\u001b[0m\n\u001b[0;32m-> 3802\u001b[0;31m                 \u001b[0;32mreturn\u001b[0m \u001b[0mself\u001b[0m\u001b[0;34m.\u001b[0m\u001b[0m_engine\u001b[0m\u001b[0;34m.\u001b[0m\u001b[0mget_loc\u001b[0m\u001b[0;34m(\u001b[0m\u001b[0mcasted_key\u001b[0m\u001b[0;34m)\u001b[0m\u001b[0;34m\u001b[0m\u001b[0;34m\u001b[0m\u001b[0m\n\u001b[0m\u001b[1;32m   3803\u001b[0m             \u001b[0;32mexcept\u001b[0m \u001b[0mKeyError\u001b[0m \u001b[0;32mas\u001b[0m \u001b[0merr\u001b[0m\u001b[0;34m:\u001b[0m\u001b[0;34m\u001b[0m\u001b[0;34m\u001b[0m\u001b[0m\n",
            "\u001b[0;32m/usr/local/lib/python3.10/dist-packages/pandas/_libs/index.pyx\u001b[0m in \u001b[0;36mpandas._libs.index.IndexEngine.get_loc\u001b[0;34m()\u001b[0m\n",
            "\u001b[0;32m/usr/local/lib/python3.10/dist-packages/pandas/_libs/index.pyx\u001b[0m in \u001b[0;36mpandas._libs.index.IndexEngine.get_loc\u001b[0;34m()\u001b[0m\n",
            "\u001b[0;32mpandas/_libs/hashtable_class_helper.pxi\u001b[0m in \u001b[0;36mpandas._libs.hashtable.PyObjectHashTable.get_item\u001b[0;34m()\u001b[0m\n",
            "\u001b[0;32mpandas/_libs/hashtable_class_helper.pxi\u001b[0m in \u001b[0;36mpandas._libs.hashtable.PyObjectHashTable.get_item\u001b[0;34m()\u001b[0m\n",
            "\u001b[0;31mKeyError\u001b[0m: 'Utterance_time'",
            "\nThe above exception was the direct cause of the following exception:\n",
            "\u001b[0;31mKeyError\u001b[0m                                  Traceback (most recent call last)",
            "\u001b[0;32m<ipython-input-110-d3715ff88ae7>\u001b[0m in \u001b[0;36m<cell line: 1>\u001b[0;34m()\u001b[0m\n\u001b[0;32m----> 1\u001b[0;31m \u001b[0mdf\u001b[0m\u001b[0;34m[\u001b[0m\u001b[0;34m\"Utterance_time\"\u001b[0m\u001b[0;34m]\u001b[0m\u001b[0;34m.\u001b[0m\u001b[0mvalue_counts\u001b[0m\u001b[0;34m(\u001b[0m\u001b[0;34m)\u001b[0m\u001b[0;34m[\u001b[0m\u001b[0;34m:\u001b[0m\u001b[0;34m]\u001b[0m\u001b[0;34m.\u001b[0m\u001b[0mplot\u001b[0m\u001b[0;34m(\u001b[0m\u001b[0;34m)\u001b[0m\u001b[0;34m\u001b[0m\u001b[0;34m\u001b[0m\u001b[0m\n\u001b[0m",
            "\u001b[0;32m/usr/local/lib/python3.10/dist-packages/pandas/core/frame.py\u001b[0m in \u001b[0;36m__getitem__\u001b[0;34m(self, key)\u001b[0m\n\u001b[1;32m   3805\u001b[0m             \u001b[0;32mif\u001b[0m \u001b[0mself\u001b[0m\u001b[0;34m.\u001b[0m\u001b[0mcolumns\u001b[0m\u001b[0;34m.\u001b[0m\u001b[0mnlevels\u001b[0m \u001b[0;34m>\u001b[0m \u001b[0;36m1\u001b[0m\u001b[0;34m:\u001b[0m\u001b[0;34m\u001b[0m\u001b[0;34m\u001b[0m\u001b[0m\n\u001b[1;32m   3806\u001b[0m                 \u001b[0;32mreturn\u001b[0m \u001b[0mself\u001b[0m\u001b[0;34m.\u001b[0m\u001b[0m_getitem_multilevel\u001b[0m\u001b[0;34m(\u001b[0m\u001b[0mkey\u001b[0m\u001b[0;34m)\u001b[0m\u001b[0;34m\u001b[0m\u001b[0;34m\u001b[0m\u001b[0m\n\u001b[0;32m-> 3807\u001b[0;31m             \u001b[0mindexer\u001b[0m \u001b[0;34m=\u001b[0m \u001b[0mself\u001b[0m\u001b[0;34m.\u001b[0m\u001b[0mcolumns\u001b[0m\u001b[0;34m.\u001b[0m\u001b[0mget_loc\u001b[0m\u001b[0;34m(\u001b[0m\u001b[0mkey\u001b[0m\u001b[0;34m)\u001b[0m\u001b[0;34m\u001b[0m\u001b[0;34m\u001b[0m\u001b[0m\n\u001b[0m\u001b[1;32m   3808\u001b[0m             \u001b[0;32mif\u001b[0m \u001b[0mis_integer\u001b[0m\u001b[0;34m(\u001b[0m\u001b[0mindexer\u001b[0m\u001b[0;34m)\u001b[0m\u001b[0;34m:\u001b[0m\u001b[0;34m\u001b[0m\u001b[0;34m\u001b[0m\u001b[0m\n\u001b[1;32m   3809\u001b[0m                 \u001b[0mindexer\u001b[0m \u001b[0;34m=\u001b[0m \u001b[0;34m[\u001b[0m\u001b[0mindexer\u001b[0m\u001b[0;34m]\u001b[0m\u001b[0;34m\u001b[0m\u001b[0;34m\u001b[0m\u001b[0m\n",
            "\u001b[0;32m/usr/local/lib/python3.10/dist-packages/pandas/core/indexes/base.py\u001b[0m in \u001b[0;36mget_loc\u001b[0;34m(self, key, method, tolerance)\u001b[0m\n\u001b[1;32m   3802\u001b[0m                 \u001b[0;32mreturn\u001b[0m \u001b[0mself\u001b[0m\u001b[0;34m.\u001b[0m\u001b[0m_engine\u001b[0m\u001b[0;34m.\u001b[0m\u001b[0mget_loc\u001b[0m\u001b[0;34m(\u001b[0m\u001b[0mcasted_key\u001b[0m\u001b[0;34m)\u001b[0m\u001b[0;34m\u001b[0m\u001b[0;34m\u001b[0m\u001b[0m\n\u001b[1;32m   3803\u001b[0m             \u001b[0;32mexcept\u001b[0m \u001b[0mKeyError\u001b[0m \u001b[0;32mas\u001b[0m \u001b[0merr\u001b[0m\u001b[0;34m:\u001b[0m\u001b[0;34m\u001b[0m\u001b[0;34m\u001b[0m\u001b[0m\n\u001b[0;32m-> 3804\u001b[0;31m                 \u001b[0;32mraise\u001b[0m \u001b[0mKeyError\u001b[0m\u001b[0;34m(\u001b[0m\u001b[0mkey\u001b[0m\u001b[0;34m)\u001b[0m \u001b[0;32mfrom\u001b[0m \u001b[0merr\u001b[0m\u001b[0;34m\u001b[0m\u001b[0;34m\u001b[0m\u001b[0m\n\u001b[0m\u001b[1;32m   3805\u001b[0m             \u001b[0;32mexcept\u001b[0m \u001b[0mTypeError\u001b[0m\u001b[0;34m:\u001b[0m\u001b[0;34m\u001b[0m\u001b[0;34m\u001b[0m\u001b[0m\n\u001b[1;32m   3806\u001b[0m                 \u001b[0;31m# If we have a listlike key, _check_indexing_error will raise\u001b[0m\u001b[0;34m\u001b[0m\u001b[0;34m\u001b[0m\u001b[0m\n",
            "\u001b[0;31mKeyError\u001b[0m: 'Utterance_time'"
          ]
        }
      ],
      "source": [
        "df[\"Utterance_time\"].value_counts()[:].plot()"
      ]
    },
    {
      "cell_type": "code",
      "execution_count": null,
      "metadata": {
        "id": "NiRQ4zKxGDwL"
      },
      "outputs": [],
      "source": [
        "print(df[\"Utterance_time\"].info())\n",
        "print(df[\"Utterance_time\"].describe())"
      ]
    },
    {
      "cell_type": "code",
      "execution_count": null,
      "metadata": {
        "id": "K2nq04KDGDwK"
      },
      "outputs": [],
      "source": [
        "df['Utterance_time'] = (pd.to_datetime(df.EndTime) - pd.to_datetime(df.StartTime))\n",
        "df['Utterance_time']"
      ]
    },
    {
      "cell_type": "markdown",
      "metadata": {
        "id": "OkAWbAnGGDwL"
      },
      "source": [
        "### Emotion -> Sentiment mapping"
      ]
    },
    {
      "cell_type": "code",
      "execution_count": null,
      "metadata": {
        "id": "1LL1CFN6GDwL"
      },
      "outputs": [],
      "source": [
        "# plotting points as a scatter plot\n",
        "x = df[\"Emotion\"]\n",
        "y = df[\"Sentiment\"]\n",
        "plt.scatter(x, y, label= \"stars\", color= \"m\",\n",
        "            marker= \"*\", s=30)"
      ]
    },
    {
      "cell_type": "code",
      "execution_count": null,
      "metadata": {
        "id": "BnaaKsUsGDwM"
      },
      "outputs": [],
      "source": [
        "print(df['Emotion'].value_counts())\n",
        "df['Emotion'].value_counts()[:].plot.bar()\n",
        "# df['Emotion'].value_counts()[:].plot.bar(stacked=True)"
      ]
    },
    {
      "cell_type": "markdown",
      "metadata": {
        "id": "ctUJZsYOGDwM"
      },
      "source": [
        "### Sentiment count"
      ]
    },
    {
      "cell_type": "code",
      "execution_count": null,
      "metadata": {
        "id": "IDWjjf2PGDwM"
      },
      "outputs": [],
      "source": [
        "print(df['Sentiment'].value_counts())\n",
        "df['Sentiment'].value_counts()[:].plot.bar()"
      ]
    },
    {
      "cell_type": "code",
      "execution_count": null,
      "metadata": {
        "id": "dvAqoNSaGDwN"
      },
      "outputs": [],
      "source": [
        "``````````````````````````````````````````````````````````````````````````````````````````````````````````````````````````````````````# let's groupby and plot\n",
        "d = df.groupby(['Sentiment','Emotion'])['Emotion'].size().unstack()\n",
        "d.plot(kind='bar',stacked=True,title = \"Sentiment and Emotion Division\")"
      ]
    },
    {
      "cell_type": "code",
      "execution_count": null,
      "metadata": {
        "id": "k3UFwjFmGDwN"
      },
      "outputs": [],
      "source": [
        "df3 = df.groupby(['Emotion']).count().reset_index().sort_values(['Utterance'], ascending=False)[[\"Emotion\", \"Utterance\"]]"
      ]
    },
    {
      "cell_type": "code",
      "execution_count": null,
      "metadata": {
        "id": "d8jToF4iGDwN"
      },
      "outputs": [],
      "source": [
        "df2 = df.groupby(['Emotion']).count()\n",
        "df2.head()"
      ]
    },
    {
      "cell_type": "code",
      "execution_count": null,
      "metadata": {
        "id": "XMkOHxQqGDwO"
      },
      "outputs": [],
      "source": [
        "# df2 = df.groupby(['Emotion']).count().reset_index().sort_values(['Utterance'], ascending=False)\n",
        "# df3.plot(kind='pie', y=\"Utterance\",\n",
        "# figsize=(8,6),\n",
        "# autopct='%1.1f%%')\n",
        "# plt.axis('equal')\n",
        "# # explode = (0, 0, 0,0.1,0.1,0.2,0.3),"
      ]
    },
    {
      "cell_type": "code",
      "execution_count": null,
      "metadata": {
        "id": "UNgtLaaVGDwO"
      },
      "outputs": [],
      "source": [
        "df.groupby(['Sentiment']).count()"
      ]
    },
    {
      "cell_type": "code",
      "execution_count": null,
      "metadata": {
        "id": "FVBUcx9BGDwO"
      },
      "outputs": [],
      "source": [
        "df.groupby(['Sentiment']).count().plot(kind='pie', y='Utterance',\n",
        "figsize=(8,6),autopct='%1.1f%%')"
      ]
    },
    {
      "cell_type": "markdown",
      "metadata": {
        "id": "3Gjcltoq5ua-"
      },
      "source": [
        "# Speaker Level Stats"
      ]
    },
    {
      "cell_type": "markdown",
      "metadata": {
        "id": "f5KyEPBOpwEf"
      },
      "source": [
        "### Personal DF"
      ]
    },
    {
      "cell_type": "markdown",
      "metadata": {
        "id": "46J_gNJWFetU"
      },
      "source": [
        "personal_df;\n",
        "- [x] person_name\n",
        "- [x] number of dialogs he/she in\n",
        "- [x] utt by he/she\n",
        "- [x] total speech time\n",
        "- [x] avg. reply time\n",
        "- [ ] avg. waiting time\n",
        "- [x] avg. uttr. per dialog\n",
        "- [ ] all the persons that paired with dialogs\n",
        "- [x] all emotions he/she shows\n",
        "- [ ] avg. conti. uttr. span of each emotion"
      ]
    },
    {
      "cell_type": "code",
      "execution_count": null,
      "metadata": {
        "id": "77UzCISRGDwQ"
      },
      "outputs": [],
      "source": [
        "def get_person_df(df):\n",
        "    df_copy = df.copy()\n",
        "    group = df_copy.groupby(\"Speaker\")\n",
        "\n",
        "    # number of dialogues the person is in\n",
        "    num_dialogues = group['Dialogue_ID'].nunique()\n",
        "\n",
        "    # number of utterances the speaker does\n",
        "    num_utterances = group['Utterance_ID'].count()\n",
        "\n",
        "    # total speech time\n",
        "    speech_time = group['seconds'].sum()\n",
        "\n",
        "    # Average reply(speech) time\n",
        "    mean_speech_time = group['seconds'].mean()\n",
        "\n",
        "    # Average utterances per dialogue\n",
        "    avg_utter_per_dialogue = num_utterances/num_dialogues\n",
        "\n",
        "    # All emotions they show\n",
        "    emotions_shown = group['Emotion'].unique()\n",
        "\n",
        "    # Number of emotions shown\n",
        "    num_emotions = group['Emotion'].nunique()\n",
        "\n",
        "    df_final = pd.DataFrame(\n",
        "        {\n",
        "            \"num_dialogues\":num_dialogues,\n",
        "            \"num_utterances\":num_utterances,\n",
        "            'tot_speech_time':speech_time,\n",
        "            'mean_speech_time':mean_speech_time,\n",
        "            'avg_utterances_per_dialogue':avg_utter_per_dialogue,\n",
        "            'emotions_shown':emotions_shown,\n",
        "            'num_emotions':num_emotions\n",
        "        }\n",
        "    )\n",
        "    return df_final"
      ]
    },
    {
      "cell_type": "code",
      "execution_count": null,
      "metadata": {
        "id": "RTZTAlFXnq7P"
      },
      "outputs": [],
      "source": [
        "speaker_df = get_person_df(dataframe)\n",
        "speaker_df[5:12]"
      ]
    },
    {
      "cell_type": "code",
      "execution_count": null,
      "metadata": {
        "id": "dpLfLU_sF9iX"
      },
      "outputs": [],
      "source": [
        "df_copy = dataframe.copy()\n",
        "group = df_copy.groupby(\"Speaker\")"
      ]
    },
    {
      "cell_type": "code",
      "execution_count": null,
      "metadata": {
        "id": "cwig23VAKeFd"
      },
      "outputs": [],
      "source": [
        "num = group['Dialogue_ID'].nunique()\n",
        "num[5:12]"
      ]
    },
    {
      "cell_type": "markdown",
      "metadata": {
        "id": "5O-YCa2Zr9vJ"
      },
      "source": [
        "#### Speaker level plots"
      ]
    },
    {
      "cell_type": "markdown",
      "metadata": {
        "id": "V52Y2C02sdYx"
      },
      "source": [
        "##### Number of Dialogues"
      ]
    },
    {
      "cell_type": "code",
      "execution_count": null,
      "metadata": {
        "id": "uzZ87E41Gje_"
      },
      "outputs": [],
      "source": [
        "plt.figure(figsize=(10, 6))\n",
        "sns.histplot(data=speaker_df, x='num_dialogues', bins=50)\n",
        "plt.title('Distribution of No.Dialogues by speakers')\n",
        "plt.xlabel('Number of Dialogues')\n",
        "plt.ylabel('Frequency')\n",
        "plt.show()"
      ]
    },
    {
      "cell_type": "markdown",
      "metadata": {
        "id": "Kcd9yNEmshfC"
      },
      "source": [
        "##### Number of utterances"
      ]
    },
    {
      "cell_type": "code",
      "execution_count": null,
      "metadata": {
        "id": "LONBVRqFslfF"
      },
      "outputs": [],
      "source": [
        "plt.figure(figsize=(10, 6))\n",
        "sns.histplot(data=speaker_df, x='num_utterances', bins=50)\n",
        "plt.title('Distribution of No.Utterances by speakers')\n",
        "plt.xlabel('Number of Dialogues')\n",
        "plt.ylabel('Frequency')\n",
        "plt.show()"
      ]
    },
    {
      "cell_type": "markdown",
      "metadata": {
        "id": "HOwKpmD3s1D4"
      },
      "source": [
        "##### Speech time"
      ]
    },
    {
      "cell_type": "code",
      "execution_count": null,
      "metadata": {
        "id": "-oZXh7TQs3_P"
      },
      "outputs": [],
      "source": [
        "plt.figure(figsize=(10, 6))\n",
        "sns.histplot(data=speaker_df, x='tot_speech_time', bins=50)\n",
        "plt.title('Distribution of Total Speech Time by speakers')\n",
        "plt.xlabel('Total Speech Time')\n",
        "plt.ylabel('Frequency')\n",
        "plt.show()"
      ]
    },
    {
      "cell_type": "markdown",
      "metadata": {
        "id": "0LwsUZNItSa0"
      },
      "source": [
        "##### Number of Emotions Shown by a Single Speaker"
      ]
    },
    {
      "cell_type": "code",
      "execution_count": null,
      "metadata": {
        "id": "UmijiNZDtaN1"
      },
      "outputs": [],
      "source": [
        "plt.figure(figsize=(10, 6))\n",
        "# speaker_df.num_emotions.plot(kind='bar')\n",
        "sns.countplot(data=speaker_df, x='num_emotions')\n",
        "plt.title('Distribution of Number of Unique Emotions by speakers')\n",
        "plt.xlabel('Total Unique Emotions Shown')\n",
        "plt.ylabel('Frequency')\n",
        "plt.show()"
      ]
    },
    {
      "cell_type": "markdown",
      "metadata": {
        "id": "JqNj8EWj59u0"
      },
      "source": [
        "# Emotion Level Stats"
      ]
    },
    {
      "cell_type": "markdown",
      "metadata": {
        "id": "-reIdO9ZKTqM"
      },
      "source": [
        "## Emotion span"
      ]
    },
    {
      "cell_type": "code",
      "execution_count": null,
      "metadata": {
        "id": "tLK-ufftB1vQ"
      },
      "outputs": [],
      "source": [
        "dfcopy = dataframe.copy()"
      ]
    },
    {
      "cell_type": "code",
      "execution_count": null,
      "metadata": {
        "colab": {
          "base_uri": "https://localhost:8080/",
          "height": 424
        },
        "id": "8DL64EpFLn00",
        "outputId": "4c3e0fe2-9a85-49c3-b53f-56b65c320e30"
      },
      "outputs": [
        {
          "data": {
            "text/html": [
              "\n",
              "  <div id=\"df-2bef3fcd-61f0-491c-9358-07e570c061e0\" class=\"colab-df-container\">\n",
              "    <div>\n",
              "<style scoped>\n",
              "    .dataframe tbody tr th:only-of-type {\n",
              "        vertical-align: middle;\n",
              "    }\n",
              "\n",
              "    .dataframe tbody tr th {\n",
              "        vertical-align: top;\n",
              "    }\n",
              "\n",
              "    .dataframe thead th {\n",
              "        text-align: right;\n",
              "    }\n",
              "</style>\n",
              "<table border=\"1\" class=\"dataframe\">\n",
              "  <thead>\n",
              "    <tr style=\"text-align: right;\">\n",
              "      <th></th>\n",
              "      <th>Dialogue_ID</th>\n",
              "      <th>Speaker</th>\n",
              "      <th>Emotion</th>\n",
              "    </tr>\n",
              "  </thead>\n",
              "  <tbody>\n",
              "    <tr>\n",
              "      <th>0</th>\n",
              "      <td>0</td>\n",
              "      <td>Mark</td>\n",
              "      <td>[surprise]</td>\n",
              "    </tr>\n",
              "    <tr>\n",
              "      <th>1</th>\n",
              "      <td>0</td>\n",
              "      <td>Rachel</td>\n",
              "      <td>[anger, neutral]</td>\n",
              "    </tr>\n",
              "    <tr>\n",
              "      <th>2</th>\n",
              "      <td>1</td>\n",
              "      <td>Joey</td>\n",
              "      <td>[neutral, joy, joy, joy, joy, joy, joy, joy]</td>\n",
              "    </tr>\n",
              "    <tr>\n",
              "      <th>3</th>\n",
              "      <td>2</td>\n",
              "      <td>Rachel</td>\n",
              "      <td>[neutral, anger]</td>\n",
              "    </tr>\n",
              "    <tr>\n",
              "      <th>4</th>\n",
              "      <td>2</td>\n",
              "      <td>Ross</td>\n",
              "      <td>[neutral, sadness, surprise, anger, anger, joy...</td>\n",
              "    </tr>\n",
              "    <tr>\n",
              "      <th>...</th>\n",
              "      <td>...</td>\n",
              "      <td>...</td>\n",
              "      <td>...</td>\n",
              "    </tr>\n",
              "    <tr>\n",
              "      <th>741</th>\n",
              "      <td>278</td>\n",
              "      <td>Monica</td>\n",
              "      <td>[joy, surprise, joy, joy, joy, neutral]</td>\n",
              "    </tr>\n",
              "    <tr>\n",
              "      <th>742</th>\n",
              "      <td>278</td>\n",
              "      <td>Phoebe</td>\n",
              "      <td>[surprise, surprise, neutral, neutral]</td>\n",
              "    </tr>\n",
              "    <tr>\n",
              "      <th>743</th>\n",
              "      <td>279</td>\n",
              "      <td>Monica</td>\n",
              "      <td>[anger, anger, anger, neutral, anger, neutral,...</td>\n",
              "    </tr>\n",
              "    <tr>\n",
              "      <th>744</th>\n",
              "      <td>279</td>\n",
              "      <td>Rachel</td>\n",
              "      <td>[anger, anger, neutral, neutral, neutral, neut...</td>\n",
              "    </tr>\n",
              "    <tr>\n",
              "      <th>745</th>\n",
              "      <td>279</td>\n",
              "      <td>Ross</td>\n",
              "      <td>[anger, surprise, neutral]</td>\n",
              "    </tr>\n",
              "  </tbody>\n",
              "</table>\n",
              "<p>746 rows × 3 columns</p>\n",
              "</div>\n",
              "    <div class=\"colab-df-buttons\">\n",
              "\n",
              "  <div class=\"colab-df-container\">\n",
              "    <button class=\"colab-df-convert\" onclick=\"convertToInteractive('df-2bef3fcd-61f0-491c-9358-07e570c061e0')\"\n",
              "            title=\"Convert this dataframe to an interactive table.\"\n",
              "            style=\"display:none;\">\n",
              "\n",
              "  <svg xmlns=\"http://www.w3.org/2000/svg\" height=\"24px\" viewBox=\"0 -960 960 960\">\n",
              "    <path d=\"M120-120v-720h720v720H120Zm60-500h600v-160H180v160Zm220 220h160v-160H400v160Zm0 220h160v-160H400v160ZM180-400h160v-160H180v160Zm440 0h160v-160H620v160ZM180-180h160v-160H180v160Zm440 0h160v-160H620v160Z\"/>\n",
              "  </svg>\n",
              "    </button>\n",
              "\n",
              "  <style>\n",
              "    .colab-df-container {\n",
              "      display:flex;\n",
              "      gap: 12px;\n",
              "    }\n",
              "\n",
              "    .colab-df-convert {\n",
              "      background-color: #E8F0FE;\n",
              "      border: none;\n",
              "      border-radius: 50%;\n",
              "      cursor: pointer;\n",
              "      display: none;\n",
              "      fill: #1967D2;\n",
              "      height: 32px;\n",
              "      padding: 0 0 0 0;\n",
              "      width: 32px;\n",
              "    }\n",
              "\n",
              "    .colab-df-convert:hover {\n",
              "      background-color: #E2EBFA;\n",
              "      box-shadow: 0px 1px 2px rgba(60, 64, 67, 0.3), 0px 1px 3px 1px rgba(60, 64, 67, 0.15);\n",
              "      fill: #174EA6;\n",
              "    }\n",
              "\n",
              "    .colab-df-buttons div {\n",
              "      margin-bottom: 4px;\n",
              "    }\n",
              "\n",
              "    [theme=dark] .colab-df-convert {\n",
              "      background-color: #3B4455;\n",
              "      fill: #D2E3FC;\n",
              "    }\n",
              "\n",
              "    [theme=dark] .colab-df-convert:hover {\n",
              "      background-color: #434B5C;\n",
              "      box-shadow: 0px 1px 3px 1px rgba(0, 0, 0, 0.15);\n",
              "      filter: drop-shadow(0px 1px 2px rgba(0, 0, 0, 0.3));\n",
              "      fill: #FFFFFF;\n",
              "    }\n",
              "  </style>\n",
              "\n",
              "    <script>\n",
              "      const buttonEl =\n",
              "        document.querySelector('#df-2bef3fcd-61f0-491c-9358-07e570c061e0 button.colab-df-convert');\n",
              "      buttonEl.style.display =\n",
              "        google.colab.kernel.accessAllowed ? 'block' : 'none';\n",
              "\n",
              "      async function convertToInteractive(key) {\n",
              "        const element = document.querySelector('#df-2bef3fcd-61f0-491c-9358-07e570c061e0');\n",
              "        const dataTable =\n",
              "          await google.colab.kernel.invokeFunction('convertToInteractive',\n",
              "                                                    [key], {});\n",
              "        if (!dataTable) return;\n",
              "\n",
              "        const docLinkHtml = 'Like what you see? Visit the ' +\n",
              "          '<a target=\"_blank\" href=https://colab.research.google.com/notebooks/data_table.ipynb>data table notebook</a>'\n",
              "          + ' to learn more about interactive tables.';\n",
              "        element.innerHTML = '';\n",
              "        dataTable['output_type'] = 'display_data';\n",
              "        await google.colab.output.renderOutput(dataTable, element);\n",
              "        const docLink = document.createElement('div');\n",
              "        docLink.innerHTML = docLinkHtml;\n",
              "        element.appendChild(docLink);\n",
              "      }\n",
              "    </script>\n",
              "  </div>\n",
              "\n",
              "\n",
              "<div id=\"df-eaf43ebc-6324-4b44-8de6-ba55c57c5d94\">\n",
              "  <button class=\"colab-df-quickchart\" onclick=\"quickchart('df-eaf43ebc-6324-4b44-8de6-ba55c57c5d94')\"\n",
              "            title=\"Suggest charts.\"\n",
              "            style=\"display:none;\">\n",
              "\n",
              "<svg xmlns=\"http://www.w3.org/2000/svg\" height=\"24px\"viewBox=\"0 0 24 24\"\n",
              "     width=\"24px\">\n",
              "    <g>\n",
              "        <path d=\"M19 3H5c-1.1 0-2 .9-2 2v14c0 1.1.9 2 2 2h14c1.1 0 2-.9 2-2V5c0-1.1-.9-2-2-2zM9 17H7v-7h2v7zm4 0h-2V7h2v10zm4 0h-2v-4h2v4z\"/>\n",
              "    </g>\n",
              "</svg>\n",
              "  </button>\n",
              "\n",
              "<style>\n",
              "  .colab-df-quickchart {\n",
              "      --bg-color: #E8F0FE;\n",
              "      --fill-color: #1967D2;\n",
              "      --hover-bg-color: #E2EBFA;\n",
              "      --hover-fill-color: #174EA6;\n",
              "      --disabled-fill-color: #AAA;\n",
              "      --disabled-bg-color: #DDD;\n",
              "  }\n",
              "\n",
              "  [theme=dark] .colab-df-quickchart {\n",
              "      --bg-color: #3B4455;\n",
              "      --fill-color: #D2E3FC;\n",
              "      --hover-bg-color: #434B5C;\n",
              "      --hover-fill-color: #FFFFFF;\n",
              "      --disabled-bg-color: #3B4455;\n",
              "      --disabled-fill-color: #666;\n",
              "  }\n",
              "\n",
              "  .colab-df-quickchart {\n",
              "    background-color: var(--bg-color);\n",
              "    border: none;\n",
              "    border-radius: 50%;\n",
              "    cursor: pointer;\n",
              "    display: none;\n",
              "    fill: var(--fill-color);\n",
              "    height: 32px;\n",
              "    padding: 0;\n",
              "    width: 32px;\n",
              "  }\n",
              "\n",
              "  .colab-df-quickchart:hover {\n",
              "    background-color: var(--hover-bg-color);\n",
              "    box-shadow: 0 1px 2px rgba(60, 64, 67, 0.3), 0 1px 3px 1px rgba(60, 64, 67, 0.15);\n",
              "    fill: var(--button-hover-fill-color);\n",
              "  }\n",
              "\n",
              "  .colab-df-quickchart-complete:disabled,\n",
              "  .colab-df-quickchart-complete:disabled:hover {\n",
              "    background-color: var(--disabled-bg-color);\n",
              "    fill: var(--disabled-fill-color);\n",
              "    box-shadow: none;\n",
              "  }\n",
              "\n",
              "  .colab-df-spinner {\n",
              "    border: 2px solid var(--fill-color);\n",
              "    border-color: transparent;\n",
              "    border-bottom-color: var(--fill-color);\n",
              "    animation:\n",
              "      spin 1s steps(1) infinite;\n",
              "  }\n",
              "\n",
              "  @keyframes spin {\n",
              "    0% {\n",
              "      border-color: transparent;\n",
              "      border-bottom-color: var(--fill-color);\n",
              "      border-left-color: var(--fill-color);\n",
              "    }\n",
              "    20% {\n",
              "      border-color: transparent;\n",
              "      border-left-color: var(--fill-color);\n",
              "      border-top-color: var(--fill-color);\n",
              "    }\n",
              "    30% {\n",
              "      border-color: transparent;\n",
              "      border-left-color: var(--fill-color);\n",
              "      border-top-color: var(--fill-color);\n",
              "      border-right-color: var(--fill-color);\n",
              "    }\n",
              "    40% {\n",
              "      border-color: transparent;\n",
              "      border-right-color: var(--fill-color);\n",
              "      border-top-color: var(--fill-color);\n",
              "    }\n",
              "    60% {\n",
              "      border-color: transparent;\n",
              "      border-right-color: var(--fill-color);\n",
              "    }\n",
              "    80% {\n",
              "      border-color: transparent;\n",
              "      border-right-color: var(--fill-color);\n",
              "      border-bottom-color: var(--fill-color);\n",
              "    }\n",
              "    90% {\n",
              "      border-color: transparent;\n",
              "      border-bottom-color: var(--fill-color);\n",
              "    }\n",
              "  }\n",
              "</style>\n",
              "\n",
              "  <script>\n",
              "    async function quickchart(key) {\n",
              "      const quickchartButtonEl =\n",
              "        document.querySelector('#' + key + ' button');\n",
              "      quickchartButtonEl.disabled = true;  // To prevent multiple clicks.\n",
              "      quickchartButtonEl.classList.add('colab-df-spinner');\n",
              "      try {\n",
              "        const charts = await google.colab.kernel.invokeFunction(\n",
              "            'suggestCharts', [key], {});\n",
              "      } catch (error) {\n",
              "        console.error('Error during call to suggestCharts:', error);\n",
              "      }\n",
              "      quickchartButtonEl.classList.remove('colab-df-spinner');\n",
              "      quickchartButtonEl.classList.add('colab-df-quickchart-complete');\n",
              "    }\n",
              "    (() => {\n",
              "      let quickchartButtonEl =\n",
              "        document.querySelector('#df-eaf43ebc-6324-4b44-8de6-ba55c57c5d94 button');\n",
              "      quickchartButtonEl.style.display =\n",
              "        google.colab.kernel.accessAllowed ? 'block' : 'none';\n",
              "    })();\n",
              "  </script>\n",
              "</div>\n",
              "    </div>\n",
              "  </div>\n"
            ],
            "text/plain": [
              "     Dialogue_ID Speaker                                            Emotion\n",
              "0              0    Mark                                         [surprise]\n",
              "1              0  Rachel                                   [anger, neutral]\n",
              "2              1    Joey       [neutral, joy, joy, joy, joy, joy, joy, joy]\n",
              "3              2  Rachel                                   [neutral, anger]\n",
              "4              2    Ross  [neutral, sadness, surprise, anger, anger, joy...\n",
              "..           ...     ...                                                ...\n",
              "741          278  Monica            [joy, surprise, joy, joy, joy, neutral]\n",
              "742          278  Phoebe             [surprise, surprise, neutral, neutral]\n",
              "743          279  Monica  [anger, anger, anger, neutral, anger, neutral,...\n",
              "744          279  Rachel  [anger, anger, neutral, neutral, neutral, neut...\n",
              "745          279    Ross                         [anger, surprise, neutral]\n",
              "\n",
              "[746 rows x 3 columns]"
            ]
          },
          "execution_count": 112,
          "metadata": {},
          "output_type": "execute_result"
        }
      ],
      "source": [
        "# Create a group for all dialogueID, speaker and the emotion\n",
        "df_with_list = dfcopy.groupby(['Dialogue_ID','Speaker'])['Emotion'].apply(list).reset_index()\n",
        "df_with_list"
      ]
    },
    {
      "cell_type": "markdown",
      "metadata": {
        "id": "Mig7m8bq5CO2"
      },
      "source": [
        "#### highest consecutive span"
      ]
    },
    {
      "cell_type": "code",
      "execution_count": null,
      "metadata": {
        "id": "m4UUP3vKl41n"
      },
      "outputs": [],
      "source": [
        "def get_max_consec_terms(test_list):\n",
        "    count_dict = {item:0 for item in test_list}\n",
        "\n",
        "    # temporary variable to store the last seen element\n",
        "    last_seen = None\n",
        "    count=1\n",
        "    for emo in test_list:\n",
        "\n",
        "        # if the occured value was last seen emotion\n",
        "        if emo == last_seen:\n",
        "\n",
        "            # update the counter\n",
        "            count +=1\n",
        "\n",
        "            # if the count in the dictionary is less than it's occured values\n",
        "            if count_dict[last_seen]<count:\n",
        "                # update the value in the dictionary\n",
        "                count_dict[last_seen]=count\n",
        "        # if the current emotion is not the previous emotion\n",
        "        else:\n",
        "            count=1\n",
        "            pass\n",
        "        # set the last seen emotion in current emotion\n",
        "        last_seen=emo\n",
        "\n",
        "    # get the maximum value in the dictionary values\n",
        "    max_value = max(count_dict.values())\n",
        "\n",
        "    # select all the keys with the maximum value\n",
        "    max_all_keys =[key for key, val in count_dict.items() if val == max_value]\n",
        "\n",
        "    # creating the dictionary with the final max values\n",
        "    consecutive_max = {item:max_value for item in max_all_keys}\n",
        "\n",
        "    #returning the maximium value with the keys as a dictionary\n",
        "    return consecutive_max"
      ]
    },
    {
      "cell_type": "code",
      "execution_count": null,
      "metadata": {
        "id": "93-umjl2eeii"
      },
      "outputs": [],
      "source": [
        "# expected output : @nipdep\n",
        "# from a emotions list\n",
        "span_dict = {\n",
        "    'anger': [\n",
        "        {'count': 2,\n",
        "         'before': 'joy',\n",
        "         'after': 'joy'},\n",
        "        {'count': 10,\n",
        "         'before': 'neutral',\n",
        "         'after': 'neutral'}\n",
        "    ],\n",
        "    'neutral': [\n",
        "        {'count': 4,\n",
        "         'before': 'happy',\n",
        "         'after': 'happy'},\n",
        "    ]\n",
        "}"
      ]
    },
    {
      "cell_type": "code",
      "execution_count": null,
      "metadata": {
        "colab": {
          "base_uri": "https://localhost:8080/",
          "height": 206
        },
        "id": "R12x4BH0CKwr",
        "outputId": "6329dc48-5ac8-40bb-838f-ab435930dde3"
      },
      "outputs": [
        {
          "data": {
            "text/html": [
              "\n",
              "  <div id=\"df-776d4f7c-f5cf-4280-9713-77f714a300b4\" class=\"colab-df-container\">\n",
              "    <div>\n",
              "<style scoped>\n",
              "    .dataframe tbody tr th:only-of-type {\n",
              "        vertical-align: middle;\n",
              "    }\n",
              "\n",
              "    .dataframe tbody tr th {\n",
              "        vertical-align: top;\n",
              "    }\n",
              "\n",
              "    .dataframe thead th {\n",
              "        text-align: right;\n",
              "    }\n",
              "</style>\n",
              "<table border=\"1\" class=\"dataframe\">\n",
              "  <thead>\n",
              "    <tr style=\"text-align: right;\">\n",
              "      <th></th>\n",
              "      <th>Dialogue_ID</th>\n",
              "      <th>Speaker</th>\n",
              "      <th>Emotion</th>\n",
              "      <th>consecutive_emotions</th>\n",
              "    </tr>\n",
              "  </thead>\n",
              "  <tbody>\n",
              "    <tr>\n",
              "      <th>0</th>\n",
              "      <td>0</td>\n",
              "      <td>Mark</td>\n",
              "      <td>[surprise]</td>\n",
              "      <td>{'surprise': 0}</td>\n",
              "    </tr>\n",
              "    <tr>\n",
              "      <th>1</th>\n",
              "      <td>0</td>\n",
              "      <td>Rachel</td>\n",
              "      <td>[anger, neutral]</td>\n",
              "      <td>{'anger': 0, 'neutral': 0}</td>\n",
              "    </tr>\n",
              "    <tr>\n",
              "      <th>2</th>\n",
              "      <td>1</td>\n",
              "      <td>Joey</td>\n",
              "      <td>[neutral, joy, joy, joy, joy, joy, joy, joy]</td>\n",
              "      <td>{'joy': 7}</td>\n",
              "    </tr>\n",
              "    <tr>\n",
              "      <th>3</th>\n",
              "      <td>2</td>\n",
              "      <td>Rachel</td>\n",
              "      <td>[neutral, anger]</td>\n",
              "      <td>{'neutral': 0, 'anger': 0}</td>\n",
              "    </tr>\n",
              "    <tr>\n",
              "      <th>4</th>\n",
              "      <td>2</td>\n",
              "      <td>Ross</td>\n",
              "      <td>[neutral, sadness, surprise, anger, anger, joy...</td>\n",
              "      <td>{'neutral': 2, 'anger': 2, 'joy': 2}</td>\n",
              "    </tr>\n",
              "  </tbody>\n",
              "</table>\n",
              "</div>\n",
              "    <div class=\"colab-df-buttons\">\n",
              "\n",
              "  <div class=\"colab-df-container\">\n",
              "    <button class=\"colab-df-convert\" onclick=\"convertToInteractive('df-776d4f7c-f5cf-4280-9713-77f714a300b4')\"\n",
              "            title=\"Convert this dataframe to an interactive table.\"\n",
              "            style=\"display:none;\">\n",
              "\n",
              "  <svg xmlns=\"http://www.w3.org/2000/svg\" height=\"24px\" viewBox=\"0 -960 960 960\">\n",
              "    <path d=\"M120-120v-720h720v720H120Zm60-500h600v-160H180v160Zm220 220h160v-160H400v160Zm0 220h160v-160H400v160ZM180-400h160v-160H180v160Zm440 0h160v-160H620v160ZM180-180h160v-160H180v160Zm440 0h160v-160H620v160Z\"/>\n",
              "  </svg>\n",
              "    </button>\n",
              "\n",
              "  <style>\n",
              "    .colab-df-container {\n",
              "      display:flex;\n",
              "      gap: 12px;\n",
              "    }\n",
              "\n",
              "    .colab-df-convert {\n",
              "      background-color: #E8F0FE;\n",
              "      border: none;\n",
              "      border-radius: 50%;\n",
              "      cursor: pointer;\n",
              "      display: none;\n",
              "      fill: #1967D2;\n",
              "      height: 32px;\n",
              "      padding: 0 0 0 0;\n",
              "      width: 32px;\n",
              "    }\n",
              "\n",
              "    .colab-df-convert:hover {\n",
              "      background-color: #E2EBFA;\n",
              "      box-shadow: 0px 1px 2px rgba(60, 64, 67, 0.3), 0px 1px 3px 1px rgba(60, 64, 67, 0.15);\n",
              "      fill: #174EA6;\n",
              "    }\n",
              "\n",
              "    .colab-df-buttons div {\n",
              "      margin-bottom: 4px;\n",
              "    }\n",
              "\n",
              "    [theme=dark] .colab-df-convert {\n",
              "      background-color: #3B4455;\n",
              "      fill: #D2E3FC;\n",
              "    }\n",
              "\n",
              "    [theme=dark] .colab-df-convert:hover {\n",
              "      background-color: #434B5C;\n",
              "      box-shadow: 0px 1px 3px 1px rgba(0, 0, 0, 0.15);\n",
              "      filter: drop-shadow(0px 1px 2px rgba(0, 0, 0, 0.3));\n",
              "      fill: #FFFFFF;\n",
              "    }\n",
              "  </style>\n",
              "\n",
              "    <script>\n",
              "      const buttonEl =\n",
              "        document.querySelector('#df-776d4f7c-f5cf-4280-9713-77f714a300b4 button.colab-df-convert');\n",
              "      buttonEl.style.display =\n",
              "        google.colab.kernel.accessAllowed ? 'block' : 'none';\n",
              "\n",
              "      async function convertToInteractive(key) {\n",
              "        const element = document.querySelector('#df-776d4f7c-f5cf-4280-9713-77f714a300b4');\n",
              "        const dataTable =\n",
              "          await google.colab.kernel.invokeFunction('convertToInteractive',\n",
              "                                                    [key], {});\n",
              "        if (!dataTable) return;\n",
              "\n",
              "        const docLinkHtml = 'Like what you see? Visit the ' +\n",
              "          '<a target=\"_blank\" href=https://colab.research.google.com/notebooks/data_table.ipynb>data table notebook</a>'\n",
              "          + ' to learn more about interactive tables.';\n",
              "        element.innerHTML = '';\n",
              "        dataTable['output_type'] = 'display_data';\n",
              "        await google.colab.output.renderOutput(dataTable, element);\n",
              "        const docLink = document.createElement('div');\n",
              "        docLink.innerHTML = docLinkHtml;\n",
              "        element.appendChild(docLink);\n",
              "      }\n",
              "    </script>\n",
              "  </div>\n",
              "\n",
              "\n",
              "<div id=\"df-2d972f09-f6c0-479f-a737-0bbd9d71a1fa\">\n",
              "  <button class=\"colab-df-quickchart\" onclick=\"quickchart('df-2d972f09-f6c0-479f-a737-0bbd9d71a1fa')\"\n",
              "            title=\"Suggest charts.\"\n",
              "            style=\"display:none;\">\n",
              "\n",
              "<svg xmlns=\"http://www.w3.org/2000/svg\" height=\"24px\"viewBox=\"0 0 24 24\"\n",
              "     width=\"24px\">\n",
              "    <g>\n",
              "        <path d=\"M19 3H5c-1.1 0-2 .9-2 2v14c0 1.1.9 2 2 2h14c1.1 0 2-.9 2-2V5c0-1.1-.9-2-2-2zM9 17H7v-7h2v7zm4 0h-2V7h2v10zm4 0h-2v-4h2v4z\"/>\n",
              "    </g>\n",
              "</svg>\n",
              "  </button>\n",
              "\n",
              "<style>\n",
              "  .colab-df-quickchart {\n",
              "      --bg-color: #E8F0FE;\n",
              "      --fill-color: #1967D2;\n",
              "      --hover-bg-color: #E2EBFA;\n",
              "      --hover-fill-color: #174EA6;\n",
              "      --disabled-fill-color: #AAA;\n",
              "      --disabled-bg-color: #DDD;\n",
              "  }\n",
              "\n",
              "  [theme=dark] .colab-df-quickchart {\n",
              "      --bg-color: #3B4455;\n",
              "      --fill-color: #D2E3FC;\n",
              "      --hover-bg-color: #434B5C;\n",
              "      --hover-fill-color: #FFFFFF;\n",
              "      --disabled-bg-color: #3B4455;\n",
              "      --disabled-fill-color: #666;\n",
              "  }\n",
              "\n",
              "  .colab-df-quickchart {\n",
              "    background-color: var(--bg-color);\n",
              "    border: none;\n",
              "    border-radius: 50%;\n",
              "    cursor: pointer;\n",
              "    display: none;\n",
              "    fill: var(--fill-color);\n",
              "    height: 32px;\n",
              "    padding: 0;\n",
              "    width: 32px;\n",
              "  }\n",
              "\n",
              "  .colab-df-quickchart:hover {\n",
              "    background-color: var(--hover-bg-color);\n",
              "    box-shadow: 0 1px 2px rgba(60, 64, 67, 0.3), 0 1px 3px 1px rgba(60, 64, 67, 0.15);\n",
              "    fill: var(--button-hover-fill-color);\n",
              "  }\n",
              "\n",
              "  .colab-df-quickchart-complete:disabled,\n",
              "  .colab-df-quickchart-complete:disabled:hover {\n",
              "    background-color: var(--disabled-bg-color);\n",
              "    fill: var(--disabled-fill-color);\n",
              "    box-shadow: none;\n",
              "  }\n",
              "\n",
              "  .colab-df-spinner {\n",
              "    border: 2px solid var(--fill-color);\n",
              "    border-color: transparent;\n",
              "    border-bottom-color: var(--fill-color);\n",
              "    animation:\n",
              "      spin 1s steps(1) infinite;\n",
              "  }\n",
              "\n",
              "  @keyframes spin {\n",
              "    0% {\n",
              "      border-color: transparent;\n",
              "      border-bottom-color: var(--fill-color);\n",
              "      border-left-color: var(--fill-color);\n",
              "    }\n",
              "    20% {\n",
              "      border-color: transparent;\n",
              "      border-left-color: var(--fill-color);\n",
              "      border-top-color: var(--fill-color);\n",
              "    }\n",
              "    30% {\n",
              "      border-color: transparent;\n",
              "      border-left-color: var(--fill-color);\n",
              "      border-top-color: var(--fill-color);\n",
              "      border-right-color: var(--fill-color);\n",
              "    }\n",
              "    40% {\n",
              "      border-color: transparent;\n",
              "      border-right-color: var(--fill-color);\n",
              "      border-top-color: var(--fill-color);\n",
              "    }\n",
              "    60% {\n",
              "      border-color: transparent;\n",
              "      border-right-color: var(--fill-color);\n",
              "    }\n",
              "    80% {\n",
              "      border-color: transparent;\n",
              "      border-right-color: var(--fill-color);\n",
              "      border-bottom-color: var(--fill-color);\n",
              "    }\n",
              "    90% {\n",
              "      border-color: transparent;\n",
              "      border-bottom-color: var(--fill-color);\n",
              "    }\n",
              "  }\n",
              "</style>\n",
              "\n",
              "  <script>\n",
              "    async function quickchart(key) {\n",
              "      const quickchartButtonEl =\n",
              "        document.querySelector('#' + key + ' button');\n",
              "      quickchartButtonEl.disabled = true;  // To prevent multiple clicks.\n",
              "      quickchartButtonEl.classList.add('colab-df-spinner');\n",
              "      try {\n",
              "        const charts = await google.colab.kernel.invokeFunction(\n",
              "            'suggestCharts', [key], {});\n",
              "      } catch (error) {\n",
              "        console.error('Error during call to suggestCharts:', error);\n",
              "      }\n",
              "      quickchartButtonEl.classList.remove('colab-df-spinner');\n",
              "      quickchartButtonEl.classList.add('colab-df-quickchart-complete');\n",
              "    }\n",
              "    (() => {\n",
              "      let quickchartButtonEl =\n",
              "        document.querySelector('#df-2d972f09-f6c0-479f-a737-0bbd9d71a1fa button');\n",
              "      quickchartButtonEl.style.display =\n",
              "        google.colab.kernel.accessAllowed ? 'block' : 'none';\n",
              "    })();\n",
              "  </script>\n",
              "</div>\n",
              "    </div>\n",
              "  </div>\n"
            ],
            "text/plain": [
              "   Dialogue_ID Speaker                                            Emotion  \\\n",
              "0            0    Mark                                         [surprise]   \n",
              "1            0  Rachel                                   [anger, neutral]   \n",
              "2            1    Joey       [neutral, joy, joy, joy, joy, joy, joy, joy]   \n",
              "3            2  Rachel                                   [neutral, anger]   \n",
              "4            2    Ross  [neutral, sadness, surprise, anger, anger, joy...   \n",
              "\n",
              "                   consecutive_emotions  \n",
              "0                       {'surprise': 0}  \n",
              "1            {'anger': 0, 'neutral': 0}  \n",
              "2                            {'joy': 7}  \n",
              "3            {'neutral': 0, 'anger': 0}  \n",
              "4  {'neutral': 2, 'anger': 2, 'joy': 2}  "
            ]
          },
          "execution_count": 115,
          "metadata": {},
          "output_type": "execute_result"
        }
      ],
      "source": [
        "# get the maximum span of the emotions as a seperate column\n",
        "df_with_list[\"consecutive_emotions\"]=df_with_list['Emotion'].apply(lambda row: get_max_consec_terms(row))\n",
        "df_with_list.head()"
      ]
    },
    {
      "cell_type": "code",
      "execution_count": null,
      "metadata": {
        "colab": {
          "base_uri": "https://localhost:8080/"
        },
        "id": "wYNFW-oMp52e",
        "outputId": "754e8bf8-23e5-4155-b777-38666c977f17"
      },
      "outputs": [
        {
          "name": "stdout",
          "output_type": "stream",
          "text": [
            "All keys maximum : {'surprise': 4, 'anger': 11, 'neutral': 9, 'joy': 7, 'fear': 0, 'disgust': 2, 'sadness': 7}\n"
          ]
        }
      ],
      "source": [
        "# add the dictionary values in the column to the list\n",
        "list_of_max_span_dicts = df_with_list[\"consecutive_emotions\"].values.tolist()\n",
        "\n",
        "test_list=list_of_max_span_dicts\n",
        "# create a set of all keys\n",
        "# from g2g\n",
        "res = {}\n",
        "for dic in test_list:\n",
        "    for key, val in dic.items():\n",
        "        # checking for key presence and updating max\n",
        "        if key in res:\n",
        "            res[key] = max(res[key], val)\n",
        "        else:\n",
        "            res[key] = val\n",
        "\n",
        "# printing result\n",
        "print(\"All keys maximum : \" + str(res))"
      ]
    },
    {
      "cell_type": "code",
      "execution_count": null,
      "metadata": {
        "colab": {
          "base_uri": "https://localhost:8080/",
          "height": 269
        },
        "id": "2Vn-06AYsL26",
        "outputId": "5796538d-21b4-4339-d73a-5924ae17d269"
      },
      "outputs": [
        {
          "data": {
            "text/html": [
              "\n",
              "  <div id=\"df-3c5c58af-eed1-42f0-9206-a89dd8561668\" class=\"colab-df-container\">\n",
              "    <div>\n",
              "<style scoped>\n",
              "    .dataframe tbody tr th:only-of-type {\n",
              "        vertical-align: middle;\n",
              "    }\n",
              "\n",
              "    .dataframe tbody tr th {\n",
              "        vertical-align: top;\n",
              "    }\n",
              "\n",
              "    .dataframe thead th {\n",
              "        text-align: right;\n",
              "    }\n",
              "</style>\n",
              "<table border=\"1\" class=\"dataframe\">\n",
              "  <thead>\n",
              "    <tr style=\"text-align: right;\">\n",
              "      <th></th>\n",
              "      <th>index</th>\n",
              "      <th>highest_span</th>\n",
              "      <th>Emotion</th>\n",
              "    </tr>\n",
              "  </thead>\n",
              "  <tbody>\n",
              "    <tr>\n",
              "      <th>0</th>\n",
              "      <td>surprise</td>\n",
              "      <td>4</td>\n",
              "      <td>surprise</td>\n",
              "    </tr>\n",
              "    <tr>\n",
              "      <th>1</th>\n",
              "      <td>anger</td>\n",
              "      <td>11</td>\n",
              "      <td>anger</td>\n",
              "    </tr>\n",
              "    <tr>\n",
              "      <th>2</th>\n",
              "      <td>neutral</td>\n",
              "      <td>9</td>\n",
              "      <td>neutral</td>\n",
              "    </tr>\n",
              "    <tr>\n",
              "      <th>3</th>\n",
              "      <td>joy</td>\n",
              "      <td>7</td>\n",
              "      <td>joy</td>\n",
              "    </tr>\n",
              "    <tr>\n",
              "      <th>4</th>\n",
              "      <td>fear</td>\n",
              "      <td>0</td>\n",
              "      <td>fear</td>\n",
              "    </tr>\n",
              "    <tr>\n",
              "      <th>5</th>\n",
              "      <td>disgust</td>\n",
              "      <td>2</td>\n",
              "      <td>disgust</td>\n",
              "    </tr>\n",
              "    <tr>\n",
              "      <th>6</th>\n",
              "      <td>sadness</td>\n",
              "      <td>7</td>\n",
              "      <td>sadness</td>\n",
              "    </tr>\n",
              "  </tbody>\n",
              "</table>\n",
              "</div>\n",
              "    <div class=\"colab-df-buttons\">\n",
              "\n",
              "  <div class=\"colab-df-container\">\n",
              "    <button class=\"colab-df-convert\" onclick=\"convertToInteractive('df-3c5c58af-eed1-42f0-9206-a89dd8561668')\"\n",
              "            title=\"Convert this dataframe to an interactive table.\"\n",
              "            style=\"display:none;\">\n",
              "\n",
              "  <svg xmlns=\"http://www.w3.org/2000/svg\" height=\"24px\" viewBox=\"0 -960 960 960\">\n",
              "    <path d=\"M120-120v-720h720v720H120Zm60-500h600v-160H180v160Zm220 220h160v-160H400v160Zm0 220h160v-160H400v160ZM180-400h160v-160H180v160Zm440 0h160v-160H620v160ZM180-180h160v-160H180v160Zm440 0h160v-160H620v160Z\"/>\n",
              "  </svg>\n",
              "    </button>\n",
              "\n",
              "  <style>\n",
              "    .colab-df-container {\n",
              "      display:flex;\n",
              "      gap: 12px;\n",
              "    }\n",
              "\n",
              "    .colab-df-convert {\n",
              "      background-color: #E8F0FE;\n",
              "      border: none;\n",
              "      border-radius: 50%;\n",
              "      cursor: pointer;\n",
              "      display: none;\n",
              "      fill: #1967D2;\n",
              "      height: 32px;\n",
              "      padding: 0 0 0 0;\n",
              "      width: 32px;\n",
              "    }\n",
              "\n",
              "    .colab-df-convert:hover {\n",
              "      background-color: #E2EBFA;\n",
              "      box-shadow: 0px 1px 2px rgba(60, 64, 67, 0.3), 0px 1px 3px 1px rgba(60, 64, 67, 0.15);\n",
              "      fill: #174EA6;\n",
              "    }\n",
              "\n",
              "    .colab-df-buttons div {\n",
              "      margin-bottom: 4px;\n",
              "    }\n",
              "\n",
              "    [theme=dark] .colab-df-convert {\n",
              "      background-color: #3B4455;\n",
              "      fill: #D2E3FC;\n",
              "    }\n",
              "\n",
              "    [theme=dark] .colab-df-convert:hover {\n",
              "      background-color: #434B5C;\n",
              "      box-shadow: 0px 1px 3px 1px rgba(0, 0, 0, 0.15);\n",
              "      filter: drop-shadow(0px 1px 2px rgba(0, 0, 0, 0.3));\n",
              "      fill: #FFFFFF;\n",
              "    }\n",
              "  </style>\n",
              "\n",
              "    <script>\n",
              "      const buttonEl =\n",
              "        document.querySelector('#df-3c5c58af-eed1-42f0-9206-a89dd8561668 button.colab-df-convert');\n",
              "      buttonEl.style.display =\n",
              "        google.colab.kernel.accessAllowed ? 'block' : 'none';\n",
              "\n",
              "      async function convertToInteractive(key) {\n",
              "        const element = document.querySelector('#df-3c5c58af-eed1-42f0-9206-a89dd8561668');\n",
              "        const dataTable =\n",
              "          await google.colab.kernel.invokeFunction('convertToInteractive',\n",
              "                                                    [key], {});\n",
              "        if (!dataTable) return;\n",
              "\n",
              "        const docLinkHtml = 'Like what you see? Visit the ' +\n",
              "          '<a target=\"_blank\" href=https://colab.research.google.com/notebooks/data_table.ipynb>data table notebook</a>'\n",
              "          + ' to learn more about interactive tables.';\n",
              "        element.innerHTML = '';\n",
              "        dataTable['output_type'] = 'display_data';\n",
              "        await google.colab.output.renderOutput(dataTable, element);\n",
              "        const docLink = document.createElement('div');\n",
              "        docLink.innerHTML = docLinkHtml;\n",
              "        element.appendChild(docLink);\n",
              "      }\n",
              "    </script>\n",
              "  </div>\n",
              "\n",
              "\n",
              "<div id=\"df-da54acbc-22bd-45be-b421-55d4a2583b95\">\n",
              "  <button class=\"colab-df-quickchart\" onclick=\"quickchart('df-da54acbc-22bd-45be-b421-55d4a2583b95')\"\n",
              "            title=\"Suggest charts.\"\n",
              "            style=\"display:none;\">\n",
              "\n",
              "<svg xmlns=\"http://www.w3.org/2000/svg\" height=\"24px\"viewBox=\"0 0 24 24\"\n",
              "     width=\"24px\">\n",
              "    <g>\n",
              "        <path d=\"M19 3H5c-1.1 0-2 .9-2 2v14c0 1.1.9 2 2 2h14c1.1 0 2-.9 2-2V5c0-1.1-.9-2-2-2zM9 17H7v-7h2v7zm4 0h-2V7h2v10zm4 0h-2v-4h2v4z\"/>\n",
              "    </g>\n",
              "</svg>\n",
              "  </button>\n",
              "\n",
              "<style>\n",
              "  .colab-df-quickchart {\n",
              "      --bg-color: #E8F0FE;\n",
              "      --fill-color: #1967D2;\n",
              "      --hover-bg-color: #E2EBFA;\n",
              "      --hover-fill-color: #174EA6;\n",
              "      --disabled-fill-color: #AAA;\n",
              "      --disabled-bg-color: #DDD;\n",
              "  }\n",
              "\n",
              "  [theme=dark] .colab-df-quickchart {\n",
              "      --bg-color: #3B4455;\n",
              "      --fill-color: #D2E3FC;\n",
              "      --hover-bg-color: #434B5C;\n",
              "      --hover-fill-color: #FFFFFF;\n",
              "      --disabled-bg-color: #3B4455;\n",
              "      --disabled-fill-color: #666;\n",
              "  }\n",
              "\n",
              "  .colab-df-quickchart {\n",
              "    background-color: var(--bg-color);\n",
              "    border: none;\n",
              "    border-radius: 50%;\n",
              "    cursor: pointer;\n",
              "    display: none;\n",
              "    fill: var(--fill-color);\n",
              "    height: 32px;\n",
              "    padding: 0;\n",
              "    width: 32px;\n",
              "  }\n",
              "\n",
              "  .colab-df-quickchart:hover {\n",
              "    background-color: var(--hover-bg-color);\n",
              "    box-shadow: 0 1px 2px rgba(60, 64, 67, 0.3), 0 1px 3px 1px rgba(60, 64, 67, 0.15);\n",
              "    fill: var(--button-hover-fill-color);\n",
              "  }\n",
              "\n",
              "  .colab-df-quickchart-complete:disabled,\n",
              "  .colab-df-quickchart-complete:disabled:hover {\n",
              "    background-color: var(--disabled-bg-color);\n",
              "    fill: var(--disabled-fill-color);\n",
              "    box-shadow: none;\n",
              "  }\n",
              "\n",
              "  .colab-df-spinner {\n",
              "    border: 2px solid var(--fill-color);\n",
              "    border-color: transparent;\n",
              "    border-bottom-color: var(--fill-color);\n",
              "    animation:\n",
              "      spin 1s steps(1) infinite;\n",
              "  }\n",
              "\n",
              "  @keyframes spin {\n",
              "    0% {\n",
              "      border-color: transparent;\n",
              "      border-bottom-color: var(--fill-color);\n",
              "      border-left-color: var(--fill-color);\n",
              "    }\n",
              "    20% {\n",
              "      border-color: transparent;\n",
              "      border-left-color: var(--fill-color);\n",
              "      border-top-color: var(--fill-color);\n",
              "    }\n",
              "    30% {\n",
              "      border-color: transparent;\n",
              "      border-left-color: var(--fill-color);\n",
              "      border-top-color: var(--fill-color);\n",
              "      border-right-color: var(--fill-color);\n",
              "    }\n",
              "    40% {\n",
              "      border-color: transparent;\n",
              "      border-right-color: var(--fill-color);\n",
              "      border-top-color: var(--fill-color);\n",
              "    }\n",
              "    60% {\n",
              "      border-color: transparent;\n",
              "      border-right-color: var(--fill-color);\n",
              "    }\n",
              "    80% {\n",
              "      border-color: transparent;\n",
              "      border-right-color: var(--fill-color);\n",
              "      border-bottom-color: var(--fill-color);\n",
              "    }\n",
              "    90% {\n",
              "      border-color: transparent;\n",
              "      border-bottom-color: var(--fill-color);\n",
              "    }\n",
              "  }\n",
              "</style>\n",
              "\n",
              "  <script>\n",
              "    async function quickchart(key) {\n",
              "      const quickchartButtonEl =\n",
              "        document.querySelector('#' + key + ' button');\n",
              "      quickchartButtonEl.disabled = true;  // To prevent multiple clicks.\n",
              "      quickchartButtonEl.classList.add('colab-df-spinner');\n",
              "      try {\n",
              "        const charts = await google.colab.kernel.invokeFunction(\n",
              "            'suggestCharts', [key], {});\n",
              "      } catch (error) {\n",
              "        console.error('Error during call to suggestCharts:', error);\n",
              "      }\n",
              "      quickchartButtonEl.classList.remove('colab-df-spinner');\n",
              "      quickchartButtonEl.classList.add('colab-df-quickchart-complete');\n",
              "    }\n",
              "    (() => {\n",
              "      let quickchartButtonEl =\n",
              "        document.querySelector('#df-da54acbc-22bd-45be-b421-55d4a2583b95 button');\n",
              "      quickchartButtonEl.style.display =\n",
              "        google.colab.kernel.accessAllowed ? 'block' : 'none';\n",
              "    })();\n",
              "  </script>\n",
              "</div>\n",
              "    </div>\n",
              "  </div>\n"
            ],
            "text/plain": [
              "      index  highest_span   Emotion\n",
              "0  surprise             4  surprise\n",
              "1     anger            11     anger\n",
              "2   neutral             9   neutral\n",
              "3       joy             7       joy\n",
              "4      fear             0      fear\n",
              "5   disgust             2   disgust\n",
              "6   sadness             7   sadness"
            ]
          },
          "execution_count": 117,
          "metadata": {},
          "output_type": "execute_result"
        }
      ],
      "source": [
        "new = pd.DataFrame.from_dict([res])\n",
        "new =new.transpose()\n",
        "new=new.rename(columns={0: \"highest_span\"})\n",
        "# Create a new column with index values\n",
        "new['Emotion'] = new.index\n",
        "# new.drop(['index'],axis=1)\n",
        "new.reset_index()"
      ]
    },
    {
      "cell_type": "markdown",
      "metadata": {
        "id": "hvxgCzvd5ICx"
      },
      "source": [
        "#### average consecutive span"
      ]
    },
    {
      "cell_type": "code",
      "execution_count": null,
      "metadata": {
        "id": "i3mKYD2A6fVF"
      },
      "outputs": [],
      "source": [
        "emo_test_list = [\"neutral\", \"sadness\",\"fear\", \"surprise\", \"anger\", \"anger\", \"joy\",\"anger\",\"anger\",\"neutral\",\"neutral\"]"
      ]
    },
    {
      "cell_type": "code",
      "execution_count": null,
      "metadata": {
        "id": "6coRgoNb6Jw_"
      },
      "outputs": [],
      "source": [
        "def get_all_consec_terms(test_list):\n",
        "    # continuous_count_dict = {item:0 for item in test_list}\n",
        "    continuous_count_list = []\n",
        "\n",
        "    # temporary variable to store the last seen element\n",
        "    last_seen = None\n",
        "    count=1\n",
        "\n",
        "    for emo in test_list:\n",
        "        # if the occured value was last seen emotion\n",
        "        if emo == last_seen:\n",
        "            # update the counter\n",
        "            count +=1\n",
        "        else:\n",
        "            continuous_count_list.append({last_seen:count})\n",
        "            count=1\n",
        "            pass\n",
        "        # set the last seen emotion in current emotion\n",
        "        last_seen=emo\n",
        "\n",
        "    # Remove the none value\n",
        "    continuous_count_list.remove({None: 1})\n",
        "    return continuous_count_list"
      ]
    },
    {
      "cell_type": "code",
      "execution_count": null,
      "metadata": {
        "colab": {
          "base_uri": "https://localhost:8080/"
        },
        "id": "dnta79EB9PlA",
        "outputId": "a7155572-0577-446a-de20-49864811457e"
      },
      "outputs": [
        {
          "data": {
            "text/plain": [
              "[{'neutral': 1},\n",
              " {'sadness': 1},\n",
              " {'fear': 1},\n",
              " {'surprise': 1},\n",
              " {'anger': 2},\n",
              " {'joy': 1},\n",
              " {'anger': 2}]"
            ]
          },
          "execution_count": 120,
          "metadata": {},
          "output_type": "execute_result"
        }
      ],
      "source": [
        "dict_list=get_all_consec_terms(emo_test_list) # testing\n",
        "dict_list"
      ]
    },
    {
      "cell_type": "code",
      "execution_count": null,
      "metadata": {
        "colab": {
          "base_uri": "https://localhost:8080/"
        },
        "id": "ViAM2qXd5Opf",
        "outputId": "1da28436-7e29-4950-f741-8be1ea2a9ff0"
      },
      "outputs": [
        {
          "name": "stdout",
          "output_type": "stream",
          "text": [
            "key neutral total_span, 1 Occurance count 4\n",
            "key sadness total_span, 1 Occurance count 2\n",
            "key fear total_span, 1 Occurance count 2\n",
            "key surprise total_span, 1 Occurance count 2\n",
            "key anger total_span, 4 Occurance count 6\n",
            "key joy total_span, 1 Occurance count 2\n",
            "{'neutral': 1, 'sadness': 1, 'fear': 1, 'surprise': 1, 'anger': 4, 'joy': 1}\n"
          ]
        }
      ],
      "source": [
        "span_count_dict = {item:0 for item in emo_test_list}\n",
        "\n",
        "keys= span_count_dict.keys()\n",
        "\n",
        "for key in keys:\n",
        "    occurance_count=0\n",
        "    total_span = 0\n",
        "    # Get the occureance count of each key in the original list\n",
        "    occurance_count = emo_test_list.count(key)\n",
        "    for dict_item in dict_list:\n",
        "        # print(\"key\", key)\n",
        "        # print(list(dict_item.items())[0][0])\n",
        "        if list(dict_item.items())[0][0]==key:\n",
        "            occurance_count+=1\n",
        "            total_span+=dict_item.get(key)\n",
        "            span_count_dict[key]=total_span\n",
        "        else:\n",
        "            pass\n",
        "    print(\"key\",key,\"total_span,\",total_span,\"Occurance count\",occurance_count)\n",
        "\n",
        "print(span_count_dict)"
      ]
    },
    {
      "cell_type": "markdown",
      "metadata": {
        "id": "PV_exk-z0zbs"
      },
      "source": [
        "### Before and after emotion"
      ]
    },
    {
      "cell_type": "code",
      "execution_count": null,
      "metadata": {
        "id": "GP0NcVOjyzEi"
      },
      "outputs": [],
      "source": [
        "def get_emo_bfr_after_count(emo_test_list):\n",
        "\n",
        "    span_dict = {} # output goes here\n",
        "    current_emotion = None\n",
        "    count = 0\n",
        "\n",
        "    for i, emotion in enumerate(emo_test_list):\n",
        "        if i == 0:\n",
        "            current_emotion = emotion\n",
        "            count = 1\n",
        "        elif emotion != current_emotion:\n",
        "            if current_emotion not in span_dict:\n",
        "                span_dict[current_emotion] = []\n",
        "            span_dict[current_emotion].append({\n",
        "                'count': count,\n",
        "                'before': emo_test_list[i - 1],\n",
        "                'after': emotion\n",
        "            })\n",
        "            current_emotion = emotion\n",
        "            count = 1\n",
        "        else:\n",
        "            count += 1\n",
        "\n",
        "    return span_dict\n"
      ]
    },
    {
      "cell_type": "code",
      "execution_count": null,
      "metadata": {
        "id": "J9WUXw3-Z1te"
      },
      "outputs": [],
      "source": [
        "def get_emotion_spans(emotion_list: List[str]) -> Dict[str, List]:\n",
        "\n",
        "    span_dict = {} # output goes here\n",
        "    # current_emotion = None\n",
        "    last_seen = None\n",
        "    count = 1\n",
        "\n",
        "    for i, emotion in enumerate(emo_test_list):\n",
        "        # if the occured value was last seen emotion\n",
        "        if emotion == last_seen:\n",
        "            # update the counter\n",
        "            count +=1\n",
        "        else:\n",
        "            if emotion not in span_dict:\n",
        "                span_dict[emotion] = []\n",
        "            # add the emotion to the list\n",
        "            #  to check the previous emotion\n",
        "            if i-1>=0:\n",
        "                span_dict[emotion].append({\n",
        "                    'count': count,\n",
        "                    'before': emo_test_list[i - 1],\n",
        "                    'after': emotion\n",
        "                })\n",
        "            last_seen = emotion\n",
        "            count = 1\n",
        "            pass\n",
        "\n",
        "    return span_dict"
      ]
    },
    {
      "cell_type": "code",
      "execution_count": null,
      "metadata": {
        "colab": {
          "base_uri": "https://localhost:8080/"
        },
        "id": "FNFk0o9HqB3m",
        "outputId": "1cabc815-5b69-46bc-ce5f-b21f4bb77bbb"
      },
      "outputs": [
        {
          "data": {
            "text/plain": [
              "{'neutral': [{'count': 1, 'before': 'neutral', 'after': 'neutral'},\n",
              "  {'count': 2, 'before': 'anger', 'after': 'neutral'}],\n",
              " 'sadness': [{'count': 1, 'before': 'neutral', 'after': 'sadness'}],\n",
              " 'fear': [{'count': 1, 'before': 'sadness', 'after': 'fear'}],\n",
              " 'surprise': [{'count': 1, 'before': 'fear', 'after': 'surprise'}],\n",
              " 'anger': [{'count': 1, 'before': 'surprise', 'after': 'anger'},\n",
              "  {'count': 1, 'before': 'joy', 'after': 'anger'}],\n",
              " 'joy': [{'count': 2, 'before': 'anger', 'after': 'joy'}]}"
            ]
          },
          "execution_count": 29,
          "metadata": {},
          "output_type": "execute_result"
        }
      ],
      "source": [
        "get_emotion_spans(emo_test_list)"
      ]
    },
    {
      "cell_type": "code",
      "execution_count": null,
      "metadata": {
        "colab": {
          "base_uri": "https://localhost:8080/"
        },
        "id": "eyoaXn5I1WN5",
        "outputId": "8a26d06c-d775-4375-d1ec-f5b201754dcd"
      },
      "outputs": [
        {
          "data": {
            "text/plain": [
              "{'anger': [{'count': 1, 'before': 'anger', 'after': 'neutral'}]}"
            ]
          },
          "execution_count": 126,
          "metadata": {},
          "output_type": "execute_result"
        }
      ],
      "source": [
        "df_with_dictionary = df_with_list.copy()\n",
        "sr_with_dictionary = df_with_dictionary['Emotion'].apply(lambda row: get_emo_bfr_after_count(row))\n",
        "sr_with_dictionary[0:5][1]"
      ]
    },
    {
      "cell_type": "markdown",
      "metadata": {
        "id": "claIQxCc3w2O"
      },
      "source": [
        "#### Most common emotion"
      ]
    },
    {
      "cell_type": "code",
      "execution_count": null,
      "metadata": {
        "colab": {
          "base_uri": "https://localhost:8080/"
        },
        "id": "Ntt0ymCa32nM",
        "outputId": "944212f2-aaa6-4d60-b840-e40deac64233"
      },
      "outputs": [
        {
          "data": {
            "text/plain": [
              "pandas.core.frame.DataFrame"
            ]
          },
          "execution_count": 124,
          "metadata": {},
          "output_type": "execute_result"
        }
      ],
      "source": [
        "type(df_with_dictionary)"
      ]
    },
    {
      "cell_type": "code",
      "source": [
        "df_2 = df.copy()\n",
        "by_emo = df_2.groupby(\"Emotion\")"
      ],
      "metadata": {
        "id": "i8pqxKhXxagb"
      },
      "execution_count": null,
      "outputs": []
    },
    {
      "cell_type": "markdown",
      "metadata": {
        "id": "bX-ZIHUAKIyc"
      },
      "source": [
        "## Emotion DF <<<<"
      ]
    },
    {
      "cell_type": "markdown",
      "metadata": {
        "id": "AB8ENPLPD1yz"
      },
      "source": [
        "- [ ] emotion_df;\n",
        "    - [x] emotion_name\n",
        "    - [x] uttr.\n",
        "    - [x] persons showed\n",
        "    - [x] dialog that this is the most popular\n",
        "    - [x] max. cont. span of the emotion\n",
        "    - [ ] avg. \"\"\"\"\"\n",
        "    - [ ]  min. \"\"\"\"\"\n",
        "    - [ ] most common emotion after\n",
        "    - [ ] most common emotion before\n",
        "    - [ ] most common replying party motion to this\n",
        "    - [ ] least common emotion after\n",
        "    - [ ] least common emotion before\n",
        "    - [ ] least common replying party motion to this"
      ]
    },
    {
      "cell_type": "code",
      "execution_count": null,
      "metadata": {
        "id": "FP2JVErg6Bvy"
      },
      "outputs": [],
      "source": [
        "def df_by_emotion(df):\n",
        "    df_2 = df.copy()\n",
        "    by_emo = df_2.groupby(\"Emotion\")\n",
        "\n",
        "    # number of utterances (lines) per emotion\n",
        "    no_of_utterances = by_emo.Utterance.size()\n",
        "\n",
        "    # Total speach time for each emotion\n",
        "    speech_time = by_emo['Utterance_time'].sum()\n",
        "\n",
        "    # List of speakers showed the emotion\n",
        "    speakers = by_emo.Speaker.unique()\n",
        "\n",
        "    # Number of speakers showed the emotion\n",
        "    num_speakers = by_emo.Speaker.nunique()\n",
        "\n",
        "    # unique sentiments\n",
        "    sentiments = by_emo.Sentiment.unique()\n",
        "\n",
        "    # number of unique sentiments\n",
        "    num_sentiments = by_emo.Sentiment.nunique()\n",
        "\n",
        "    # most common in dialogue\n",
        "    dialogue_no = by_emo.Dialogue_ID.agg(pd.Series.mode)\n",
        "\n",
        "    emotion_df = pd.DataFrame(\n",
        "        {'no_of_utterances': no_of_utterances,\n",
        "         'speech_time':speech_time,\n",
        "         'speakers':speakers,\n",
        "         'num_speakers':num_speakers,\n",
        "         'sentiments':sentiments,\n",
        "         \"num_sentiments\":num_sentiments,\n",
        "         'most_Frequent_in_dialogue': dialogue_no\n",
        "         }\n",
        "        )\n",
        "    emotion_df['higest_span'] = new['highest_span']\n",
        "    return emotion_df\n"
      ]
    },
    {
      "cell_type": "code",
      "execution_count": null,
      "metadata": {
        "id": "nIcbwk2b_2Aq"
      },
      "outputs": [],
      "source": [
        "emotion_df = df_by_emotion(dataframe)\n",
        "emotion_df.head()"
      ]
    },
    {
      "cell_type": "markdown",
      "metadata": {
        "id": "HGpDZ_VcGDwR"
      },
      "source": [
        "# Emotion Analysis"
      ]
    },
    {
      "cell_type": "markdown",
      "metadata": {
        "id": "Hy_2p3ZDGDwS"
      },
      "source": [
        "Emotion Transitions:\n",
        "- transitions between emotions for each speaker's utterance.\n",
        "  - sudden shifts\n",
        "  - gradual transitions\n",
        "  - repeated emotional\n",
        "\n",
        "Intensity\n",
        "\n",
        "Emotion Dynamics:\n",
        "- converge to same\n",
        "- diverge\n",
        "\n",
        "Turn-Taking and Emotions:\n",
        "- emotions change during turn-taking between speakers.\n",
        "  - does not change during turn-taking\n",
        "  - changes\n",
        "\n",
        "Contextual Triggers:\n",
        "- Specific words, topics, or events trigger emotional changes.\n",
        "\n",
        "Long-Term Trends:\n",
        "Speaker-Specific Patterns:\n",
        "\n",
        "Emotional Resonance:\n",
        "- speaker's emotion seems to resonate with the other\n",
        "  - ex: empathetic responses or emotional contagion.\n",
        "\n",
        "Dialogue Arcs:\n",
        "Look for narrative arcs within the dialogue. Do emotions follow a rising-falling pattern, similar to a story's structure?\n",
        "\n",
        "Social Dynamics:\n",
        "- emotions change in relation to\n",
        "  - power dynamics\n",
        "  - social roles\n",
        "  - relationships\n",
        "\n",
        "- emotion change with the situation\n",
        "  certain emotions emerge during moments of\n",
        "  - conflict\n",
        "  - agreement\n",
        "  - negotiation\n",
        "\n",
        "\n",
        "\n",
        "\n",
        "\n"
      ]
    },
    {
      "cell_type": "markdown",
      "metadata": {
        "id": "1HiooQmoGDwS"
      },
      "source": [
        "---\n",
        "speakers per dialogue\n",
        "avg of uttarance\n",
        "gap between two utterences\n",
        "time taken by speaker to reply\n",
        "speaker and their emotions/sentiment distribution\n"
      ]
    },
    {
      "cell_type": "markdown",
      "metadata": {
        "id": "kFbleS56GDwS"
      },
      "source": [
        "We observe that the number of such\n",
        "emotion shifts in successive utterances of a speaker\n",
        "in a dialogue is very frequent: 4003, 427, and 1003\n",
        "in train/dev/test splits, respectively"
      ]
    }
  ],
  "metadata": {
    "colab": {
      "provenance": [],
      "toc_visible": true,
      "include_colab_link": true
    },
    "kernelspec": {
      "display_name": "Python 3",
      "language": "python",
      "name": "python3"
    },
    "language_info": {
      "codemirror_mode": {
        "name": "ipython",
        "version": 3
      },
      "file_extension": ".py",
      "mimetype": "text/x-python",
      "name": "python",
      "nbconvert_exporter": "python",
      "pygments_lexer": "ipython3",
      "version": "3.10.11"
    }
  },
  "nbformat": 4,
  "nbformat_minor": 0
}