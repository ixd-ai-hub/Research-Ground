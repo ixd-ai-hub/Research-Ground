{
  "cells": [
    {
      "cell_type": "markdown",
      "source": [
        "## Set up enviroment"
      ],
      "metadata": {
        "id": "_VD6RptUIiVZ"
      },
      "id": "_VD6RptUIiVZ"
    },
    {
      "cell_type": "code",
      "source": [
        "import os\n",
        "HOME = os.getcwd()\n",
        "print(\"HOME:\", HOME)"
      ],
      "metadata": {
        "colab": {
          "base_uri": "https://localhost:8080/"
        },
        "id": "X8xgWFulIbEk",
        "outputId": "a9dc6a6f-e8a2-417a-f9a6-09d94de3be30"
      },
      "id": "X8xgWFulIbEk",
      "execution_count": null,
      "outputs": [
        {
          "output_type": "stream",
          "name": "stdout",
          "text": [
            "HOME: /content\n"
          ]
        }
      ]
    },
    {
      "cell_type": "code",
      "source": [
        "from google.colab import drive\n",
        "drive.mount('/content/drive')"
      ],
      "metadata": {
        "id": "M5EKnF3sIbnR",
        "colab": {
          "base_uri": "https://localhost:8080/"
        },
        "outputId": "30141d37-42da-455d-9e9f-8ad9ec228746"
      },
      "id": "M5EKnF3sIbnR",
      "execution_count": null,
      "outputs": [
        {
          "output_type": "stream",
          "name": "stdout",
          "text": [
            "Mounted at /content/drive\n"
          ]
        }
      ]
    },
    {
      "cell_type": "code",
      "execution_count": null,
      "id": 2.7299665331067346e+38,
      "metadata": {
        "id": 2.7299665331067346e+38,
        "colab": {
          "base_uri": "https://localhost:8080/",
          "height": 1000
        },
        "outputId": "49764311-ea31-4c1c-cda0-8d53701300fe"
      },
      "outputs": [
        {
          "output_type": "stream",
          "name": "stdout",
          "text": [
            "/content\n",
            "Looking in indexes: https://pypi.org/simple, https://us-python.pkg.dev/colab-wheels/public/simple/\n",
            "Collecting git+https://github.com/facebookresearch/segment-anything.git\n",
            "  Cloning https://github.com/facebookresearch/segment-anything.git to /tmp/pip-req-build-_b20nx2s\n",
            "  Running command git clone --filter=blob:none --quiet https://github.com/facebookresearch/segment-anything.git /tmp/pip-req-build-_b20nx2s\n",
            "  Resolved https://github.com/facebookresearch/segment-anything.git to commit 6fdee8f2727f4506cfbbe553e23b895e27956588\n",
            "  Preparing metadata (setup.py) ... \u001b[?25l\u001b[?25hdone\n",
            "Building wheels for collected packages: segment-anything\n",
            "  Building wheel for segment-anything (setup.py) ... \u001b[?25l\u001b[?25hdone\n",
            "  Created wheel for segment-anything: filename=segment_anything-1.0-py3-none-any.whl size=36589 sha256=c2081b3784de7e6a8cb59ddbc515bf0a8eea128e8344231ed9a8e5cb491648fa\n",
            "  Stored in directory: /tmp/pip-ephem-wheel-cache-agsg78pw/wheels/10/cf/59/9ccb2f0a1bcc81d4fbd0e501680b5d088d690c6cfbc02dc99d\n",
            "Successfully built segment-anything\n",
            "Installing collected packages: segment-anything\n",
            "Successfully installed segment-anything-1.0\n",
            "Looking in indexes: https://pypi.org/simple, https://us-python.pkg.dev/colab-wheels/public/simple/\n",
            "Collecting imagededup\n",
            "  Downloading imagededup-0.3.2-cp310-cp310-manylinux_2_17_x86_64.manylinux2014_x86_64.whl (176 kB)\n",
            "\u001b[2K     \u001b[90m━━━━━━━━━━━━━━━━━━━━━━━━━━━━━━━━━━━━━━━\u001b[0m \u001b[32m176.0/176.0 kB\u001b[0m \u001b[31m6.7 MB/s\u001b[0m eta \u001b[36m0:00:00\u001b[0m\n",
            "\u001b[?25hRequirement already satisfied: torch in /usr/local/lib/python3.10/dist-packages (from imagededup) (2.0.1+cu118)\n",
            "Requirement already satisfied: torchvision in /usr/local/lib/python3.10/dist-packages (from imagededup) (0.15.2+cu118)\n",
            "Collecting Pillow>=9.0 (from imagededup)\n",
            "  Downloading Pillow-9.5.0-cp310-cp310-manylinux_2_28_x86_64.whl (3.4 MB)\n",
            "\u001b[2K     \u001b[90m━━━━━━━━━━━━━━━━━━━━━━━━━━━━━━━━━━━━━━━━\u001b[0m \u001b[32m3.4/3.4 MB\u001b[0m \u001b[31m67.9 MB/s\u001b[0m eta \u001b[36m0:00:00\u001b[0m\n",
            "\u001b[?25hRequirement already satisfied: tqdm in /usr/local/lib/python3.10/dist-packages (from imagededup) (4.65.0)\n",
            "Requirement already satisfied: scikit-learn in /usr/local/lib/python3.10/dist-packages (from imagededup) (1.2.2)\n",
            "Requirement already satisfied: PyWavelets in /usr/local/lib/python3.10/dist-packages (from imagededup) (1.4.1)\n",
            "Requirement already satisfied: matplotlib in /usr/local/lib/python3.10/dist-packages (from imagededup) (3.7.1)\n",
            "Requirement already satisfied: contourpy>=1.0.1 in /usr/local/lib/python3.10/dist-packages (from matplotlib->imagededup) (1.0.7)\n",
            "Requirement already satisfied: cycler>=0.10 in /usr/local/lib/python3.10/dist-packages (from matplotlib->imagededup) (0.11.0)\n",
            "Requirement already satisfied: fonttools>=4.22.0 in /usr/local/lib/python3.10/dist-packages (from matplotlib->imagededup) (4.39.3)\n",
            "Requirement already satisfied: kiwisolver>=1.0.1 in /usr/local/lib/python3.10/dist-packages (from matplotlib->imagededup) (1.4.4)\n",
            "Requirement already satisfied: numpy>=1.20 in /usr/local/lib/python3.10/dist-packages (from matplotlib->imagededup) (1.22.4)\n",
            "Requirement already satisfied: packaging>=20.0 in /usr/local/lib/python3.10/dist-packages (from matplotlib->imagededup) (23.1)\n",
            "Requirement already satisfied: pyparsing>=2.3.1 in /usr/local/lib/python3.10/dist-packages (from matplotlib->imagededup) (3.0.9)\n",
            "Requirement already satisfied: python-dateutil>=2.7 in /usr/local/lib/python3.10/dist-packages (from matplotlib->imagededup) (2.8.2)\n",
            "Requirement already satisfied: scipy>=1.3.2 in /usr/local/lib/python3.10/dist-packages (from scikit-learn->imagededup) (1.10.1)\n",
            "Requirement already satisfied: joblib>=1.1.1 in /usr/local/lib/python3.10/dist-packages (from scikit-learn->imagededup) (1.2.0)\n",
            "Requirement already satisfied: threadpoolctl>=2.0.0 in /usr/local/lib/python3.10/dist-packages (from scikit-learn->imagededup) (3.1.0)\n",
            "Requirement already satisfied: filelock in /usr/local/lib/python3.10/dist-packages (from torch->imagededup) (3.12.0)\n",
            "Requirement already satisfied: typing-extensions in /usr/local/lib/python3.10/dist-packages (from torch->imagededup) (4.5.0)\n",
            "Requirement already satisfied: sympy in /usr/local/lib/python3.10/dist-packages (from torch->imagededup) (1.11.1)\n",
            "Requirement already satisfied: networkx in /usr/local/lib/python3.10/dist-packages (from torch->imagededup) (3.1)\n",
            "Requirement already satisfied: jinja2 in /usr/local/lib/python3.10/dist-packages (from torch->imagededup) (3.1.2)\n",
            "Requirement already satisfied: triton==2.0.0 in /usr/local/lib/python3.10/dist-packages (from torch->imagededup) (2.0.0)\n",
            "Requirement already satisfied: cmake in /usr/local/lib/python3.10/dist-packages (from triton==2.0.0->torch->imagededup) (3.25.2)\n",
            "Requirement already satisfied: lit in /usr/local/lib/python3.10/dist-packages (from triton==2.0.0->torch->imagededup) (16.0.5)\n",
            "Requirement already satisfied: requests in /usr/local/lib/python3.10/dist-packages (from torchvision->imagededup) (2.27.1)\n",
            "Requirement already satisfied: six>=1.5 in /usr/local/lib/python3.10/dist-packages (from python-dateutil>=2.7->matplotlib->imagededup) (1.16.0)\n",
            "Requirement already satisfied: MarkupSafe>=2.0 in /usr/local/lib/python3.10/dist-packages (from jinja2->torch->imagededup) (2.1.2)\n",
            "Requirement already satisfied: urllib3<1.27,>=1.21.1 in /usr/local/lib/python3.10/dist-packages (from requests->torchvision->imagededup) (1.26.15)\n",
            "Requirement already satisfied: certifi>=2017.4.17 in /usr/local/lib/python3.10/dist-packages (from requests->torchvision->imagededup) (2022.12.7)\n",
            "Requirement already satisfied: charset-normalizer~=2.0.0 in /usr/local/lib/python3.10/dist-packages (from requests->torchvision->imagededup) (2.0.12)\n",
            "Requirement already satisfied: idna<4,>=2.5 in /usr/local/lib/python3.10/dist-packages (from requests->torchvision->imagededup) (3.4)\n",
            "Requirement already satisfied: mpmath>=0.19 in /usr/local/lib/python3.10/dist-packages (from sympy->torch->imagededup) (1.3.0)\n",
            "Installing collected packages: Pillow, imagededup\n",
            "  Attempting uninstall: Pillow\n",
            "    Found existing installation: Pillow 8.4.0\n",
            "    Uninstalling Pillow-8.4.0:\n",
            "      Successfully uninstalled Pillow-8.4.0\n",
            "Successfully installed Pillow-9.5.0 imagededup-0.3.2\n"
          ]
        },
        {
          "output_type": "display_data",
          "data": {
            "application/vnd.colab-display-data+json": {
              "pip_warning": {
                "packages": [
                  "PIL"
                ]
              }
            }
          },
          "metadata": {}
        },
        {
          "output_type": "stream",
          "name": "stdout",
          "text": [
            "\u001b[?25l     \u001b[90m━━━━━━━━━━━━━━━━━━━━━━━━━━━━━━━━━━━━━━━━\u001b[0m \u001b[32m0.0/367.8 kB\u001b[0m \u001b[31m?\u001b[0m eta \u001b[36m-:--:--\u001b[0m\r\u001b[2K     \u001b[91m━━━━━━━━━━━━━━━━━━━━━━━━━━━━━━━━━━━━━\u001b[0m\u001b[90m╺\u001b[0m \u001b[32m358.4/367.8 kB\u001b[0m \u001b[31m13.5 MB/s\u001b[0m eta \u001b[36m0:00:01\u001b[0m\r\u001b[2K     \u001b[90m━━━━━━━━━━━━━━━━━━━━━━━━━━━━━━━━━━━━━━\u001b[0m \u001b[32m367.8/367.8 kB\u001b[0m \u001b[31m10.2 MB/s\u001b[0m eta \u001b[36m0:00:00\u001b[0m\n",
            "\u001b[2K     \u001b[90m━━━━━━━━━━━━━━━━━━━━━━━━━━━━━━━━━━━━━━━━\u001b[0m \u001b[32m56.3/56.3 kB\u001b[0m \u001b[31m7.1 MB/s\u001b[0m eta \u001b[36m0:00:00\u001b[0m\n",
            "\u001b[2K     \u001b[90m━━━━━━━━━━━━━━━━━━━━━━━━━━━━━━━━━━━━━━━━\u001b[0m \u001b[32m45.4/45.4 kB\u001b[0m \u001b[31m5.3 MB/s\u001b[0m eta \u001b[36m0:00:00\u001b[0m\n",
            "\u001b[2K     \u001b[90m━━━━━━━━━━━━━━━━━━━━━━━━━━━━━━━━━━━━━━━━\u001b[0m \u001b[32m58.8/58.8 kB\u001b[0m \u001b[31m7.0 MB/s\u001b[0m eta \u001b[36m0:00:00\u001b[0m\n",
            "\u001b[2K     \u001b[90m━━━━━━━━━━━━━━━━━━━━━━━━━━━━━━━━━━━━━━━━\u001b[0m \u001b[32m67.8/67.8 kB\u001b[0m \u001b[31m8.3 MB/s\u001b[0m eta \u001b[36m0:00:00\u001b[0m\n",
            "\u001b[?25h  Preparing metadata (setup.py) ... \u001b[?25l\u001b[?25hdone\n",
            "\u001b[2K     \u001b[90m━━━━━━━━━━━━━━━━━━━━━━━━━━━━━━━━━━━━━━━━\u001b[0m \u001b[32m54.5/54.5 kB\u001b[0m \u001b[31m6.9 MB/s\u001b[0m eta \u001b[36m0:00:00\u001b[0m\n",
            "\u001b[2K     \u001b[90m━━━━━━━━━━━━━━━━━━━━━━━━━━━━━━━━━━━━━━━━\u001b[0m \u001b[32m49.1/49.1 kB\u001b[0m \u001b[31m6.4 MB/s\u001b[0m eta \u001b[36m0:00:00\u001b[0m\n",
            "\u001b[2K     \u001b[90m━━━━━━━━━━━━━━━━━━━━━━━━━━━━━━━━━━━━━━━━\u001b[0m \u001b[32m1.6/1.6 MB\u001b[0m \u001b[31m59.3 MB/s\u001b[0m eta \u001b[36m0:00:00\u001b[0m\n",
            "\u001b[?25h  Building wheel for wget (setup.py) ... \u001b[?25l\u001b[?25hdone\n",
            "Looking in indexes: https://pypi.org/simple, https://us-python.pkg.dev/colab-wheels/public/simple/\n",
            "Collecting pillow==7.1.2\n",
            "  Downloading Pillow-7.1.2.tar.gz (38.9 MB)\n",
            "\u001b[2K     \u001b[90m━━━━━━━━━━━━━━━━━━━━━━━━━━━━━━━━━━━━━━━━\u001b[0m \u001b[32m38.9/38.9 MB\u001b[0m \u001b[31m25.7 MB/s\u001b[0m eta \u001b[36m0:00:00\u001b[0m\n",
            "\u001b[?25h  Preparing metadata (setup.py) ... \u001b[?25l\u001b[?25hdone\n",
            "Building wheels for collected packages: pillow\n",
            "  Building wheel for pillow (setup.py) ... \u001b[?25l\u001b[?25hdone\n",
            "  Created wheel for pillow: filename=Pillow-7.1.2-cp310-cp310-linux_x86_64.whl size=1301468 sha256=47347e4d22874692d39f7ada0258f7e362d49122e17f918f660a1ad45d86552c\n",
            "  Stored in directory: /root/.cache/pip/wheels/b1/33/ce/d1c30cb9fc3ba1b8e60a01d4f49e35a1e65b6911bd3722e3e9\n",
            "Successfully built pillow\n",
            "Installing collected packages: pillow\n",
            "  Attempting uninstall: pillow\n",
            "    Found existing installation: Pillow 9.5.0\n",
            "    Uninstalling Pillow-9.5.0:\n",
            "      Successfully uninstalled Pillow-9.5.0\n",
            "\u001b[31mERROR: pip's dependency resolver does not currently take into account all the packages that are installed. This behaviour is the source of the following dependency conflicts.\n",
            "imagededup 0.3.2 requires Pillow>=9.0, but you have pillow 7.1.2 which is incompatible.\n",
            "imageio 2.25.1 requires pillow>=8.3.2, but you have pillow 7.1.2 which is incompatible.\u001b[0m\u001b[31m\n",
            "\u001b[0mSuccessfully installed pillow-7.1.2\n"
          ]
        },
        {
          "output_type": "display_data",
          "data": {
            "application/vnd.colab-display-data+json": {
              "pip_warning": {
                "packages": [
                  "PIL"
                ]
              }
            }
          },
          "metadata": {}
        },
        {
          "output_type": "stream",
          "name": "stdout",
          "text": [
            "\u001b[2K     \u001b[90m━━━━━━━━━━━━━━━━━━━━━━━━━━━━━━━━━━━━━━━━\u001b[0m \u001b[32m20.0/20.0 MB\u001b[0m \u001b[31m84.9 MB/s\u001b[0m eta \u001b[36m0:00:00\u001b[0m\n",
            "\u001b[2K     \u001b[90m━━━━━━━━━━━━━━━━━━━━━━━━━━━━━━━━━━━━━━━━\u001b[0m \u001b[32m1.0/1.0 MB\u001b[0m \u001b[31m71.6 MB/s\u001b[0m eta \u001b[36m0:00:00\u001b[0m\n",
            "\u001b[2K     \u001b[90m━━━━━━━━━━━━━━━━━━━━━━━━━━━━━━━━━━━━━━━━\u001b[0m \u001b[32m57.1/57.1 kB\u001b[0m \u001b[31m7.1 MB/s\u001b[0m eta \u001b[36m0:00:00\u001b[0m\n",
            "\u001b[?25h  Preparing metadata (setup.py) ... \u001b[?25l\u001b[?25hdone\n",
            "\u001b[2K     \u001b[90m━━━━━━━━━━━━━━━━━━━━━━━━━━━━━━━━━━━━━━\u001b[0m \u001b[32m288.3/288.3 kB\u001b[0m \u001b[31m32.2 MB/s\u001b[0m eta \u001b[36m0:00:00\u001b[0m\n",
            "\u001b[2K     \u001b[90m━━━━━━━━━━━━━━━━━━━━━━━━━━━━━━━━━━━━━━━━\u001b[0m \u001b[32m75.4/75.4 kB\u001b[0m \u001b[31m10.9 MB/s\u001b[0m eta \u001b[36m0:00:00\u001b[0m\n",
            "\u001b[2K     \u001b[90m━━━━━━━━━━━━━━━━━━━━━━━━━━━━━━━━━━━━━━\u001b[0m \u001b[32m236.8/236.8 kB\u001b[0m \u001b[31m27.0 MB/s\u001b[0m eta \u001b[36m0:00:00\u001b[0m\n",
            "\u001b[2K     \u001b[90m━━━━━━━━━━━━━━━━━━━━━━━━━━━━━━━━━━━━━━━━\u001b[0m \u001b[32m50.5/50.5 kB\u001b[0m \u001b[31m7.0 MB/s\u001b[0m eta \u001b[36m0:00:00\u001b[0m\n",
            "\u001b[2K     \u001b[90m━━━━━━━━━━━━━━━━━━━━━━━━━━━━━━━━━━━━━━\u001b[0m \u001b[32m137.0/137.0 kB\u001b[0m \u001b[31m15.1 MB/s\u001b[0m eta \u001b[36m0:00:00\u001b[0m\n",
            "\u001b[2K     \u001b[90m━━━━━━━━━━━━━━━━━━━━━━━━━━━━━━━━━━━━━━━━\u001b[0m \u001b[32m45.7/45.7 kB\u001b[0m \u001b[31m5.8 MB/s\u001b[0m eta \u001b[36m0:00:00\u001b[0m\n",
            "\u001b[2K     \u001b[90m━━━━━━━━━━━━━━━━━━━━━━━━━━━━━━━━━━━━━━━━\u001b[0m \u001b[32m58.3/58.3 kB\u001b[0m \u001b[31m6.1 MB/s\u001b[0m eta \u001b[36m0:00:00\u001b[0m\n",
            "\u001b[2K     \u001b[90m━━━━━━━━━━━━━━━━━━━━━━━━━━━━━━━━━━━━━━\u001b[0m \u001b[32m129.9/129.9 kB\u001b[0m \u001b[31m18.0 MB/s\u001b[0m eta \u001b[36m0:00:00\u001b[0m\n",
            "\u001b[2K     \u001b[90m━━━━━━━━━━━━━━━━━━━━━━━━━━━━━━━━━━━━━━━━\u001b[0m \u001b[32m58.3/58.3 kB\u001b[0m \u001b[31m4.4 MB/s\u001b[0m eta \u001b[36m0:00:00\u001b[0m\n",
            "\u001b[2K     \u001b[90m━━━━━━━━━━━━━━━━━━━━━━━━━━━━━━━━━━━━━━\u001b[0m \u001b[32m114.5/114.5 kB\u001b[0m \u001b[31m16.3 MB/s\u001b[0m eta \u001b[36m0:00:00\u001b[0m\n",
            "\u001b[2K     \u001b[90m━━━━━━━━━━━━━━━━━━━━━━━━━━━━━━━━━━━━━━\u001b[0m \u001b[32m268.8/268.8 kB\u001b[0m \u001b[31m33.9 MB/s\u001b[0m eta \u001b[36m0:00:00\u001b[0m\n",
            "\u001b[2K     \u001b[90m━━━━━━━━━━━━━━━━━━━━━━━━━━━━━━━━━━━━━━\u001b[0m \u001b[32m149.6/149.6 kB\u001b[0m \u001b[31m18.6 MB/s\u001b[0m eta \u001b[36m0:00:00\u001b[0m\n",
            "\u001b[2K     \u001b[90m━━━━━━━━━━━━━━━━━━━━━━━━━━━━━━━━━━━━━━━━\u001b[0m \u001b[32m67.0/67.0 kB\u001b[0m \u001b[31m9.1 MB/s\u001b[0m eta \u001b[36m0:00:00\u001b[0m\n",
            "\u001b[2K     \u001b[90m━━━━━━━━━━━━━━━━━━━━━━━━━━━━━━━━━━━━━━━━\u001b[0m \u001b[32m72.5/72.5 kB\u001b[0m \u001b[31m9.0 MB/s\u001b[0m eta \u001b[36m0:00:00\u001b[0m\n",
            "\u001b[?25h  Building wheel for ffmpy (setup.py) ... \u001b[?25l\u001b[?25hdone\n"
          ]
        }
      ],
      "source": [
        "# install SAM model\n",
        "%cd {HOME}\n",
        "\n",
        "import sys\n",
        "!{sys.executable} -m pip install 'git+https://github.com/facebookresearch/segment-anything.git'\n",
        "!pip install imagededup\n",
        "!pip install -q jupyter_bbox_widget roboflow dataclasses-json supervision\n",
        "!pip install pillow==7.1.2\n",
        "!pip install -q gradio"
      ]
    },
    {
      "cell_type": "code",
      "source": [
        "# dowload SAM weights\n",
        "%cd {HOME}\n",
        "!mkdir {HOME}/weights\n",
        "%cd {HOME}/weights\n",
        "\n",
        "!wget -q https://dl.fbaipublicfiles.com/segment_anything/sam_vit_h_4b8939.pth"
      ],
      "metadata": {
        "id": "iHE6I0ApIg96",
        "colab": {
          "base_uri": "https://localhost:8080/"
        },
        "outputId": "f9b753f2-246e-4eae-8e71-0eca54b8253f"
      },
      "id": "iHE6I0ApIg96",
      "execution_count": null,
      "outputs": [
        {
          "output_type": "stream",
          "name": "stdout",
          "text": [
            "/content\n",
            "/content/weights\n"
          ]
        }
      ]
    },
    {
      "cell_type": "markdown",
      "source": [
        "## Inti the SAM model"
      ],
      "metadata": {
        "id": "cXSczkNMIpFn"
      },
      "id": "cXSczkNMIpFn"
    },
    {
      "cell_type": "code",
      "source": [
        "import os\n",
        "\n",
        "CHECKPOINT_PATH = os.path.join(HOME, \"weights\", \"sam_vit_h_4b8939.pth\")\n",
        "print(CHECKPOINT_PATH, \"; exist:\", os.path.isfile(CHECKPOINT_PATH))"
      ],
      "metadata": {
        "id": "AA7FcwaRIo3B",
        "colab": {
          "base_uri": "https://localhost:8080/"
        },
        "outputId": "200394bd-31d0-4af7-8db5-e55430f9a52f"
      },
      "id": "AA7FcwaRIo3B",
      "execution_count": null,
      "outputs": [
        {
          "output_type": "stream",
          "name": "stdout",
          "text": [
            "/content/weights/sam_vit_h_4b8939.pth ; exist: True\n"
          ]
        }
      ]
    },
    {
      "cell_type": "code",
      "source": [
        "#  Load Model\n",
        "import torch\n",
        "\n",
        "DEVICE = torch.device('cuda:0' if torch.cuda.is_available() else 'cpu')\n",
        "MODEL_TYPE = \"vit_h\""
      ],
      "metadata": {
        "id": "M57MEwUxI0df"
      },
      "id": "M57MEwUxI0df",
      "execution_count": null,
      "outputs": []
    },
    {
      "cell_type": "code",
      "source": [
        "from segment_anything import sam_model_registry, SamAutomaticMaskGenerator, SamPredictor\n",
        "\n",
        "sam = sam_model_registry[MODEL_TYPE](checkpoint=CHECKPOINT_PATH).to(device=DEVICE)\n",
        "#  Automatic Mask Generation\n",
        "mask_generator = SamAutomaticMaskGenerator(sam)"
      ],
      "metadata": {
        "id": "RPzmPQIKI0ap"
      },
      "id": "RPzmPQIKI0ap",
      "execution_count": null,
      "outputs": []
    },
    {
      "cell_type": "code",
      "source": [
        "import matplotlib.pyplot as plt\n",
        "import cv2\n",
        "from matplotlib.patches import Rectangle\n",
        "from PIL import Image\n",
        "from collections import defaultdict\n",
        "import time\n",
        "\n",
        "from imagededup.methods import CNN\n",
        "from sklearn.metrics.pairwise import cosine_similarity\n",
        "import numpy as np"
      ],
      "metadata": {
        "id": "RzUb_dRxI3Oe",
        "colab": {
          "base_uri": "https://localhost:8080/"
        },
        "outputId": "594ea661-4a12-4839-f7a3-0e870c2afa82"
      },
      "id": "RzUb_dRxI3Oe",
      "execution_count": null,
      "outputs": [
        {
          "output_type": "stream",
          "name": "stderr",
          "text": [
            "Downloading: \"https://download.pytorch.org/models/mobilenet_v3_small-047dcff4.pth\" to /root/.cache/torch/hub/checkpoints/mobilenet_v3_small-047dcff4.pth\n",
            "100%|██████████| 9.83M/9.83M [00:00<00:00, 79.5MB/s]\n"
          ]
        }
      ]
    },
    {
      "cell_type": "markdown",
      "source": [
        "## building object recognizer"
      ],
      "metadata": {
        "id": "iY5XNZYcI5fZ"
      },
      "id": "iY5XNZYcI5fZ"
    },
    {
      "cell_type": "code",
      "source": [
        "def load_image(path):\n",
        "  image_bgr = cv2.imread(path)\n",
        "  image_rgb = cv2.cvtColor(image_bgr, cv2.COLOR_BGR2RGB)\n",
        "  return image_rgb"
      ],
      "metadata": {
        "id": "l7nzaZtOI8kp"
      },
      "id": "l7nzaZtOI8kp",
      "execution_count": null,
      "outputs": []
    },
    {
      "cell_type": "code",
      "source": [
        "def detect_objects(image, model, img_encoder, base_labels, base_feats, color_dict, thr=0.75):\n",
        "  # generate segmentations\n",
        "  start = time.perf_counter()\n",
        "  sam_result = model.generate(image)\n",
        "  print(f\"Time taken for inference: {time.perf_counter()-start} milli. sec\")\n",
        "\n",
        "  plt.figure(figsize=(10,12))\n",
        "  for c in sam_result:\n",
        "    x,y,w,h = [int(i) for i in c['bbox']]\n",
        "\n",
        "    # plt.text(int(x), int(y), str(c['predicted_iou'])[:4])\n",
        "    f = image[y:y+h, x:x+w, :]\n",
        "    # print(f.shape, x,y,w,h, image_rgb.shape)\n",
        "    vec = img_encoder.encode_image(image_array=f)\n",
        "    sims = cosine_similarity(base_feats, vec)\n",
        "    lbl = np.argmax(sims)\n",
        "    cls = labels[lbl]\n",
        "    # print(f, sims[lbl], labels[lbl])\n",
        "    if sims[lbl] > thr:\n",
        "      plt.gca().add_patch(Rectangle((x,y),w,h,linewidth=1,edgecolor=color_dict[cls],facecolor='none'))\n",
        "      plt.text(int(x), int(y), cls)\n",
        "\n",
        "  plt.imshow(image)\n",
        "  plt.show()"
      ],
      "metadata": {
        "id": "LK6imBDYI-Xl"
      },
      "id": "LK6imBDYI-Xl",
      "execution_count": null,
      "outputs": []
    },
    {
      "cell_type": "code",
      "source": [
        "base_path = \"/content/drive/MyDrive/Shelf\""
      ],
      "metadata": {
        "id": "zfQTMTf9I-U5"
      },
      "id": "zfQTMTf9I-U5",
      "execution_count": null,
      "outputs": []
    },
    {
      "cell_type": "code",
      "source": [
        "imgencoder = CNN()\n",
        "encoding_map = imgencoder.encode_images(image_dir=base_path+'/Bases')\n",
        "\n",
        "lbl_dict = defaultdict(list)\n",
        "for k,v in encoding_map.items():\n",
        "  lbl = k.split('-')[0]\n",
        "  lbl_dict[lbl].append(v)"
      ],
      "metadata": {
        "id": "t-JbO-6AJBVi",
        "colab": {
          "base_uri": "https://localhost:8080/"
        },
        "outputId": "be3663ce-ea2f-4b78-9ffd-1fa8737d5af3"
      },
      "id": "t-JbO-6AJBVi",
      "execution_count": null,
      "outputs": [
        {
          "output_type": "stream",
          "name": "stderr",
          "text": [
            "2023-06-09 05:59:58,865: INFO Device set to cuda ..\n",
            "INFO:imagededup.methods.cnn:Device set to cuda ..\n",
            "2023-06-09 05:59:58,880: INFO Initialized: mobilenet_v3_small for feature extraction ..\n",
            "INFO:imagededup.methods.cnn:Initialized: mobilenet_v3_small for feature extraction ..\n",
            "2023-06-09 05:59:58,895: INFO Start: Image encoding generation\n",
            "INFO:imagededup.methods.cnn:Start: Image encoding generation\n",
            "2023-06-09 06:00:11,180: INFO End: Image encoding generation\n",
            "INFO:imagededup.methods.cnn:End: Image encoding generation\n"
          ]
        }
      ]
    },
    {
      "cell_type": "code",
      "source": [
        "labels, feats = [], []\n",
        "for l, fs in lbl_dict.items():\n",
        "  labels.append(l)\n",
        "  feats.append(np.array(fs).mean(axis=0))"
      ],
      "metadata": {
        "id": "vcPv4WKnJBOZ"
      },
      "id": "vcPv4WKnJBOZ",
      "execution_count": null,
      "outputs": []
    },
    {
      "cell_type": "code",
      "source": [
        "def detect_objects(image, model, img_encoder, base_labels, base_feats, thr=0.75):\n",
        "  # print(\"image :\", image)\n",
        "  # generate segmentations\n",
        "  sam_result = model.generate(image)\n",
        "  results = []\n",
        "  for c in sam_result:\n",
        "    x,y,w,h = [int(i) for i in c['bbox']]\n",
        "\n",
        "    # plt.text(int(x), int(y), str(c['predicted_iou'])[:4])\n",
        "    f = image[y:y+h, x:x+w, :]\n",
        "    # print(f.shape, x,y,w,h, image_rgb.shape)\n",
        "    vec = img_encoder.encode_image(image_array=f)\n",
        "    sims = cosine_similarity(base_feats, vec)\n",
        "    lbl = np.argmax(sims)\n",
        "    cls = base_labels[lbl]\n",
        "    # print(f, sims[lbl], labels[lbl])\n",
        "    if sims[lbl] > thr:\n",
        "      results.append([x,y,w,h,cls])\n",
        "  return results"
      ],
      "metadata": {
        "id": "Uvw8VpyNNe8w"
      },
      "id": "Uvw8VpyNNe8w",
      "execution_count": null,
      "outputs": []
    },
    {
      "cell_type": "code",
      "execution_count": null,
      "id": 2.8891853944186117e+38,
      "metadata": {
        "id": 2.8891853944186117e+38,
        "colab": {
          "base_uri": "https://localhost:8080/",
          "height": 688
        },
        "outputId": "e4df05a9-f1aa-4c05-c3db-768e4740ee8b"
      },
      "outputs": [
        {
          "output_type": "stream",
          "name": "stdout",
          "text": [
            "Colab notebook detected. This cell will run indefinitely so that you can see errors and logs. To turn off, set debug=False in launch().\n",
            "Note: opening Chrome Inspector may crash demo inside Colab notebooks.\n",
            "\n",
            "To create a public link, set `share=True` in `launch()`.\n"
          ]
        },
        {
          "output_type": "display_data",
          "data": {
            "text/plain": [
              "<IPython.core.display.Javascript object>"
            ],
            "application/javascript": [
              "(async (port, path, width, height, cache, element) => {\n",
              "                        if (!google.colab.kernel.accessAllowed && !cache) {\n",
              "                            return;\n",
              "                        }\n",
              "                        element.appendChild(document.createTextNode(''));\n",
              "                        const url = await google.colab.kernel.proxyPort(port, {cache});\n",
              "\n",
              "                        const external_link = document.createElement('div');\n",
              "                        external_link.innerHTML = `\n",
              "                            <div style=\"font-family: monospace; margin-bottom: 0.5rem\">\n",
              "                                Running on <a href=${new URL(path, url).toString()} target=\"_blank\">\n",
              "                                    https://localhost:${port}${path}\n",
              "                                </a>\n",
              "                            </div>\n",
              "                        `;\n",
              "                        element.appendChild(external_link);\n",
              "\n",
              "                        const iframe = document.createElement('iframe');\n",
              "                        iframe.src = new URL(path, url).toString();\n",
              "                        iframe.height = height;\n",
              "                        iframe.allow = \"autoplay; camera; microphone; clipboard-read; clipboard-write;\"\n",
              "                        iframe.width = width;\n",
              "                        iframe.style.border = 0;\n",
              "                        element.appendChild(iframe);\n",
              "                    })(7860, \"/\", \"100%\", 500, false, window.element)"
            ]
          },
          "metadata": {}
        },
        {
          "output_type": "stream",
          "name": "stdout",
          "text": [
            "boxes :  [[183, 0, 81, 96, 'napkins'], [258, 0, 73, 120, 'tilecleaner'], [374, 614, 81, 105, 'toiletpaper'], [552, 154, 40, 70, 'toiletpaper'], [324, 38, 62, 94, 'toiletpaper'], [281, 628, 100, 91, 'toiletpaper'], [597, 305, 34, 82, 'toiletpaper'], [324, 0, 63, 143, 'tilecleaner'], [480, 109, 40, 84, 'toiletpaper'], [479, 50, 41, 145, 'tilecleaner'], [543, 294, 47, 88, 'toiletpaper'], [433, 89, 47, 83, 'napkins'], [381, 65, 55, 88, 'tilecleaner'], [519, 401, 47, 159, 'tilecleaner'], [294, 281, 101, 78, 'napkins'], [565, 474, 34, 78, 'napkins'], [174, 274, 121, 72, 'napkins'], [433, 26, 47, 153, 'tilecleaner'], [450, 500, 56, 69, 'napkins'], [517, 133, 30, 73, 'toiletpaper'], [381, 0, 56, 163, 'tilecleaner'], [520, 474, 46, 76, 'napkins'], [564, 403, 36, 152, 'tilecleaner'], [299, 209, 100, 84, 'napkins'], [178, 199, 124, 89, 'napkins'], [383, 503, 67, 77, 'napkins'], [632, 315, 36, 76, 'toiletpaper'], [593, 175, 39, 64, 'toiletpaper'], [452, 436, 56, 64, 'napkins'], [300, 507, 83, 84, 'napkins'], [458, 249, 55, 124, 'napkins'], [306, 432, 81, 77, 'napkins'], [458, 309, 53, 64, 'napkins'], [634, 192, 32, 60, 'toiletpaper'], [596, 406, 34, 143, 'tilecleaner'], [332, 0, 54, 55, 'tilecleaner'], [657, 634, 32, 60, 'napkins'], [450, 436, 58, 133, 'napkins'], [524, 0, 64, 72, 'napkins'], [460, 248, 53, 69, 'napkins'], [174, 200, 129, 146, 'napkins'], [582, 657, 39, 62, 'napkins'], [690, 626, 27, 55, 'napkins'], [386, 434, 66, 71, 'napkins'], [393, 296, 64, 70, 'napkins'], [589, 0, 35, 65, 'napkins'], [397, 230, 63, 75, 'napkins'], [388, 4, 48, 74, 'tilecleaner'], [509, 607, 72, 75, 'napkins'], [650, 581, 39, 59, 'napkins'], [572, 598, 49, 66, 'napkins'], [589, 45, 35, 50, 'napkins'], [393, 230, 67, 136, 'napkins'], [297, 209, 102, 150, 'napkins'], [609, 589, 48, 112, 'napkins'], [700, 306, 32, 93, 'tilecleaner'], [683, 70, 25, 48, 'napkins'], [534, 671, 46, 48, 'napkins'], [713, 571, 28, 49, 'napkins'], [180, 511, 123, 95, 'napkins'], [177, 428, 133, 87, 'napkins'], [383, 434, 70, 145, 'napkins']]\n",
            "boxes :  [[438, 499, 94, 159, 'toiletpaper'], [533, 497, 88, 154, 'toiletpaper'], [414, 272, 88, 80, 'napkins'], [224, 504, 116, 170, 'toiletpaper'], [80, 8, 129, 113, 'napkins'], [624, 496, 82, 148, 'toiletpaper'], [411, 351, 89, 79, 'napkins'], [71, 88, 136, 80, 'napkins'], [907, 142, 67, 89, 'toiletpaper'], [456, 35, 67, 52, 'wax'], [737, 389, 53, 42, 'wax'], [1131, 533, 68, 88, 'napkins'], [759, 126, 79, 94, 'toiletpaper'], [59, 632, 102, 69, 'wax'], [216, 95, 80, 58, 'wax'], [211, 141, 83, 34, 'wax'], [847, 392, 60, 40, 'wax'], [217, 345, 103, 85, 'napkins'], [0, 530, 73, 62, 'wax'], [0, 192, 78, 237, 'tilecleaner'], [64, 579, 102, 65, 'wax'], [1097, 322, 65, 109, 'toiletpaper'], [0, 637, 63, 70, 'wax'], [584, 281, 77, 75, 'napkins'], [1013, 319, 89, 112, 'toiletpaper'], [70, 302, 96, 117, 'napkins'], [1140, 168, 63, 77, 'napkins'], [526, 45, 64, 49, 'wax'], [13, 31, 68, 77, 'napkins'], [838, 134, 71, 92, 'toiletpaper'], [1156, 324, 64, 107, 'toiletpaper'], [1130, 455, 70, 176, 'tilecleaner'], [217, 49, 82, 63, 'wax'], [347, 291, 67, 58, 'napkins'], [1195, 534, 46, 89, 'tilecleaner'], [69, 199, 98, 230, 'tilecleaner'], [0, 297, 75, 116, 'napkins'], [1200, 173, 41, 74, 'napkins'], [661, 296, 57, 62, 'napkins'], [391, 65, 63, 46, 'wax'], [73, 9, 137, 159, 'napkins'], [591, 176, 64, 29, 'wax'], [0, 476, 78, 59, 'wax'], [1078, 158, 44, 84, 'napkins'], [388, 144, 64, 44, 'wax'], [1020, 154, 59, 80, 'napkins'], [1105, 0, 100, 81, 'napkins'], [68, 527, 101, 61, 'wax'], [502, 277, 82, 77, 'napkins'], [452, 120, 69, 49, 'wax'], [318, 349, 94, 81, 'napkins'], [959, 316, 54, 39, 'wax'], [1238, 177, 41, 71, 'napkins'], [593, 94, 61, 45, 'wax'], [726, 264, 62, 43, 'wax'], [6, 106, 68, 51, 'napkins'], [451, 163, 69, 31, 'wax'], [0, 657, 57, 50, 'wax'], [533, 365, 89, 286, 'toiletpaper'], [453, 77, 69, 50, 'wax'], [956, 279, 54, 39, 'wax'], [1062, 531, 45, 87, 'tilecleaner'], [296, 149, 77, 33, 'wax'], [217, 262, 128, 167, 'napkins'], [223, 262, 123, 85, 'napkins'], [651, 96, 46, 38, 'wax'], [63, 651, 91, 50, 'wax'], [656, 182, 62, 28, 'wax'], [841, 272, 62, 42, 'wax'], [7, 30, 73, 126, 'napkins'], [1068, 92, 54, 150, 'tilecleaner'], [1037, 320, 64, 101, 'toiletpaper'], [1179, 454, 63, 174, 'tilecleaner'], [525, 86, 65, 47, 'wax'], [1053, 456, 55, 164, 'tilecleaner'], [1153, 0, 52, 81, 'napkins'], [524, 127, 66, 47, 'wax'], [299, 103, 76, 56, 'wax'], [902, 276, 56, 40, 'wax'], [500, 353, 83, 78, 'napkins'], [1140, 103, 63, 146, 'tilecleaner'], [961, 394, 56, 38, 'wax'], [1237, 532, 42, 80, 'tilecleaner'], [593, 54, 62, 46, 'wax'], [1019, 86, 61, 153, 'tilecleaner'], [222, 4, 80, 61, 'wax'], [996, 566, 61, 72, 'napkins'], [1220, 114, 59, 141, 'tilecleaner'], [0, 547, 69, 45, 'wax'], [0, 583, 70, 67, 'wax'], [78, 491, 90, 41, 'wax'], [591, 135, 64, 45, 'wax'], [932, 569, 64, 74, 'napkins'], [583, 356, 78, 75, 'napkins'], [727, 346, 62, 43, 'wax'], [662, 358, 74, 73, 'napkins'], [1108, 125, 36, 119, 'tilecleaner'], [1220, 454, 59, 170, 'tilecleaner'], [1092, 455, 45, 162, 'tilecleaner'], [301, 59, 76, 55, 'wax'], [391, 104, 62, 47, 'wax'], [0, 492, 73, 43, 'wax'], [991, 496, 61, 71, 'napkins'], [523, 170, 66, 30, 'wax'], [928, 498, 65, 72, 'napkins'], [959, 355, 56, 38, 'wax'], [865, 572, 68, 77, 'napkins'], [726, 305, 62, 42, 'wax'], [1182, 109, 59, 142, 'tilecleaner'], [388, 112, 65, 76, 'wax'], [984, 110, 40, 124, 'tilecleaner'], [76, 476, 97, 56, 'wax'], [1020, 0, 87, 66, 'napkins'], [69, 596, 90, 48, 'wax'], [411, 271, 92, 159, 'napkins'], [75, 476, 99, 108, 'wax'], [889, 0, 54, 41, 'wax'], [304, 15, 75, 57, 'wax'], [1106, 0, 53, 73, 'napkins'], [902, 315, 56, 39, 'wax'], [215, 56, 82, 96, 'wax'], [74, 543, 89, 45, 'wax'], [834, 0, 58, 33, 'wax'], [834, 0, 53, 25, 'wax'], [843, 312, 60, 40, 'wax'], [906, 357, 57, 74, 'wax'], [218, 5, 82, 103, 'wax'], [781, 0, 56, 25, 'wax'], [0, 602, 63, 48, 'wax'], [928, 497, 69, 147, 'napkins'], [845, 351, 60, 40, 'wax'], [651, 131, 46, 39, 'wax'], [1190, 671, 84, 48, 'napkins'], [524, 128, 65, 71, 'wax'], [841, 272, 63, 79, 'wax'], [1020, 0, 185, 80, 'napkins'], [990, 496, 67, 142, 'napkins'], [222, 4, 80, 36, 'wax'], [651, 96, 47, 73, 'wax'], [862, 499, 68, 75, 'napkins'], [993, 13, 28, 40, 'napkins'], [1031, 254, 248, 177, 'toiletpaper'], [592, 54, 62, 85, 'wax'], [904, 353, 56, 40, 'wax'], [1041, 157, 36, 43, 'napkins'], [906, 393, 56, 39, 'wax'], [738, 558, 128, 96, 'napkins'], [458, 49, 64, 37, 'wax'], [757, 498, 105, 79, 'napkins'], [585, 356, 152, 74, 'napkins'], [501, 277, 159, 82, 'napkins'], [736, 352, 50, 36, 'wax'], [469, 548, 61, 43, 'napkins'], [728, 278, 56, 28, 'wax'], [1011, 456, 54, 166, 'napkins'], [959, 329, 52, 26, 'wax']]\n",
            "Keyboard interruption in main thread... closing server.\n"
          ]
        },
        {
          "output_type": "execute_result",
          "data": {
            "text/plain": []
          },
          "metadata": {},
          "execution_count": 16
        }
      ],
      "source": [
        "import gradio as gr\n",
        "import numpy as np\n",
        "import random\n",
        "\n",
        "with gr.Blocks() as demo:\n",
        "    section_labels = labels\n",
        "\n",
        "    with gr.Row():\n",
        "        img_input = gr.Image(type='numpy')\n",
        "        # print(type(img_input))\n",
        "        img_output = gr.AnnotatedImage().style(\n",
        "            color_map=dict(zip(labels, ['#9336B4','#4942E4','#FFE79B','#413543']))  #{\"banana\": \"#a89a00\", \"carrot\": \"#ffae00\"}\n",
        "        )\n",
        "\n",
        "    section_btn = gr.Button(\"Identify Sections\")\n",
        "    selected_section = gr.Textbox(label=\"Selected Section\")\n",
        "\n",
        "    def section(img):\n",
        "        boxes = detect_objects(img, mask_generator, imgencoder, labels, feats, thr=0.76)\n",
        "        print(\"boxes : \", boxes)\n",
        "        sections = []\n",
        "        for x,y,w,h,a in boxes:\n",
        "            sections.append(((x, y, x + w, y + h), a))\n",
        "        # for b in range(num_segments):\n",
        "        #     x = random.randint(0, img.shape[1])\n",
        "        #     y = random.randint(0, img.shape[0])\n",
        "        #     r = random.randint(0, min(x, y, img.shape[1] - x, img.shape[0] - y))\n",
        "        #     mask = np.zeros(img.shape[:2])\n",
        "        #     for i in range(img.shape[0]):\n",
        "        #         for j in range(img.shape[1]):\n",
        "        #             dist_square = (i - y) ** 2 + (j - x) ** 2\n",
        "        #             if dist_square < r**2:\n",
        "        #                 mask[i, j] = round((r**2 - dist_square) / r**2 * 4) / 4\n",
        "        #     sections.append((mask, section_labels[b + num_boxes]))\n",
        "        return (img, sections)\n",
        "\n",
        "    # boxes = detect_objects(img_input, mask_generator, imgencoder, labels, feats, thr=0.76)\n",
        "    section_btn.click(section, [img_input], img_output)\n",
        "\n",
        "    def select_section(evt: gr.SelectData):\n",
        "        return section_labels[evt.index]\n",
        "\n",
        "    img_output.select(select_section, None, selected_section)\n",
        "\n",
        "demo.launch(debug=True)\n"
      ]
    },
    {
      "cell_type": "code",
      "source": [],
      "metadata": {
        "id": "KEoeXa8NLTaK"
      },
      "id": "KEoeXa8NLTaK",
      "execution_count": null,
      "outputs": []
    }
  ],
  "metadata": {
    "colab": {
      "provenance": [],
      "gpuType": "T4"
    },
    "language_info": {
      "name": "python"
    },
    "kernelspec": {
      "name": "python3",
      "display_name": "Python 3"
    },
    "accelerator": "GPU"
  },
  "nbformat": 4,
  "nbformat_minor": 5
}